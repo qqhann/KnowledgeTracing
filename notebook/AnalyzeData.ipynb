{
 "cells": [
  {
   "cell_type": "code",
   "execution_count": 2,
   "metadata": {
    "ExecuteTime": {
     "end_time": "2019-03-19T14:46:28.575172Z",
     "start_time": "2019-03-19T14:46:28.571402Z"
    }
   },
   "outputs": [],
   "source": [
    "import os\n",
    "import sys\n",
    "import pickle\n",
    "import torch\n",
    "import torch.nn as nn\n",
    "import pandas as pd\n",
    "import codecs\n",
    "from pathlib import Path\n",
    "from math import log, ceil\n",
    "\n",
    "sys.path.append('..')\n",
    "from src.data import prepare_data, SOURCE_ASSIST0910_SELF, SOURCE_ASSIST0910_ORIG"
   ]
  },
  {
   "cell_type": "code",
   "execution_count": 3,
   "metadata": {
    "ExecuteTime": {
     "end_time": "2019-03-19T14:43:58.863961Z",
     "start_time": "2019-03-19T14:43:58.860785Z"
    }
   },
   "outputs": [],
   "source": [
    "dirname = Path().resolve()\n",
    "infname = dirname.parent / 'data/raw_input/skill_builder_data_corrected.csv'"
   ]
  },
  {
   "cell_type": "code",
   "execution_count": 4,
   "metadata": {
    "ExecuteTime": {
     "end_time": "2019-03-19T14:46:57.942438Z",
     "start_time": "2019-03-19T14:46:56.355775Z"
    }
   },
   "outputs": [
    {
     "name": "stderr",
     "output_type": "stream",
     "text": [
      "/home/qqhann/miniconda3/lib/python3.7/site-packages/IPython/core/interactiveshell.py:3044: DtypeWarning: Columns (17) have mixed types. Specify dtype option on import or set low_memory=False.\n",
      "  interactivity=interactivity, compiler=compiler, result=result)\n"
     ]
    }
   ],
   "source": [
    "with codecs.open(infname, 'r', 'utf-8', 'ignore') as f:\n",
    "    df = pd.read_csv(f)"
   ]
  },
  {
   "cell_type": "code",
   "execution_count": 7,
   "metadata": {},
   "outputs": [
    {
     "data": {
      "text/plain": [
       "array([  1.,   2.,   4.,   5.,   8.,   9.,  10.,  11.,  12.,  13.,  14.,\n",
       "        15.,  16.,  17.,  18.,  21.,  22.,  24.,  25.,  26.,  27.,  32.,\n",
       "        34.,  35.,  37.,  39.,  40.,  42.,  43.,  46.,  47.,  48.,  49.,\n",
       "        50.,  51.,  53.,  54.,  58.,  61.,  63.,  64.,  65.,  67.,  69.,\n",
       "        70.,  74.,  75.,  76.,  77.,  79.,  80.,  81.,  82.,  83.,  84.,\n",
       "        85.,  86.,  91.,  92.,  94.,  96.,  97.,  99., 101., 102., 104.,\n",
       "       105., 110., 163., 165., 166., 173., 190., 193., 203., 204., 217.,\n",
       "       221., 276., 277., 278., 279., 280., 290., 292., 293., 294., 295.,\n",
       "       296., 297., 298., 299., 301., 303., 307., 308., 309., 310., 311.,\n",
       "       312., 314., 317., 321., 322., 323., 324., 325., 331., 333., 334.,\n",
       "       340., 343., 346., 348., 350., 356., 362., 365., 367., 368., 371.,\n",
       "       375., 378.,  nan])"
      ]
     },
     "execution_count": 7,
     "metadata": {},
     "output_type": "execute_result"
    }
   ],
   "source": [
    "df['skill_id'].unique()"
   ]
  },
  {
   "cell_type": "code",
   "execution_count": 8,
   "metadata": {},
   "outputs": [
    {
     "data": {
      "text/plain": [
       "124"
      ]
     },
     "execution_count": 8,
     "metadata": {},
     "output_type": "execute_result"
    }
   ],
   "source": [
    "len(df['skill_id'].unique())"
   ]
  },
  {
   "cell_type": "code",
   "execution_count": 9,
   "metadata": {},
   "outputs": [
    {
     "ename": "AttributeError",
     "evalue": "'Series' object has no attribute 'is_nan'",
     "output_type": "error",
     "traceback": [
      "\u001b[0;31m---------------------------------------------------------------------------\u001b[0m",
      "\u001b[0;31mAttributeError\u001b[0m                            Traceback (most recent call last)",
      "\u001b[0;32m<ipython-input-9-254e05f324d5>\u001b[0m in \u001b[0;36m<module>\u001b[0;34m\u001b[0m\n\u001b[0;32m----> 1\u001b[0;31m \u001b[0mdf\u001b[0m\u001b[0;34m[\u001b[0m\u001b[0;34m'skill_id'\u001b[0m\u001b[0;34m]\u001b[0m\u001b[0;34m.\u001b[0m\u001b[0mis_nan\u001b[0m\u001b[0;34m(\u001b[0m\u001b[0;34m)\u001b[0m\u001b[0;34m\u001b[0m\u001b[0;34m\u001b[0m\u001b[0m\n\u001b[0m",
      "\u001b[0;32m~/miniconda3/lib/python3.7/site-packages/pandas/core/generic.py\u001b[0m in \u001b[0;36m__getattr__\u001b[0;34m(self, name)\u001b[0m\n\u001b[1;32m   5065\u001b[0m             \u001b[0;32mif\u001b[0m \u001b[0mself\u001b[0m\u001b[0;34m.\u001b[0m\u001b[0m_info_axis\u001b[0m\u001b[0;34m.\u001b[0m\u001b[0m_can_hold_identifiers_and_holds_name\u001b[0m\u001b[0;34m(\u001b[0m\u001b[0mname\u001b[0m\u001b[0;34m)\u001b[0m\u001b[0;34m:\u001b[0m\u001b[0;34m\u001b[0m\u001b[0;34m\u001b[0m\u001b[0m\n\u001b[1;32m   5066\u001b[0m                 \u001b[0;32mreturn\u001b[0m \u001b[0mself\u001b[0m\u001b[0;34m[\u001b[0m\u001b[0mname\u001b[0m\u001b[0;34m]\u001b[0m\u001b[0;34m\u001b[0m\u001b[0;34m\u001b[0m\u001b[0m\n\u001b[0;32m-> 5067\u001b[0;31m             \u001b[0;32mreturn\u001b[0m \u001b[0mobject\u001b[0m\u001b[0;34m.\u001b[0m\u001b[0m__getattribute__\u001b[0m\u001b[0;34m(\u001b[0m\u001b[0mself\u001b[0m\u001b[0;34m,\u001b[0m \u001b[0mname\u001b[0m\u001b[0;34m)\u001b[0m\u001b[0;34m\u001b[0m\u001b[0;34m\u001b[0m\u001b[0m\n\u001b[0m\u001b[1;32m   5068\u001b[0m \u001b[0;34m\u001b[0m\u001b[0m\n\u001b[1;32m   5069\u001b[0m     \u001b[0;32mdef\u001b[0m \u001b[0m__setattr__\u001b[0m\u001b[0;34m(\u001b[0m\u001b[0mself\u001b[0m\u001b[0;34m,\u001b[0m \u001b[0mname\u001b[0m\u001b[0;34m,\u001b[0m \u001b[0mvalue\u001b[0m\u001b[0;34m)\u001b[0m\u001b[0;34m:\u001b[0m\u001b[0;34m\u001b[0m\u001b[0;34m\u001b[0m\u001b[0m\n",
      "\u001b[0;31mAttributeError\u001b[0m: 'Series' object has no attribute 'is_nan'"
     ]
    }
   ],
   "source": [
    "df['skill_id'].is_nan()"
   ]
  },
  {
   "cell_type": "code",
   "execution_count": 26,
   "metadata": {
    "ExecuteTime": {
     "end_time": "2019-03-19T15:22:31.766933Z",
     "start_time": "2019-03-19T15:22:31.607369Z"
    }
   },
   "outputs": [
    {
     "data": {
      "text/plain": [
       "['              346860 order_id        ',\n",
       " '                3521 assignment_id   ',\n",
       " '                4217 user_id         ',\n",
       " '               17725 assistment_id   ',\n",
       " '               26688 problem_id      ',\n",
       " '                   2 original        ',\n",
       " '                   2 correct         ',\n",
       " '                 200 attempt_count   ',\n",
       " '               87721 ms_first_response',\n",
       " '                   2 tutor_mode      ',\n",
       " '                   5 answer_type     ',\n",
       " '                 677 sequence_id     ',\n",
       " '                 250 student_class_id',\n",
       " '                 283 position        ',\n",
       " '                   1 type            ',\n",
       " '                 366 base_sequence_id',\n",
       " '                 124 skill_id        ',\n",
       " '                 111 skill_name      ',\n",
       " '                 153 teacher_id      ',\n",
       " '                  75 school_id       ',\n",
       " '                   9 hint_count      ',\n",
       " '                  10 hint_total      ',\n",
       " '              101182 overlap_time    ',\n",
       " '                 816 template_id     ',\n",
       " '                8314 answer_id       ',\n",
       " '               17211 answer_text     ',\n",
       " '                   3 first_action    ',\n",
       " '                   3 bottom_hint     ',\n",
       " '                1020 opportunity     ',\n",
       " '                 916 opportunity_original']"
      ]
     },
     "execution_count": 26,
     "metadata": {},
     "output_type": "execute_result"
    }
   ],
   "source": [
    "['{:>20} {:<16}'.format(len(df[c].unique()), c) for c in df.columns]"
   ]
  },
  {
   "cell_type": "code",
   "execution_count": 33,
   "metadata": {
    "ExecuteTime": {
     "end_time": "2019-03-20T11:38:14.797134Z",
     "start_time": "2019-03-20T11:38:14.784005Z"
    },
    "scrolled": true
   },
   "outputs": [
    {
     "data": {
      "text/plain": [
       "array([  1.,   2.,   4.,   5.,   8.,   9.,  10.,  11.,  12.,  13.,  14.,\n",
       "        15.,  16.,  17.,  18.,  21.,  22.,  24.,  25.,  26.,  27.,  32.,\n",
       "        34.,  35.,  37.,  39.,  40.,  42.,  43.,  46.,  47.,  48.,  49.,\n",
       "        50.,  51.,  53.,  54.,  58.,  61.,  63.,  64.,  65.,  67.,  69.,\n",
       "        70.,  74.,  75.,  76.,  77.,  79.,  80.,  81.,  82.,  83.,  84.,\n",
       "        85.,  86.,  91.,  92.,  94.,  96.,  97.,  99., 101., 102., 104.,\n",
       "       105., 110., 163., 165., 166., 173., 190., 193., 203., 204., 217.,\n",
       "       221., 276., 277., 278., 279., 280., 290., 292., 293., 294., 295.,\n",
       "       296., 297., 298., 299., 301., 303., 307., 308., 309., 310., 311.,\n",
       "       312., 314., 317., 321., 322., 323., 324., 325., 331., 333., 334.,\n",
       "       340., 343., 346., 348., 350., 356., 362., 365., 367., 368., 371.,\n",
       "       375., 378.,  nan])"
      ]
     },
     "execution_count": 33,
     "metadata": {},
     "output_type": "execute_result"
    }
   ],
   "source": [
    "df.skill_id.unique()"
   ]
  },
  {
   "cell_type": "markdown",
   "metadata": {},
   "source": [
    "skikk_idは124ユニークで、\n",
    "DKT論文で使われた"
   ]
  },
  {
   "cell_type": "code",
   "execution_count": null,
   "metadata": {},
   "outputs": [],
   "source": []
  }
 ],
 "metadata": {
  "kernelspec": {
   "display_name": "Python 3",
   "language": "python",
   "name": "python3"
  },
  "language_info": {
   "codemirror_mode": {
    "name": "ipython",
    "version": 3
   },
   "file_extension": ".py",
   "mimetype": "text/x-python",
   "name": "python",
   "nbconvert_exporter": "python",
   "pygments_lexer": "ipython3",
   "version": "3.7.4"
  },
  "toc": {
   "nav_menu": {},
   "number_sections": true,
   "sideBar": true,
   "skip_h1_title": false,
   "title_cell": "Table of Contents",
   "title_sidebar": "Contents",
   "toc_cell": false,
   "toc_position": {},
   "toc_section_display": true,
   "toc_window_display": false
  }
 },
 "nbformat": 4,
 "nbformat_minor": 4
}
