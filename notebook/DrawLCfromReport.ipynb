{
 "cells": [
  {
   "cell_type": "code",
   "execution_count": 24,
   "metadata": {},
   "outputs": [],
   "source": [
    "import os\n",
    "import pandas as pd\n",
    "import numpy as np\n",
    "import json\n",
    "import pickle\n",
    "from collections import defaultdict\n",
    "from pathlib import Path\n",
    "import matplotlib.pyplot as plt\n",
    "import seaborn as sns\n",
    "\n",
    "import torch\n",
    "\n",
    "import os, sys\n",
    "parentPath = os.path.abspath(\"..\")\n",
    "if parentPath not in sys.path:\n",
    "    sys.path.insert(0, parentPath)\n",
    "    \n",
    "from src.data import prepare_data, load_source, slice_d"
   ]
  },
  {
   "cell_type": "code",
   "execution_count": 58,
   "metadata": {},
   "outputs": [
    {
     "name": "stdout",
     "output_type": "stream",
     "text": [
      "41\t0.84841\n",
      "41\t0.848169\n"
     ]
    },
    {
     "data": {
      "text/html": [
       "<div>\n",
       "<style scoped>\n",
       "    .dataframe tbody tr th:only-of-type {\n",
       "        vertical-align: middle;\n",
       "    }\n",
       "\n",
       "    .dataframe tbody tr th {\n",
       "        vertical-align: top;\n",
       "    }\n",
       "\n",
       "    .dataframe thead th {\n",
       "        text-align: right;\n",
       "    }\n",
       "</style>\n",
       "<table border=\"1\" class=\"dataframe\">\n",
       "  <thead>\n",
       "    <tr style=\"text-align: right;\">\n",
       "      <th></th>\n",
       "      <th>ksvector_l1</th>\n",
       "      <th>ksvector_l1_lambda</th>\n",
       "      <th>eval_auc</th>\n",
       "      <th>best_epoch</th>\n",
       "      <th>waviness_l1</th>\n",
       "      <th>waviness_l2</th>\n",
       "      <th>name</th>\n",
       "    </tr>\n",
       "  </thead>\n",
       "  <tbody>\n",
       "    <tr>\n",
       "      <td>0</td>\n",
       "      <td>0.010628</td>\n",
       "      <td>0.0</td>\n",
       "      <td>0.848410</td>\n",
       "      <td>41</td>\n",
       "      <td>0.032010</td>\n",
       "      <td>0.003674</td>\n",
       "      <td>/code/output/1126_pakdd_ksvector/20191126-0858...</td>\n",
       "    </tr>\n",
       "    <tr>\n",
       "      <td>1</td>\n",
       "      <td>0.009781</td>\n",
       "      <td>0.5</td>\n",
       "      <td>0.848169</td>\n",
       "      <td>41</td>\n",
       "      <td>0.031029</td>\n",
       "      <td>0.003433</td>\n",
       "      <td>/code/output/1126_pakdd_ksvector/20191126-0858...</td>\n",
       "    </tr>\n",
       "  </tbody>\n",
       "</table>\n",
       "</div>"
      ],
      "text/plain": [
       "   ksvector_l1  ksvector_l1_lambda  eval_auc best_epoch  waviness_l1  \\\n",
       "0     0.010628                 0.0  0.848410         41     0.032010   \n",
       "1     0.009781                 0.5  0.848169         41     0.031029   \n",
       "\n",
       "   waviness_l2                                               name  \n",
       "0     0.003674  /code/output/1126_pakdd_ksvector/20191126-0858...  \n",
       "1     0.003433  /code/output/1126_pakdd_ksvector/20191126-0858...  "
      ]
     },
     "execution_count": 58,
     "metadata": {},
     "output_type": "execute_result"
    },
    {
     "data": {
      "image/png": "[encoded data removed]",
      "text/plain": [
       "<Figure size 432x288 with 1 Axes>"
      ]
     },
     "metadata": {
      "needs_background": "light"
     },
     "output_type": "display_data"
    }
   ],
   "source": [
    "projectdir = Path(parentPath)\n",
    "summary = pd.DataFrame(\n",
    "    columns=['ksvector_l1', 'ksvector_l1_lambda', \n",
    "             'eval_auc', 'best_epoch',\n",
    "             'waviness_l1', 'waviness_l2',\n",
    "            'name'],\n",
    ")\n",
    "reports = [\n",
    "    projectdir / 'output/1126_pakdd_ksvector/20191126-0904_ks00_ksdkt/report/ksdkt.json', \n",
    "    projectdir / 'output/1126_pakdd_ksvector/20191126-0858_ks05_ksdkt/report/ksdkt.json',\n",
    "]\n",
    "\n",
    "with open(reports[0], 'r') as f:\n",
    "    rep = json.load(f)\n",
    "auc_ar = np.array(rep['indicator']['eval_auc'])\n",
    "best_auc = auc_ar.max()\n",
    "best_epoch = auc_ar.argmax()\n",
    "print('{}\\t{:.6}'.format(best_epoch, best_auc))\n",
    "summary = summary.append({\n",
    "    'name': str(report_path),\n",
    "    'eval_auc': best_auc,\n",
    "    'best_epoch': best_epoch,\n",
    "    'ksvector_l1_lambda': rep['config']['ksvector_l1'],\n",
    "    'ksvector_l1': rep['indicator']['ksvector_l1'][best_epoch],\n",
    "    'waviness_l1': rep['indicator']['waviness_l1'][best_epoch],\n",
    "    'waviness_l2': rep['indicator']['waviness_l2'][best_epoch],\n",
    "}, ignore_index=True)\n",
    "\n",
    "fig = plt.figure()\n",
    "ax = fig.add_subplot(111)\n",
    "ax.plot(rep['indicator']['epoch'], rep['indicator']['waviness_l1'], label='knowledge state vector loss rate 0.0')\n",
    "# ax.plot(rep['indicator']['epoch'], rep['indicator']['ksvector_l1'], label='knowledge state vector loss rate 0.0')\n",
    "\n",
    "with open(reports[1], 'r') as f:\n",
    "    rep = json.load(f)\n",
    "auc_ar = np.array(rep['indicator']['eval_auc'])\n",
    "best_auc = auc_ar.max()\n",
    "best_epoch = auc_ar.argmax()\n",
    "print('{}\\t{:.6}'.format(best_epoch, best_auc))\n",
    "summary = summary.append({\n",
    "    'name': str(report_path),\n",
    "    'eval_auc': best_auc,\n",
    "    'best_epoch': best_epoch,\n",
    "    'ksvector_l1_lambda': rep['config']['ksvector_l1'],\n",
    "    'ksvector_l1': rep['indicator']['ksvector_l1'][best_epoch],\n",
    "    'waviness_l1': rep['indicator']['waviness_l1'][best_epoch],\n",
    "    'waviness_l2': rep['indicator']['waviness_l2'][best_epoch],\n",
    "}, ignore_index=True)\n",
    "\n",
    "ax.plot(rep['indicator']['epoch'], rep['indicator']['waviness_l1'], label='knowledge state vector loss rate 0.5')\n",
    "# ax.plot(rep['indicator']['epoch'], rep['indicator']['ksvector_l1'], label='knowledge state vector loss rate 0.5')\n",
    "ax.legend()\n",
    "plt.ylabel('waviness l1')\n",
    "# plt.ylabel('knowledge state vector loss')\n",
    "\n",
    "\n",
    "summary.head()"
   ]
  },
  {
   "cell_type": "code",
   "execution_count": null,
   "metadata": {},
   "outputs": [],
   "source": []
  },
  {
   "cell_type": "code",
   "execution_count": 34,
   "metadata": {},
   "outputs": [
    {
     "name": "stdout",
     "output_type": "stream",
     "text": [
      "   ksvector_l1  ksvector_l1_lambda  eval_auc best_epoch  waviness_l1  \\\n",
      "0     0.010628                 0.0  0.848410         41     0.032010   \n",
      "1     0.009781                 0.5  0.848169         41     0.031029   \n",
      "\n",
      "   waviness_l2                                               name  \n",
      "0     0.003674  /code/output/1126_pakdd_ksvector/20191126-0904...  \n",
      "1     0.003433  /code/output/1126_pakdd_ksvector/20191126-0858...  \n"
     ]
    }
   ],
   "source": [
    "print(summary.head())"
   ]
  },
  {
   "cell_type": "code",
   "execution_count": null,
   "metadata": {},
   "outputs": [],
   "source": []
  },
  {
   "cell_type": "code",
   "execution_count": 35,
   "metadata": {},
   "outputs": [
    {
     "data": {
      "text/plain": [
       "'output/1124_geddkt/20191125-1015_ef15_w1w2_geddkt/checkpoints/geddkt_auc0.8079_e1300.model'"
      ]
     },
     "execution_count": 35,
     "metadata": {},
     "output_type": "execute_result"
    }
   ],
   "source": [
    "\"output/1124_geddkt/20191125-0335_ef15_geddkt/checkpoints/geddkt_auc0.8075_e1100.model\"\n",
    "\"output/1124_geddkt/20191125-1015_ef15_w1w2_geddkt/checkpoints/geddkt_auc0.8079_e1300.model\"\n",
    "# w1, w2の値が欠けている"
   ]
  },
  {
   "cell_type": "code",
   "execution_count": null,
   "metadata": {},
   "outputs": [],
   "source": []
  }
 ],
 "metadata": {
  "kernelspec": {
   "display_name": "Python 3",
   "language": "python",
   "name": "python3"
  },
  "language_info": {
   "codemirror_mode": {
    "name": "ipython",
    "version": 3
   },
   "file_extension": ".py",
   "mimetype": "text/x-python",
   "name": "python",
   "nbconvert_exporter": "python",
   "pygments_lexer": "ipython3",
   "version": "3.7.4"
  }
 },
 "nbformat": 4,
 "nbformat_minor": 4
}
