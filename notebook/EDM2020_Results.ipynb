{
 "cells": [
  {
   "cell_type": "code",
   "execution_count": 1,
   "metadata": {},
   "outputs": [
    {
     "name": "stderr",
     "output_type": "stream",
     "text": [
      "/root/.pyenv/versions/3.7.4/lib/python3.7/site-packages/pandas/compat/__init__.py:84: UserWarning: Could not import the lzma module. Your installed Python is incomplete. Attempting to use lzma compression will result in a RuntimeError.\n",
      "  warnings.warn(msg)\n",
      "/root/.pyenv/versions/3.7.4/lib/python3.7/site-packages/pandas/compat/__init__.py:84: UserWarning: Could not import the lzma module. Your installed Python is incomplete. Attempting to use lzma compression will result in a RuntimeError.\n",
      "  warnings.warn(msg)\n"
     ]
    }
   ],
   "source": [
    "import os\n",
    "import pandas as pd\n",
    "import numpy as np\n",
    "import json\n",
    "import pickle\n",
    "from collections import defaultdict\n",
    "from pathlib import Path\n",
    "from sklearn.metrics import ndcg_score, dcg_score\n",
    "import matplotlib.pyplot as plt\n",
    "import seaborn as sns\n",
    "\n",
    "import torch\n",
    "\n",
    "import os, sys\n",
    "parentPath = os.path.abspath(\"..\")\n",
    "if parentPath not in sys.path:\n",
    "    sys.path.insert(0, parentPath)\n",
    "    \n",
    "from src.data import load_source, slice_d\n",
    "from src.config import Config, get_option_fallback\n",
    "from src.path import get_best_model_paths, get_exp_paths, get_report_path, load_json, load_rep_cfg\n",
    "from knowledge_tracing.trainer import Trainer"
   ]
  },
  {
   "cell_type": "code",
   "execution_count": 2,
   "metadata": {},
   "outputs": [],
   "source": [
    "projectdir = Path('/code')\n",
    "assert projectdir.exists()"
   ]
  },
  {
   "cell_type": "code",
   "execution_count": 21,
   "metadata": {},
   "outputs": [],
   "source": [
    "results = [\n",
    "    'output/20_0218_edm2020_asmt0910/pre_dummy_epoch_size0.auto/report/20200220-0823/ksdkt.json',\n",
    "    'output/20_0218_edm2020_asmt0910/pre_dummy_epoch_size10.auto/report/20200220-0535/ksdkt.json',\n",
    "    'output/20_0218_edm2020_asmt0910/pre_dummy_epoch_size150.auto/report/20200220-0431/ksdkt.json',\n",
    "    \n",
    "    'output/20_0222_edm2020_asmt15/pre_dummy_epoch_size0.auto/report/20200223-1405/report.json',\n",
    "    'output/20_0222_edm2020_asmt15/pre_dummy_epoch_size10.auto/report/20200223-0724/report.json',\n",
    "    'output/20_0222_edm2020_asmt15/pre_dummy_epoch_size150.auto/report/20200223-0354/report.json',\n",
    "]"
   ]
  },
  {
   "cell_type": "code",
   "execution_count": 27,
   "metadata": {},
   "outputs": [
    {
     "data": {
      "text/html": [
       "<div>\n",
       "<style scoped>\n",
       "    .dataframe tbody tr th:only-of-type {\n",
       "        vertical-align: middle;\n",
       "    }\n",
       "\n",
       "    .dataframe tbody tr th {\n",
       "        vertical-align: top;\n",
       "    }\n",
       "\n",
       "    .dataframe thead th {\n",
       "        text-align: right;\n",
       "    }\n",
       "</style>\n",
       "<table border=\"1\" class=\"dataframe\">\n",
       "  <thead>\n",
       "    <tr style=\"text-align: right;\">\n",
       "      <th></th>\n",
       "      <th>dataset</th>\n",
       "      <th>pre</th>\n",
       "      <th>AUC</th>\n",
       "      <th>std</th>\n",
       "    </tr>\n",
       "  </thead>\n",
       "  <tbody>\n",
       "    <tr>\n",
       "      <td>0</td>\n",
       "      <td>original_ASSISTmentsSkillBuilder0910</td>\n",
       "      <td>0</td>\n",
       "      <td>0.827841</td>\n",
       "      <td>0.032821</td>\n",
       "    </tr>\n",
       "    <tr>\n",
       "      <td>1</td>\n",
       "      <td>original_ASSISTmentsSkillBuilder0910</td>\n",
       "      <td>10</td>\n",
       "      <td>0.831144</td>\n",
       "      <td>0.031850</td>\n",
       "    </tr>\n",
       "    <tr>\n",
       "      <td>2</td>\n",
       "      <td>original_ASSISTmentsSkillBuilder0910</td>\n",
       "      <td>150</td>\n",
       "      <td>0.830445</td>\n",
       "      <td>0.031801</td>\n",
       "    </tr>\n",
       "    <tr>\n",
       "      <td>3</td>\n",
       "      <td>2015_100_skill_builders_main_problems</td>\n",
       "      <td>0</td>\n",
       "      <td>0.690579</td>\n",
       "      <td>0.003041</td>\n",
       "    </tr>\n",
       "    <tr>\n",
       "      <td>4</td>\n",
       "      <td>2015_100_skill_builders_main_problems</td>\n",
       "      <td>10</td>\n",
       "      <td>0.691871</td>\n",
       "      <td>0.002877</td>\n",
       "    </tr>\n",
       "    <tr>\n",
       "      <td>5</td>\n",
       "      <td>2015_100_skill_builders_main_problems</td>\n",
       "      <td>150</td>\n",
       "      <td>0.692713</td>\n",
       "      <td>0.003017</td>\n",
       "    </tr>\n",
       "  </tbody>\n",
       "</table>\n",
       "</div>"
      ],
      "text/plain": [
       "                                 dataset  pre       AUC       std\n",
       "0   original_ASSISTmentsSkillBuilder0910    0  0.827841  0.032821\n",
       "1   original_ASSISTmentsSkillBuilder0910   10  0.831144  0.031850\n",
       "2   original_ASSISTmentsSkillBuilder0910  150  0.830445  0.031801\n",
       "3  2015_100_skill_builders_main_problems    0  0.690579  0.003041\n",
       "4  2015_100_skill_builders_main_problems   10  0.691871  0.002877\n",
       "5  2015_100_skill_builders_main_problems  150  0.692713  0.003017"
      ]
     },
     "execution_count": 27,
     "metadata": {},
     "output_type": "execute_result"
    }
   ],
   "source": [
    "df = pd.DataFrame(columns=['dataset', 'model', 'pre', 'bestepoch', 'AUC', 'std'])\n",
    "df = pd.DataFrame(columns=['dataset', 'pre', 'AUC', 'std'])\n",
    "\n",
    "for res_path in results:\n",
    "    with open(projectdir / res_path, 'r') as f:\n",
    "        res = json.load(f)\n",
    "    row = {\n",
    "        'dataset':   res['config']['source_data'],\n",
    "#         'model':     res['config']['model_name']+'/'+res['config']['exp_name'],\n",
    "        'pre':       res['config']['pre_dummy_epoch_size'],\n",
    "#         'bestepoch': np.mean(list(res['best']['auc_epoch'].values())),\n",
    "        'AUC':       np.mean(list(res['best']['auc'].values())),\n",
    "        'std':       np.std(list(res['best']['auc'].values())),\n",
    "    }\n",
    "    df = df.append(row, ignore_index=True)\n",
    "    \n",
    "df"
   ]
  },
  {
   "cell_type": "code",
   "execution_count": 28,
   "metadata": {},
   "outputs": [
    {
     "name": "stdout",
     "output_type": "stream",
     "text": [
      "\\begin{tabular}{lllrr}\n",
      "\\toprule\n",
      "{} &                                dataset &  pre &       AUC &       std \\\\\n",
      "\\midrule\n",
      "0 &   original\\_ASSISTmentsSkillBuilder0910 &    0 &  0.827841 &  0.032821 \\\\\n",
      "1 &   original\\_ASSISTmentsSkillBuilder0910 &   10 &  0.831144 &  0.031850 \\\\\n",
      "2 &   original\\_ASSISTmentsSkillBuilder0910 &  150 &  0.830445 &  0.031801 \\\\\n",
      "3 &  2015\\_100\\_skill\\_builders\\_main\\_problems &    0 &  0.690579 &  0.003041 \\\\\n",
      "4 &  2015\\_100\\_skill\\_builders\\_main\\_problems &   10 &  0.691871 &  0.002877 \\\\\n",
      "5 &  2015\\_100\\_skill\\_builders\\_main\\_problems &  150 &  0.692713 &  0.003017 \\\\\n",
      "\\bottomrule\n",
      "\\end{tabular}\n",
      "\n"
     ]
    }
   ],
   "source": [
    "print(df.to_latex())"
   ]
  },
  {
   "cell_type": "code",
   "execution_count": null,
   "metadata": {},
   "outputs": [],
   "source": []
  }
 ],
 "metadata": {
  "kernelspec": {
   "display_name": "Python 3",
   "language": "python",
   "name": "python3"
  },
  "language_info": {
   "codemirror_mode": {
    "name": "ipython",
    "version": 3
   },
   "file_extension": ".py",
   "mimetype": "text/x-python",
   "name": "python",
   "nbconvert_exporter": "python",
   "pygments_lexer": "ipython3",
   "version": "3.7.4"
  }
 },
 "nbformat": 4,
 "nbformat_minor": 4
}
