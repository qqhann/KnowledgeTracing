{
 "cells": [
  {
   "cell_type": "code",
   "execution_count": 1,
   "metadata": {},
   "outputs": [],
   "source": [
    "import os\n",
    "import pandas as pd\n",
    "import numpy as np\n",
    "import json\n",
    "import pickle\n",
    "from collections import defaultdict\n",
    "from pathlib import Path\n",
    "from statistics import mean, stdev\n",
    "from sklearn.metrics import ndcg_score, dcg_score\n",
    "import matplotlib.pyplot as plt\n",
    "import seaborn as sns\n",
    "\n",
    "import torch\n",
    "\n",
    "import os, sys\n",
    "parentPath = os.path.abspath(\"..\")\n",
    "if parentPath not in sys.path:\n",
    "    sys.path.insert(0, parentPath)\n",
    "    \n",
    "from src.data import load_source\n",
    "from src.config import Config, get_option_fallback\n",
    "from src.path import get_best_model_paths, get_exp_paths, get_report_path, load_json, load_rep_cfg, get_exp_names\n",
    "from knowledge_tracing.trainer import Trainer"
   ]
  },
  {
   "cell_type": "code",
   "execution_count": 2,
   "metadata": {},
   "outputs": [],
   "source": [
    "# projectdir = Path('/code')\n",
    "projectdir = Path('..')\n",
    "assert projectdir.exists()"
   ]
  },
  {
   "cell_type": "markdown",
   "metadata": {},
   "source": [
    "# Common Functions"
   ]
  },
  {
   "cell_type": "code",
   "execution_count": 3,
   "metadata": {},
   "outputs": [],
   "source": [
    "def summarize_test_res(rep, folds=5):\n",
    "    print(rep['config']['exp_name'], end=':\\t')\n",
    "    s = pd.Series([rep['best']['auc_epoch'][str(i)] for i in range(folds)])\n",
    "    print(f'Best epoch at {s.mean():>6.1f}±{s.std():<5.1f}', end='\\t')\n",
    "    s = pd.Series([rep['best']['auc'][str(i)] for i in range(folds)])\n",
    "    print(f'Valid AUC: {s.mean()*100:.4f}±{s.std()*100:.4f}', end='\\t')\n",
    "    s = pd.Series([rep['indicator']['test_auc'][str(i)][0] for i in range(folds)])\n",
    "    print(f'Test AUC: {s.mean()*100:.4f}±{s.std()*100:.4f}', end='\\t')\n",
    "    s = rep['indicator']['RPsoft']['all']\n",
    "    print(f'Good:Bad = {s[\"good\"]}:{s[\"bad\"]}', end='\\t')\n",
    "    s = rep['indicator']['test_auc']['all'][0]\n",
    "    print(f'All Test AUC: {s*100:.4f}')"
   ]
  },
  {
   "cell_type": "code",
   "execution_count": 4,
   "metadata": {},
   "outputs": [],
   "source": [
    "def show_valid_lc(name, idclist_dic, idc='eval_auc'):\n",
    "    min_len = min([len(_x) for _x in idclist_dic['epoch'].values()])\n",
    "    x = idclist_dic['epoch']['0'][:min_len] * (len(idclist_dic['epoch']) -1)  # exclude 'all'\n",
    "    y = []\n",
    "    for _y in idclist_dic[idc].values():\n",
    "        y += _y[:min_len]\n",
    "    sns.lineplot(x=x, y=y, label=name)\n",
    "    plt.title(idc)"
   ]
  },
  {
   "cell_type": "code",
   "execution_count": 34,
   "metadata": {},
   "outputs": [],
   "source": [
    "def summarize_results(config_name, folds=5):\n",
    "    report_list = []\n",
    "    report_paths = [get_report_path(projectdir, config_name, e) for e in get_exp_names(projectdir, config_name)]\n",
    "    for r in report_paths:\n",
    "        print(r)\n",
    "    for r in [load_json(get_report_path(projectdir, config_name, e)) for e in get_exp_names(projectdir, config_name)]:\n",
    "        report_list.append(r)\n",
    "    df = pd.DataFrame(columns=['dataset', 'model', 'auc', 'auc_std', 'r1_good', 'r1_goodbad', 'r2', 'r2_std', 'w1', 'w2'])\n",
    "    for r in report_list:\n",
    "        row = {}\n",
    "        try:\n",
    "            row = {\n",
    "                'dataset':   r['config']['config_name'],\n",
    "                'model':     r['config']['exp_name'],\n",
    "                'auc':       mean([r['indicator']['test_auc'][str(i)][0] for i in range(folds)]),\n",
    "                'auc_std':   stdev([r['indicator']['test_auc'][str(i)][0] for i in range(folds)]) if folds > 1 else np.nan,\n",
    "#                 'auc(c)':       mean([r['indicator']['test_auc_c'][str(i)][0] for i in range(folds)]),\n",
    "#                 'auc(c)_std':   stdev([r['indicator']['test_auc_c'][str(i)][0] for i in range(folds)]) if folds > 1 else np.nan,\n",
    "                'w1':   mean([r['indicator']['waviness_l1'][str(i)][-1] for i in range(folds)]),\n",
    "                'w2':   mean([r['indicator']['waviness_l2'][str(i)][-1] for i in range(folds)]),\n",
    "                'r1_good':       r['indicator']['RPsoft']['all']['good'],\n",
    "                'r1_good':       r['indicator']['RPsoft']['all']['good'],\n",
    "                'r1_goodbad':       r['indicator']['RPsoft']['all']['good'] + r['indicator']['RPsoft']['all']['bad'],\n",
    "                'r2':      mean(r['indicator']['RPhard']['all']),\n",
    "                'r2_std': stdev(r['indicator']['RPhard']['all'])\n",
    "            }\n",
    "            row['ksv_loss'] = mean([r['indicator']['ksvector_l1'][str(i)][-1] for i in range(folds)])\n",
    "        except KeyError as e:\n",
    "            print(\"KeyError:\", e)\n",
    "            row = {\n",
    "                'dataset':   r['config']['config_name'],\n",
    "                'model':     r['config']['exp_name'],\n",
    "                **row\n",
    "            }\n",
    "        df = df.append(row, ignore_index=True)\n",
    "    return df\n",
    "        "
   ]
  },
  {
   "cell_type": "markdown",
   "metadata": {},
   "source": [
    "# Summary"
   ]
  },
  {
   "cell_type": "code",
   "execution_count": 35,
   "metadata": {},
   "outputs": [],
   "source": [
    "pd.set_option('display.max_colwidth',1000)"
   ]
  },
  {
   "cell_type": "markdown",
   "metadata": {},
   "source": [
    "## AUC table"
   ]
  },
  {
   "cell_type": "code",
   "execution_count": 36,
   "metadata": {},
   "outputs": [
    {
     "name": "stdout",
     "output_type": "stream",
     "text": [
      "['wavinessFalseksvector_l10.0.auto', 'reconstruction_and_wavinessFalseksvector_l10.0.auto', 'wavinessFalseksvector_l10.001.auto', 'reconstruction_and_wavinessTrueksvector_l10.0.auto', 'wavinessTrueksvector_l10.001.auto', 'reconstruction_and_wavinessFalseksvector_l10.001.auto', 'wavinessTrueksvector_l10.0.auto', 'reconstruction_and_wavinessTrueksvector_l10.001.auto']\n",
      "../output/20_0605_icce2020_assist09/wavinessFalseksvector_l10.0.auto/report/20200605-1238/report.json\n",
      "../output/20_0605_icce2020_assist09/reconstruction_and_wavinessFalseksvector_l10.0.auto/report/20200605-1622/report.json\n",
      "../output/20_0605_icce2020_assist09/wavinessFalseksvector_l10.001.auto/report/20200605-1448/report.json\n",
      "../output/20_0605_icce2020_assist09/reconstruction_and_wavinessTrueksvector_l10.0.auto/report/20200605-1621/report.json\n",
      "../output/20_0605_icce2020_assist09/wavinessTrueksvector_l10.001.auto/report/20200605-1359/report.json\n",
      "../output/20_0605_icce2020_assist09/reconstruction_and_wavinessFalseksvector_l10.001.auto/report/20200605-1621/report.json\n",
      "../output/20_0605_icce2020_assist09/wavinessTrueksvector_l10.0.auto/report/20200605-1313/report.json\n",
      "../output/20_0605_icce2020_assist09/reconstruction_and_wavinessTrueksvector_l10.001.auto/report/20200605-1623/report.json\n",
      "['wavinessFalseksvector_l10.0.auto', 'reconstruction_and_wavinessFalseksvector_l10.0.auto', 'wavinessFalseksvector_l10.001.auto', 'reconstruction_and_wavinessTrueksvector_l10.0.auto', 'wavinessTrueksvector_l10.001.auto', 'reconstruction_and_wavinessFalseksvector_l10.001.auto', 'wavinessTrueksvector_l10.0.auto', 'reconstruction_and_wavinessTrueksvector_l10.001.auto']\n",
      "KeyError: 'waviness_l1'\n",
      "KeyError: '1'\n",
      "KeyError: 'waviness_l1'\n",
      "KeyError: '1'\n",
      "KeyError: '1'\n",
      "KeyError: '1'\n"
     ]
    },
    {
     "data": {
      "text/html": [
       "<div>\n",
       "<style scoped>\n",
       "    .dataframe tbody tr th:only-of-type {\n",
       "        vertical-align: middle;\n",
       "    }\n",
       "\n",
       "    .dataframe tbody tr th {\n",
       "        vertical-align: top;\n",
       "    }\n",
       "\n",
       "    .dataframe thead th {\n",
       "        text-align: right;\n",
       "    }\n",
       "</style>\n",
       "<table border=\"1\" class=\"dataframe\">\n",
       "  <thead>\n",
       "    <tr style=\"text-align: right;\">\n",
       "      <th></th>\n",
       "      <th>dataset</th>\n",
       "      <th>model</th>\n",
       "      <th>auc</th>\n",
       "      <th>auc_std</th>\n",
       "      <th>r1_good</th>\n",
       "      <th>r1_goodbad</th>\n",
       "      <th>r2</th>\n",
       "      <th>r2_std</th>\n",
       "      <th>w1</th>\n",
       "      <th>w2</th>\n",
       "      <th>ksv_loss</th>\n",
       "    </tr>\n",
       "  </thead>\n",
       "  <tbody>\n",
       "    <tr>\n",
       "      <th>0</th>\n",
       "      <td>20_0605_icce2020_assist09</td>\n",
       "      <td>wavinessFalseksvector_l10.0.auto</td>\n",
       "      <td>NaN</td>\n",
       "      <td>NaN</td>\n",
       "      <td>NaN</td>\n",
       "      <td>NaN</td>\n",
       "      <td>NaN</td>\n",
       "      <td>NaN</td>\n",
       "      <td>NaN</td>\n",
       "      <td>NaN</td>\n",
       "      <td>NaN</td>\n",
       "    </tr>\n",
       "    <tr>\n",
       "      <th>1</th>\n",
       "      <td>20_0605_icce2020_assist09</td>\n",
       "      <td>reconstruction_and_wavinessFalseksvector_l10.0.auto</td>\n",
       "      <td>NaN</td>\n",
       "      <td>NaN</td>\n",
       "      <td>NaN</td>\n",
       "      <td>NaN</td>\n",
       "      <td>NaN</td>\n",
       "      <td>NaN</td>\n",
       "      <td>NaN</td>\n",
       "      <td>NaN</td>\n",
       "      <td>NaN</td>\n",
       "    </tr>\n",
       "    <tr>\n",
       "      <th>2</th>\n",
       "      <td>20_0605_icce2020_assist09</td>\n",
       "      <td>wavinessFalseksvector_l10.001.auto</td>\n",
       "      <td>NaN</td>\n",
       "      <td>NaN</td>\n",
       "      <td>NaN</td>\n",
       "      <td>NaN</td>\n",
       "      <td>NaN</td>\n",
       "      <td>NaN</td>\n",
       "      <td>NaN</td>\n",
       "      <td>NaN</td>\n",
       "      <td>NaN</td>\n",
       "    </tr>\n",
       "    <tr>\n",
       "      <th>3</th>\n",
       "      <td>20_0605_icce2020_assist09</td>\n",
       "      <td>reconstruction_and_wavinessTrueksvector_l10.0.auto</td>\n",
       "      <td>NaN</td>\n",
       "      <td>NaN</td>\n",
       "      <td>NaN</td>\n",
       "      <td>NaN</td>\n",
       "      <td>NaN</td>\n",
       "      <td>NaN</td>\n",
       "      <td>NaN</td>\n",
       "      <td>NaN</td>\n",
       "      <td>NaN</td>\n",
       "    </tr>\n",
       "    <tr>\n",
       "      <th>4</th>\n",
       "      <td>20_0605_icce2020_assist09</td>\n",
       "      <td>wavinessTrueksvector_l10.001.auto</td>\n",
       "      <td>0.794929</td>\n",
       "      <td>0.000710</td>\n",
       "      <td>103</td>\n",
       "      <td>110</td>\n",
       "      <td>0.901114</td>\n",
       "      <td>0.114318</td>\n",
       "      <td>0.047281</td>\n",
       "      <td>0.007795</td>\n",
       "      <td>8.957996</td>\n",
       "    </tr>\n",
       "    <tr>\n",
       "      <th>5</th>\n",
       "      <td>20_0605_icce2020_assist09</td>\n",
       "      <td>reconstruction_and_wavinessFalseksvector_l10.001.auto</td>\n",
       "      <td>NaN</td>\n",
       "      <td>NaN</td>\n",
       "      <td>NaN</td>\n",
       "      <td>NaN</td>\n",
       "      <td>NaN</td>\n",
       "      <td>NaN</td>\n",
       "      <td>NaN</td>\n",
       "      <td>NaN</td>\n",
       "      <td>NaN</td>\n",
       "    </tr>\n",
       "    <tr>\n",
       "      <th>6</th>\n",
       "      <td>20_0605_icce2020_assist09</td>\n",
       "      <td>wavinessTrueksvector_l10.0.auto</td>\n",
       "      <td>0.796752</td>\n",
       "      <td>0.001499</td>\n",
       "      <td>94</td>\n",
       "      <td>110</td>\n",
       "      <td>0.900481</td>\n",
       "      <td>0.114136</td>\n",
       "      <td>0.031663</td>\n",
       "      <td>0.004104</td>\n",
       "      <td>8.502191</td>\n",
       "    </tr>\n",
       "    <tr>\n",
       "      <th>7</th>\n",
       "      <td>20_0605_icce2020_assist09</td>\n",
       "      <td>reconstruction_and_wavinessTrueksvector_l10.001.auto</td>\n",
       "      <td>NaN</td>\n",
       "      <td>NaN</td>\n",
       "      <td>NaN</td>\n",
       "      <td>NaN</td>\n",
       "      <td>NaN</td>\n",
       "      <td>NaN</td>\n",
       "      <td>NaN</td>\n",
       "      <td>NaN</td>\n",
       "      <td>NaN</td>\n",
       "    </tr>\n",
       "  </tbody>\n",
       "</table>\n",
       "</div>"
      ],
      "text/plain": [
       "                     dataset  \\\n",
       "0  20_0605_icce2020_assist09   \n",
       "1  20_0605_icce2020_assist09   \n",
       "2  20_0605_icce2020_assist09   \n",
       "3  20_0605_icce2020_assist09   \n",
       "4  20_0605_icce2020_assist09   \n",
       "5  20_0605_icce2020_assist09   \n",
       "6  20_0605_icce2020_assist09   \n",
       "7  20_0605_icce2020_assist09   \n",
       "\n",
       "                                                   model       auc   auc_std  \\\n",
       "0                       wavinessFalseksvector_l10.0.auto       NaN       NaN   \n",
       "1    reconstruction_and_wavinessFalseksvector_l10.0.auto       NaN       NaN   \n",
       "2                     wavinessFalseksvector_l10.001.auto       NaN       NaN   \n",
       "3     reconstruction_and_wavinessTrueksvector_l10.0.auto       NaN       NaN   \n",
       "4                      wavinessTrueksvector_l10.001.auto  0.794929  0.000710   \n",
       "5  reconstruction_and_wavinessFalseksvector_l10.001.auto       NaN       NaN   \n",
       "6                        wavinessTrueksvector_l10.0.auto  0.796752  0.001499   \n",
       "7   reconstruction_and_wavinessTrueksvector_l10.001.auto       NaN       NaN   \n",
       "\n",
       "  r1_good r1_goodbad        r2    r2_std        w1        w2  ksv_loss  \n",
       "0     NaN        NaN       NaN       NaN       NaN       NaN       NaN  \n",
       "1     NaN        NaN       NaN       NaN       NaN       NaN       NaN  \n",
       "2     NaN        NaN       NaN       NaN       NaN       NaN       NaN  \n",
       "3     NaN        NaN       NaN       NaN       NaN       NaN       NaN  \n",
       "4     103        110  0.901114  0.114318  0.047281  0.007795  8.957996  \n",
       "5     NaN        NaN       NaN       NaN       NaN       NaN       NaN  \n",
       "6      94        110  0.900481  0.114136  0.031663  0.004104  8.502191  \n",
       "7     NaN        NaN       NaN       NaN       NaN       NaN       NaN  "
      ]
     },
     "execution_count": 36,
     "metadata": {},
     "output_type": "execute_result"
    }
   ],
   "source": [
    "summarize_results('20_0605_icce2020_assist09')"
   ]
  },
  {
   "cell_type": "code",
   "execution_count": 37,
   "metadata": {},
   "outputs": [
    {
     "name": "stdout",
     "output_type": "stream",
     "text": [
      "['reconstruction_and_wavinessFalseksvector_l10.0.auto', 'reconstruction_and_wavinessTrueksvector_l10.0.auto', 'reconstruction_and_wavinessFalseksvector_l10.001.auto', 'reconstruction_and_wavinessTrueksvector_l10.001.auto']\n",
      "../output/20_0605_icce2020_statics/reconstruction_and_wavinessFalseksvector_l10.0.auto/report/20200610-0812/report.json\n",
      "../output/20_0605_icce2020_statics/reconstruction_and_wavinessTrueksvector_l10.0.auto/report/20200609-2327/report.json\n",
      "../output/20_0605_icce2020_statics/reconstruction_and_wavinessFalseksvector_l10.001.auto/report/20200610-1311/report.json\n",
      "../output/20_0605_icce2020_statics/reconstruction_and_wavinessTrueksvector_l10.001.auto/report/20200610-0421/report.json\n",
      "['reconstruction_and_wavinessFalseksvector_l10.0.auto', 'reconstruction_and_wavinessTrueksvector_l10.0.auto', 'reconstruction_and_wavinessFalseksvector_l10.001.auto', 'reconstruction_and_wavinessTrueksvector_l10.001.auto']\n"
     ]
    },
    {
     "data": {
      "text/html": [
       "<div>\n",
       "<style scoped>\n",
       "    .dataframe tbody tr th:only-of-type {\n",
       "        vertical-align: middle;\n",
       "    }\n",
       "\n",
       "    .dataframe tbody tr th {\n",
       "        vertical-align: top;\n",
       "    }\n",
       "\n",
       "    .dataframe thead th {\n",
       "        text-align: right;\n",
       "    }\n",
       "</style>\n",
       "<table border=\"1\" class=\"dataframe\">\n",
       "  <thead>\n",
       "    <tr style=\"text-align: right;\">\n",
       "      <th></th>\n",
       "      <th>dataset</th>\n",
       "      <th>model</th>\n",
       "      <th>auc</th>\n",
       "      <th>auc_std</th>\n",
       "      <th>r1_good</th>\n",
       "      <th>r1_goodbad</th>\n",
       "      <th>r2</th>\n",
       "      <th>r2_std</th>\n",
       "      <th>w1</th>\n",
       "      <th>w2</th>\n",
       "      <th>ksv_loss</th>\n",
       "    </tr>\n",
       "  </thead>\n",
       "  <tbody>\n",
       "    <tr>\n",
       "      <th>0</th>\n",
       "      <td>20_0605_icce2020_statics</td>\n",
       "      <td>reconstruction_and_wavinessFalseksvector_l10.0.auto</td>\n",
       "      <td>0.770940</td>\n",
       "      <td>0.001889</td>\n",
       "      <td>640</td>\n",
       "      <td>1223</td>\n",
       "      <td>0.808045</td>\n",
       "      <td>0.140852</td>\n",
       "      <td>0.018172</td>\n",
       "      <td>0.000723</td>\n",
       "      <td>3.928196</td>\n",
       "    </tr>\n",
       "    <tr>\n",
       "      <th>1</th>\n",
       "      <td>20_0605_icce2020_statics</td>\n",
       "      <td>reconstruction_and_wavinessTrueksvector_l10.0.auto</td>\n",
       "      <td>0.770940</td>\n",
       "      <td>0.001889</td>\n",
       "      <td>640</td>\n",
       "      <td>1223</td>\n",
       "      <td>0.808045</td>\n",
       "      <td>0.140852</td>\n",
       "      <td>0.018172</td>\n",
       "      <td>0.000723</td>\n",
       "      <td>3.928196</td>\n",
       "    </tr>\n",
       "    <tr>\n",
       "      <th>2</th>\n",
       "      <td>20_0605_icce2020_statics</td>\n",
       "      <td>reconstruction_and_wavinessFalseksvector_l10.001.auto</td>\n",
       "      <td>0.767858</td>\n",
       "      <td>0.009253</td>\n",
       "      <td>672</td>\n",
       "      <td>1223</td>\n",
       "      <td>0.813156</td>\n",
       "      <td>0.142237</td>\n",
       "      <td>0.014875</td>\n",
       "      <td>0.000560</td>\n",
       "      <td>3.950800</td>\n",
       "    </tr>\n",
       "    <tr>\n",
       "      <th>3</th>\n",
       "      <td>20_0605_icce2020_statics</td>\n",
       "      <td>reconstruction_and_wavinessTrueksvector_l10.001.auto</td>\n",
       "      <td>0.767858</td>\n",
       "      <td>0.009253</td>\n",
       "      <td>672</td>\n",
       "      <td>1223</td>\n",
       "      <td>0.813156</td>\n",
       "      <td>0.142240</td>\n",
       "      <td>0.014875</td>\n",
       "      <td>0.000560</td>\n",
       "      <td>3.950800</td>\n",
       "    </tr>\n",
       "  </tbody>\n",
       "</table>\n",
       "</div>"
      ],
      "text/plain": [
       "                    dataset  \\\n",
       "0  20_0605_icce2020_statics   \n",
       "1  20_0605_icce2020_statics   \n",
       "2  20_0605_icce2020_statics   \n",
       "3  20_0605_icce2020_statics   \n",
       "\n",
       "                                                   model       auc   auc_std  \\\n",
       "0    reconstruction_and_wavinessFalseksvector_l10.0.auto  0.770940  0.001889   \n",
       "1     reconstruction_and_wavinessTrueksvector_l10.0.auto  0.770940  0.001889   \n",
       "2  reconstruction_and_wavinessFalseksvector_l10.001.auto  0.767858  0.009253   \n",
       "3   reconstruction_and_wavinessTrueksvector_l10.001.auto  0.767858  0.009253   \n",
       "\n",
       "  r1_good r1_goodbad        r2    r2_std        w1        w2  ksv_loss  \n",
       "0     640       1223  0.808045  0.140852  0.018172  0.000723  3.928196  \n",
       "1     640       1223  0.808045  0.140852  0.018172  0.000723  3.928196  \n",
       "2     672       1223  0.813156  0.142237  0.014875  0.000560  3.950800  \n",
       "3     672       1223  0.813156  0.142240  0.014875  0.000560  3.950800  "
      ]
     },
     "execution_count": 37,
     "metadata": {},
     "output_type": "execute_result"
    }
   ],
   "source": [
    "summarize_results('20_0605_icce2020_statics')"
   ]
  },
  {
   "cell_type": "code",
   "execution_count": 38,
   "metadata": {},
   "outputs": [
    {
     "name": "stdout",
     "output_type": "stream",
     "text": [
      "['reconstruction_and_wavinessFalseksvector_l10.0.auto', 'reconstruction_and_wavinessTrueksvector_l10.0.auto', 'reconstruction_and_wavinessFalseksvector_l10.001.auto', 'reconstruction_and_wavinessTrueksvector_l10.001.auto']\n",
      "../output/20_0605_icce2020_synthetic/reconstruction_and_wavinessFalseksvector_l10.0.auto/report/20200609-2253/report.json\n",
      "../output/20_0605_icce2020_synthetic/reconstruction_and_wavinessTrueksvector_l10.0.auto/report/20200609-2242/report.json\n",
      "../output/20_0605_icce2020_synthetic/reconstruction_and_wavinessFalseksvector_l10.001.auto/report/20200609-2259/report.json\n",
      "../output/20_0605_icce2020_synthetic/reconstruction_and_wavinessTrueksvector_l10.001.auto/report/20200609-2247/report.json\n",
      "['reconstruction_and_wavinessFalseksvector_l10.0.auto', 'reconstruction_and_wavinessTrueksvector_l10.0.auto', 'reconstruction_and_wavinessFalseksvector_l10.001.auto', 'reconstruction_and_wavinessTrueksvector_l10.001.auto']\n"
     ]
    },
    {
     "data": {
      "text/html": [
       "<div>\n",
       "<style scoped>\n",
       "    .dataframe tbody tr th:only-of-type {\n",
       "        vertical-align: middle;\n",
       "    }\n",
       "\n",
       "    .dataframe tbody tr th {\n",
       "        vertical-align: top;\n",
       "    }\n",
       "\n",
       "    .dataframe thead th {\n",
       "        text-align: right;\n",
       "    }\n",
       "</style>\n",
       "<table border=\"1\" class=\"dataframe\">\n",
       "  <thead>\n",
       "    <tr style=\"text-align: right;\">\n",
       "      <th></th>\n",
       "      <th>dataset</th>\n",
       "      <th>model</th>\n",
       "      <th>auc</th>\n",
       "      <th>auc_std</th>\n",
       "      <th>r1_good</th>\n",
       "      <th>r1_goodbad</th>\n",
       "      <th>r2</th>\n",
       "      <th>r2_std</th>\n",
       "      <th>w1</th>\n",
       "      <th>w2</th>\n",
       "      <th>ksv_loss</th>\n",
       "    </tr>\n",
       "  </thead>\n",
       "  <tbody>\n",
       "    <tr>\n",
       "      <th>0</th>\n",
       "      <td>20_0605_icce2020_synthetic</td>\n",
       "      <td>reconstruction_and_wavinessFalseksvector_l10.0.auto</td>\n",
       "      <td>0.682051</td>\n",
       "      <td>NaN</td>\n",
       "      <td>28</td>\n",
       "      <td>50</td>\n",
       "      <td>0.818750</td>\n",
       "      <td>0.139029</td>\n",
       "      <td>0.029942</td>\n",
       "      <td>0.003236</td>\n",
       "      <td>5.276833</td>\n",
       "    </tr>\n",
       "    <tr>\n",
       "      <th>1</th>\n",
       "      <td>20_0605_icce2020_synthetic</td>\n",
       "      <td>reconstruction_and_wavinessTrueksvector_l10.0.auto</td>\n",
       "      <td>0.682050</td>\n",
       "      <td>NaN</td>\n",
       "      <td>28</td>\n",
       "      <td>50</td>\n",
       "      <td>0.818750</td>\n",
       "      <td>0.139029</td>\n",
       "      <td>0.029942</td>\n",
       "      <td>0.003236</td>\n",
       "      <td>5.276833</td>\n",
       "    </tr>\n",
       "    <tr>\n",
       "      <th>2</th>\n",
       "      <td>20_0605_icce2020_synthetic</td>\n",
       "      <td>reconstruction_and_wavinessFalseksvector_l10.001.auto</td>\n",
       "      <td>0.682410</td>\n",
       "      <td>NaN</td>\n",
       "      <td>28</td>\n",
       "      <td>50</td>\n",
       "      <td>0.828141</td>\n",
       "      <td>0.142961</td>\n",
       "      <td>0.029709</td>\n",
       "      <td>0.003226</td>\n",
       "      <td>5.177509</td>\n",
       "    </tr>\n",
       "    <tr>\n",
       "      <th>3</th>\n",
       "      <td>20_0605_icce2020_synthetic</td>\n",
       "      <td>reconstruction_and_wavinessTrueksvector_l10.001.auto</td>\n",
       "      <td>0.682412</td>\n",
       "      <td>NaN</td>\n",
       "      <td>28</td>\n",
       "      <td>50</td>\n",
       "      <td>0.828141</td>\n",
       "      <td>0.142961</td>\n",
       "      <td>0.029709</td>\n",
       "      <td>0.003226</td>\n",
       "      <td>5.177509</td>\n",
       "    </tr>\n",
       "  </tbody>\n",
       "</table>\n",
       "</div>"
      ],
      "text/plain": [
       "                      dataset  \\\n",
       "0  20_0605_icce2020_synthetic   \n",
       "1  20_0605_icce2020_synthetic   \n",
       "2  20_0605_icce2020_synthetic   \n",
       "3  20_0605_icce2020_synthetic   \n",
       "\n",
       "                                                   model       auc  auc_std  \\\n",
       "0    reconstruction_and_wavinessFalseksvector_l10.0.auto  0.682051      NaN   \n",
       "1     reconstruction_and_wavinessTrueksvector_l10.0.auto  0.682050      NaN   \n",
       "2  reconstruction_and_wavinessFalseksvector_l10.001.auto  0.682410      NaN   \n",
       "3   reconstruction_and_wavinessTrueksvector_l10.001.auto  0.682412      NaN   \n",
       "\n",
       "  r1_good r1_goodbad        r2    r2_std        w1        w2  ksv_loss  \n",
       "0      28         50  0.818750  0.139029  0.029942  0.003236  5.276833  \n",
       "1      28         50  0.818750  0.139029  0.029942  0.003236  5.276833  \n",
       "2      28         50  0.828141  0.142961  0.029709  0.003226  5.177509  \n",
       "3      28         50  0.828141  0.142961  0.029709  0.003226  5.177509  "
      ]
     },
     "execution_count": 38,
     "metadata": {},
     "output_type": "execute_result"
    }
   ],
   "source": [
    "summarize_results('20_0605_icce2020_synthetic', 1)"
   ]
  },
  {
   "cell_type": "code",
   "execution_count": 10,
   "metadata": {},
   "outputs": [
    {
     "name": "stdout",
     "output_type": "stream",
     "text": [
      "['pre_dummy_epoch_size150.auto', 'pre_dummy_epoch_size10.auto', 'pre_dummy_epoch_size0.auto']\n",
      "../output/20_0310_edm2020_assist09/pre_dummy_epoch_size150.auto/report/20200310-0014/report.json\n",
      "../output/20_0310_edm2020_assist09/pre_dummy_epoch_size10.auto/report/20200309-2301/report.json\n",
      "../output/20_0310_edm2020_assist09/pre_dummy_epoch_size0.auto/report/20200309-2154/report.json\n",
      "['pre_dummy_epoch_size150.auto', 'pre_dummy_epoch_size10.auto', 'pre_dummy_epoch_size0.auto']\n",
      "\\begin{tabular}{lllrrllrr}\n",
      "\\toprule\n",
      "{} &                   dataset &                         model &       auc &   auc\\_std & r1\\_good & r1\\_goodbad &        r2 &    r2\\_std \\\\\n",
      "\\midrule\n",
      "0 &  20\\_0310\\_edm2020\\_assist09 &  pre\\_dummy\\_epoch\\_size150.auto &  0.805398 &  0.000801 &     106 &        110 &  0.897429 &  0.112539 \\\\\n",
      "1 &  20\\_0310\\_edm2020\\_assist09 &   pre\\_dummy\\_epoch\\_size10.auto &  0.802763 &  0.001107 &     105 &        110 &  0.916217 &  0.103119 \\\\\n",
      "2 &  20\\_0310\\_edm2020\\_assist09 &    pre\\_dummy\\_epoch\\_size0.auto &  0.802399 &  0.002135 &      91 &        110 &  0.885842 &  0.121002 \\\\\n",
      "\\bottomrule\n",
      "\\end{tabular}\n",
      "\n",
      "['pre_dummy_epoch_size150.auto', 'pre_dummy_epoch_size10.auto', 'pre_dummy_epoch_size0.auto']\n",
      "../output/20_0310_edm2020_assist15/pre_dummy_epoch_size150.auto/report/20200310-0129/report.json\n",
      "../output/20_0310_edm2020_assist15/pre_dummy_epoch_size10.auto/report/20200310-0242/report.json\n",
      "../output/20_0310_edm2020_assist15/pre_dummy_epoch_size0.auto/report/20200310-0400/report.json\n",
      "['pre_dummy_epoch_size150.auto', 'pre_dummy_epoch_size10.auto', 'pre_dummy_epoch_size0.auto']\n",
      "\\begin{tabular}{lllrrllrr}\n",
      "\\toprule\n",
      "{} &                   dataset &                         model &       auc &   auc\\_std & r1\\_good & r1\\_goodbad &        r2 &    r2\\_std \\\\\n",
      "\\midrule\n",
      "0 &  20\\_0310\\_edm2020\\_assist15 &  pre\\_dummy\\_epoch\\_size150.auto &  0.705414 &  0.001263 &      95 &        100 &  0.927833 &  0.092699 \\\\\n",
      "1 &  20\\_0310\\_edm2020\\_assist15 &   pre\\_dummy\\_epoch\\_size10.auto &  0.703355 &  0.000890 &      99 &        100 &  0.921136 &  0.096746 \\\\\n",
      "2 &  20\\_0310\\_edm2020\\_assist15 &    pre\\_dummy\\_epoch\\_size0.auto &  0.703117 &  0.001366 &      99 &        100 &  0.924388 &  0.091456 \\\\\n",
      "\\bottomrule\n",
      "\\end{tabular}\n",
      "\n",
      "['pre_dummy_epoch_size150.auto', 'pre_dummy_epoch_size10.auto', 'pre_dummy_epoch_size0.auto']\n",
      "../output/20_0310_edm2020_synthetic/pre_dummy_epoch_size150.auto/report/20200310-0903/report.json\n",
      "../output/20_0310_edm2020_synthetic/pre_dummy_epoch_size10.auto/report/20200310-0913/report.json\n",
      "../output/20_0310_edm2020_synthetic/pre_dummy_epoch_size0.auto/report/20200310-0920/report.json\n",
      "['pre_dummy_epoch_size150.auto', 'pre_dummy_epoch_size10.auto', 'pre_dummy_epoch_size0.auto']\n",
      "\\begin{tabular}{lllrrllrr}\n",
      "\\toprule\n",
      "{} &                    dataset &                         model &       auc &  auc\\_std & r1\\_good & r1\\_goodbad &        r2 &    r2\\_std \\\\\n",
      "\\midrule\n",
      "0 &  20\\_0310\\_edm2020\\_synthetic &  pre\\_dummy\\_epoch\\_size150.auto &  0.773313 &      NaN &      46 &         50 &  0.890824 &  0.113911 \\\\\n",
      "1 &  20\\_0310\\_edm2020\\_synthetic &   pre\\_dummy\\_epoch\\_size10.auto &  0.776778 &      NaN &      44 &         50 &  0.894807 &  0.115647 \\\\\n",
      "2 &  20\\_0310\\_edm2020\\_synthetic &    pre\\_dummy\\_epoch\\_size0.auto &  0.777116 &      NaN &      26 &         50 &  0.792350 &  0.130606 \\\\\n",
      "\\bottomrule\n",
      "\\end{tabular}\n",
      "\n",
      "['pre_dummy_epoch_size150.auto', 'pre_dummy_epoch_size10.auto', 'pre_dummy_epoch_size0.auto']\n",
      "../output/20_0310_edm2020_statics/pre_dummy_epoch_size150.auto/report/20200310-0559/report.json\n",
      "../output/20_0310_edm2020_statics/pre_dummy_epoch_size10.auto/report/20200310-0404/report.json\n",
      "../output/20_0310_edm2020_statics/pre_dummy_epoch_size0.auto/report/20200310-0202/report.json\n",
      "['pre_dummy_epoch_size150.auto', 'pre_dummy_epoch_size10.auto', 'pre_dummy_epoch_size0.auto']\n",
      "\\begin{tabular}{lllrrllrr}\n",
      "\\toprule\n",
      "{} &                  dataset &                         model &       auc &   auc\\_std & r1\\_good & r1\\_goodbad &        r2 &    r2\\_std \\\\\n",
      "\\midrule\n",
      "0 &  20\\_0310\\_edm2020\\_statics &  pre\\_dummy\\_epoch\\_size150.auto &  0.792491 &  0.000426 &     716 &       1223 &  0.809500 &  0.158295 \\\\\n",
      "1 &  20\\_0310\\_edm2020\\_statics &   pre\\_dummy\\_epoch\\_size10.auto &  0.794149 &  0.003777 &     934 &       1223 &  0.885513 &  0.126757 \\\\\n",
      "2 &  20\\_0310\\_edm2020\\_statics &    pre\\_dummy\\_epoch\\_size0.auto &  0.787167 &  0.000661 &     639 &       1223 &  0.778891 &  0.149663 \\\\\n",
      "\\bottomrule\n",
      "\\end{tabular}\n",
      "\n"
     ]
    }
   ],
   "source": [
    "print(summarize_results('20_0310_edm2020_assist09').to_latex())\n",
    "print(summarize_results('20_0310_edm2020_assist15').to_latex())\n",
    "print(summarize_results('20_0310_edm2020_synthetic', folds=1).to_latex())\n",
    "print(summarize_results('20_0310_edm2020_statics').to_latex())"
   ]
  },
  {
   "cell_type": "markdown",
   "metadata": {},
   "source": [
    "## NDCG distplot"
   ]
  },
  {
   "cell_type": "code",
   "execution_count": 11,
   "metadata": {},
   "outputs": [],
   "source": [
    "def ndcg_distplot(config_name, bins=20):\n",
    "    report_list = []\n",
    "    for r in sorted([load_json(get_report_path(projectdir, e)) for e in get_exp_paths(projectdir, config_name)], key=lambda x: x['config']['pre_dummy_epoch_size']):\n",
    "        if r['config']['pre_dummy_epoch_size'] not in {0, 10}:\n",
    "            continue\n",
    "        r['config']['exp_name'] = f\"DKT pre {r['config']['pre_dummy_epoch_size']}\"\n",
    "        report_list.append(r)\n",
    "    for rep in report_list:\n",
    "        r = rep['indicator']['RPhard']['all']\n",
    "        name = rep['config']['exp_name']\n",
    "        sns.distplot(r, bins=bins, label=name, kde_kws={'clip': (0.0, 1.0)})\n",
    "    plt.legend()\n",
    "    plt.xlabel('NDCG distribution')\n",
    "    plt.ylabel('frequency')\n",
    "    plt.title(config_name)\n",
    "    plt.show()"
   ]
  },
  {
   "cell_type": "code",
   "execution_count": 12,
   "metadata": {},
   "outputs": [
    {
     "ename": "TypeError",
     "evalue": "get_report_path() missing 1 required positional argument: 'exp_name'",
     "output_type": "error",
     "traceback": [
      "\u001b[0;31m---------------------------------------------------------------------------\u001b[0m",
      "\u001b[0;31mTypeError\u001b[0m                                 Traceback (most recent call last)",
      "\u001b[0;32m<ipython-input-12-e8b16570d7c7>\u001b[0m in \u001b[0;36m<module>\u001b[0;34m\u001b[0m\n\u001b[0;32m----> 1\u001b[0;31m \u001b[0mndcg_distplot\u001b[0m\u001b[0;34m(\u001b[0m\u001b[0;34m'20_0310_edm2020_assist09'\u001b[0m\u001b[0;34m)\u001b[0m\u001b[0;34m\u001b[0m\u001b[0;34m\u001b[0m\u001b[0m\n\u001b[0m\u001b[1;32m      2\u001b[0m \u001b[0mndcg_distplot\u001b[0m\u001b[0;34m(\u001b[0m\u001b[0;34m'20_0310_edm2020_assist15'\u001b[0m\u001b[0;34m)\u001b[0m\u001b[0;34m\u001b[0m\u001b[0;34m\u001b[0m\u001b[0m\n\u001b[1;32m      3\u001b[0m \u001b[0mndcg_distplot\u001b[0m\u001b[0;34m(\u001b[0m\u001b[0;34m'20_0310_edm2020_synthetic'\u001b[0m\u001b[0;34m)\u001b[0m\u001b[0;34m\u001b[0m\u001b[0;34m\u001b[0m\u001b[0m\n\u001b[1;32m      4\u001b[0m \u001b[0mndcg_distplot\u001b[0m\u001b[0;34m(\u001b[0m\u001b[0;34m'20_0310_edm2020_statics'\u001b[0m\u001b[0;34m)\u001b[0m\u001b[0;34m\u001b[0m\u001b[0;34m\u001b[0m\u001b[0m\n",
      "\u001b[0;32m<ipython-input-11-74cee0f738fb>\u001b[0m in \u001b[0;36mndcg_distplot\u001b[0;34m(config_name, bins)\u001b[0m\n\u001b[1;32m      1\u001b[0m \u001b[0;32mdef\u001b[0m \u001b[0mndcg_distplot\u001b[0m\u001b[0;34m(\u001b[0m\u001b[0mconfig_name\u001b[0m\u001b[0;34m,\u001b[0m \u001b[0mbins\u001b[0m\u001b[0;34m=\u001b[0m\u001b[0;36m20\u001b[0m\u001b[0;34m)\u001b[0m\u001b[0;34m:\u001b[0m\u001b[0;34m\u001b[0m\u001b[0;34m\u001b[0m\u001b[0m\n\u001b[1;32m      2\u001b[0m     \u001b[0mreport_list\u001b[0m \u001b[0;34m=\u001b[0m \u001b[0;34m[\u001b[0m\u001b[0;34m]\u001b[0m\u001b[0;34m\u001b[0m\u001b[0;34m\u001b[0m\u001b[0m\n\u001b[0;32m----> 3\u001b[0;31m     \u001b[0;32mfor\u001b[0m \u001b[0mr\u001b[0m \u001b[0;32min\u001b[0m \u001b[0msorted\u001b[0m\u001b[0;34m(\u001b[0m\u001b[0;34m[\u001b[0m\u001b[0mload_json\u001b[0m\u001b[0;34m(\u001b[0m\u001b[0mget_report_path\u001b[0m\u001b[0;34m(\u001b[0m\u001b[0mprojectdir\u001b[0m\u001b[0;34m,\u001b[0m \u001b[0me\u001b[0m\u001b[0;34m)\u001b[0m\u001b[0;34m)\u001b[0m \u001b[0;32mfor\u001b[0m \u001b[0me\u001b[0m \u001b[0;32min\u001b[0m \u001b[0mget_exp_paths\u001b[0m\u001b[0;34m(\u001b[0m\u001b[0mprojectdir\u001b[0m\u001b[0;34m,\u001b[0m \u001b[0mconfig_name\u001b[0m\u001b[0;34m)\u001b[0m\u001b[0;34m]\u001b[0m\u001b[0;34m,\u001b[0m \u001b[0mkey\u001b[0m\u001b[0;34m=\u001b[0m\u001b[0;32mlambda\u001b[0m \u001b[0mx\u001b[0m\u001b[0;34m:\u001b[0m \u001b[0mx\u001b[0m\u001b[0;34m[\u001b[0m\u001b[0;34m'config'\u001b[0m\u001b[0;34m]\u001b[0m\u001b[0;34m[\u001b[0m\u001b[0;34m'pre_dummy_epoch_size'\u001b[0m\u001b[0;34m]\u001b[0m\u001b[0;34m)\u001b[0m\u001b[0;34m:\u001b[0m\u001b[0;34m\u001b[0m\u001b[0;34m\u001b[0m\u001b[0m\n\u001b[0m\u001b[1;32m      4\u001b[0m         \u001b[0;32mif\u001b[0m \u001b[0mr\u001b[0m\u001b[0;34m[\u001b[0m\u001b[0;34m'config'\u001b[0m\u001b[0;34m]\u001b[0m\u001b[0;34m[\u001b[0m\u001b[0;34m'pre_dummy_epoch_size'\u001b[0m\u001b[0;34m]\u001b[0m \u001b[0;32mnot\u001b[0m \u001b[0;32min\u001b[0m \u001b[0;34m{\u001b[0m\u001b[0;36m0\u001b[0m\u001b[0;34m,\u001b[0m \u001b[0;36m10\u001b[0m\u001b[0;34m}\u001b[0m\u001b[0;34m:\u001b[0m\u001b[0;34m\u001b[0m\u001b[0;34m\u001b[0m\u001b[0m\n\u001b[1;32m      5\u001b[0m             \u001b[0;32mcontinue\u001b[0m\u001b[0;34m\u001b[0m\u001b[0;34m\u001b[0m\u001b[0m\n",
      "\u001b[0;32m<ipython-input-11-74cee0f738fb>\u001b[0m in \u001b[0;36m<listcomp>\u001b[0;34m(.0)\u001b[0m\n\u001b[1;32m      1\u001b[0m \u001b[0;32mdef\u001b[0m \u001b[0mndcg_distplot\u001b[0m\u001b[0;34m(\u001b[0m\u001b[0mconfig_name\u001b[0m\u001b[0;34m,\u001b[0m \u001b[0mbins\u001b[0m\u001b[0;34m=\u001b[0m\u001b[0;36m20\u001b[0m\u001b[0;34m)\u001b[0m\u001b[0;34m:\u001b[0m\u001b[0;34m\u001b[0m\u001b[0;34m\u001b[0m\u001b[0m\n\u001b[1;32m      2\u001b[0m     \u001b[0mreport_list\u001b[0m \u001b[0;34m=\u001b[0m \u001b[0;34m[\u001b[0m\u001b[0;34m]\u001b[0m\u001b[0;34m\u001b[0m\u001b[0;34m\u001b[0m\u001b[0m\n\u001b[0;32m----> 3\u001b[0;31m     \u001b[0;32mfor\u001b[0m \u001b[0mr\u001b[0m \u001b[0;32min\u001b[0m \u001b[0msorted\u001b[0m\u001b[0;34m(\u001b[0m\u001b[0;34m[\u001b[0m\u001b[0mload_json\u001b[0m\u001b[0;34m(\u001b[0m\u001b[0mget_report_path\u001b[0m\u001b[0;34m(\u001b[0m\u001b[0mprojectdir\u001b[0m\u001b[0;34m,\u001b[0m \u001b[0me\u001b[0m\u001b[0;34m)\u001b[0m\u001b[0;34m)\u001b[0m \u001b[0;32mfor\u001b[0m \u001b[0me\u001b[0m \u001b[0;32min\u001b[0m \u001b[0mget_exp_paths\u001b[0m\u001b[0;34m(\u001b[0m\u001b[0mprojectdir\u001b[0m\u001b[0;34m,\u001b[0m \u001b[0mconfig_name\u001b[0m\u001b[0;34m)\u001b[0m\u001b[0;34m]\u001b[0m\u001b[0;34m,\u001b[0m \u001b[0mkey\u001b[0m\u001b[0;34m=\u001b[0m\u001b[0;32mlambda\u001b[0m \u001b[0mx\u001b[0m\u001b[0;34m:\u001b[0m \u001b[0mx\u001b[0m\u001b[0;34m[\u001b[0m\u001b[0;34m'config'\u001b[0m\u001b[0;34m]\u001b[0m\u001b[0;34m[\u001b[0m\u001b[0;34m'pre_dummy_epoch_size'\u001b[0m\u001b[0;34m]\u001b[0m\u001b[0;34m)\u001b[0m\u001b[0;34m:\u001b[0m\u001b[0;34m\u001b[0m\u001b[0;34m\u001b[0m\u001b[0m\n\u001b[0m\u001b[1;32m      4\u001b[0m         \u001b[0;32mif\u001b[0m \u001b[0mr\u001b[0m\u001b[0;34m[\u001b[0m\u001b[0;34m'config'\u001b[0m\u001b[0;34m]\u001b[0m\u001b[0;34m[\u001b[0m\u001b[0;34m'pre_dummy_epoch_size'\u001b[0m\u001b[0;34m]\u001b[0m \u001b[0;32mnot\u001b[0m \u001b[0;32min\u001b[0m \u001b[0;34m{\u001b[0m\u001b[0;36m0\u001b[0m\u001b[0;34m,\u001b[0m \u001b[0;36m10\u001b[0m\u001b[0;34m}\u001b[0m\u001b[0;34m:\u001b[0m\u001b[0;34m\u001b[0m\u001b[0;34m\u001b[0m\u001b[0m\n\u001b[1;32m      5\u001b[0m             \u001b[0;32mcontinue\u001b[0m\u001b[0;34m\u001b[0m\u001b[0;34m\u001b[0m\u001b[0m\n",
      "\u001b[0;31mTypeError\u001b[0m: get_report_path() missing 1 required positional argument: 'exp_name'"
     ]
    }
   ],
   "source": [
    "ndcg_distplot('20_0310_edm2020_assist09')\n",
    "ndcg_distplot('20_0310_edm2020_assist15')\n",
    "ndcg_distplot('20_0310_edm2020_synthetic')\n",
    "ndcg_distplot('20_0310_edm2020_statics')"
   ]
  },
  {
   "cell_type": "markdown",
   "metadata": {},
   "source": [
    "## Learning curve"
   ]
  },
  {
   "cell_type": "code",
   "execution_count": null,
   "metadata": {},
   "outputs": [],
   "source": [
    "def lc_plot(config_name):\n",
    "    report_list = []\n",
    "    for r in sorted([load_json(get_report_path(projectdir, e)) for e in get_exp_paths(projectdir, config_name)], key=lambda x: x['config']['pre_dummy_epoch_size']):\n",
    "        if r['config']['pre_dummy_epoch_size'] not in {0, 10}:\n",
    "            continue\n",
    "        r['config']['exp_name'] = f\"DKT pre {r['config']['pre_dummy_epoch_size']}\"\n",
    "        report_list.append(r)\n",
    "    for r in report_list:\n",
    "#         show_valid_lc(r['config']['exp_name'], r['indicator'])\n",
    "        idclist_dic = r['indicator']\n",
    "        idc = 'eval_auc'\n",
    "        min_len = min([len(_x) for _x in idclist_dic['epoch'].values()])\n",
    "        x = idclist_dic['epoch']['0'][:min_len] * (len(idclist_dic['epoch']) -1)  # exclude 'all'\n",
    "        y = []\n",
    "        for _y in idclist_dic[idc].values():\n",
    "            y += _y[:min_len]\n",
    "        sns.lineplot(x=x, y=y, label=r['config']['exp_name'], ci='sd')\n",
    "    plt.title(config_name)\n",
    "    plt.xlabel('epoch')\n",
    "    plt.ylabel('AUC')\n",
    "    plt.show()"
   ]
  },
  {
   "cell_type": "code",
   "execution_count": null,
   "metadata": {},
   "outputs": [],
   "source": [
    "lc_plot('20_0310_edm2020_assist09')\n",
    "lc_plot('20_0310_edm2020_assist15')\n",
    "lc_plot('20_0310_edm2020_synthetic')\n",
    "lc_plot('20_0310_edm2020_statics')"
   ]
  },
  {
   "cell_type": "code",
   "execution_count": null,
   "metadata": {},
   "outputs": [],
   "source": []
  },
  {
   "cell_type": "markdown",
   "metadata": {},
   "source": [
    "# `20_0310_edm2020_assist09`"
   ]
  },
  {
   "cell_type": "markdown",
   "metadata": {},
   "source": [
    "## Simulated curve"
   ]
  },
  {
   "cell_type": "code",
   "execution_count": null,
   "metadata": {},
   "outputs": [],
   "source": [
    "config_name = '20_0310_edm2020_assist09'\n",
    "report_list = []\n",
    "for r in sorted([load_json(get_report_path(projectdir, e)) for e in get_exp_paths(projectdir, config_name)], key=lambda x: x['config']['pre_dummy_epoch_size']):\n",
    "    if r['config']['pre_dummy_epoch_size'] not in {0, 10}:\n",
    "        continue\n",
    "    r['config']['exp_name'] = f\"DKT pre {r['config']['pre_dummy_epoch_size']}\"\n",
    "    report_list.append(r)\n",
    "\n",
    "[r['config']['exp_name'] for r in report_list]"
   ]
  },
  {
   "cell_type": "code",
   "execution_count": null,
   "metadata": {},
   "outputs": [],
   "source": [
    "def get_simu_res(report_dic):\n",
    "    return report_dic['indicator']['simu_pred']['all']\n",
    "\n",
    "simures_list = []\n",
    "for r in report_list:\n",
    "    simu_res = get_simu_res(r)\n",
    "    simures_list.append(simu_res)\n",
    "    \n",
    "base_idx = 0\n",
    "base_res = {k:v for k, v in sorted(simures_list[base_idx].items(), key=lambda it: it[1][1][-1] - it[1][1][0])}\n",
    "descres_list = []\n",
    "for i, simu_res in enumerate(simures_list):\n",
    "    if i == base_idx:\n",
    "        continue\n",
    "    desc_res = {k:simu_res[k] for k in base_res.keys()}\n",
    "    descres_list.append(desc_res)"
   ]
  },
  {
   "cell_type": "code",
   "execution_count": null,
   "metadata": {},
   "outputs": [],
   "source": [
    "n_skills = report_list[base_idx]['config']['n_skills']\n",
    "h, w = (n_skills+7)//8, 8\n",
    "figscale = 2.5\n",
    "hspace = 0.35\n",
    "fig, axs = plt.subplots(h, w, figsize=(w*figscale, h*figscale))\n",
    "plt.subplots_adjust(hspace=hspace)\n",
    "for i, (v, (xidx, sanity)) in enumerate(list(base_res.items())[:h*w]):\n",
    "    ax = axs[i//(w), i%(w)]\n",
    "    ax.set_ylim([0, 1])\n",
    "    ax.set_title('KC{}'.format(v))\n",
    "    sns.lineplot(xidx, sanity, ax=ax, label='base', palette=\"ch:2.5,.25\")\n",
    "    for i, desc_res in enumerate(descres_list):\n",
    "        sns.lineplot(xidx, desc_res[v][1], ax=ax, label=str(i+1), palette=\"ch:2.5,.25\")\n",
    "    ax.get_legend().remove()\n",
    "handles, labels = ax.get_legend_handles_labels()\n",
    "fig.legend(handles, labels, loc='upper center')\n",
    "plt.show()"
   ]
  },
  {
   "cell_type": "markdown",
   "metadata": {},
   "source": [
    "## Single ones"
   ]
  },
  {
   "cell_type": "code",
   "execution_count": null,
   "metadata": {},
   "outputs": [],
   "source": [
    "def plot_single(kc):\n",
    "    x, y = base_res[str(kc)]\n",
    "    sns.lineplot(x=x, y=y)\n",
    "plot_single(78)"
   ]
  },
  {
   "cell_type": "code",
   "execution_count": null,
   "metadata": {},
   "outputs": [],
   "source": [
    "f, axs = plt.subplots(1, 3, sharey=True, figsize=(12,3))\n",
    "f.tight_layout()\n",
    "for i, (kc, ax) in enumerate(zip([30, 83, 98], axs)):\n",
    "    ax.set_ylim([0, 1])\n",
    "    x, y = base_res[str(kc)]\n",
    "    sns.lineplot(x=x, y=y, ax=ax)\n",
    "    ax.set_title(f'KC{kc}')\n",
    "    ax.set_ylabel('predicted accuracy')\n",
    "    ax.set_xlabel('$k$\\n({})'.format(['a','b','c'][i]))\n",
    "plt.show()"
   ]
  },
  {
   "cell_type": "markdown",
   "metadata": {},
   "source": [
    "## NDCG"
   ]
  },
  {
   "cell_type": "code",
   "execution_count": null,
   "metadata": {},
   "outputs": [],
   "source": [
    "for rep in report_list:\n",
    "    r = rep['indicator']['RPhard']['all']\n",
    "    name = rep['config']['exp_name']\n",
    "    sns.distplot(r, bins=10, label=name, kde_kws={'clip': (0.0, 1.0)})\n",
    "    print(f'{name:<20s}\\t{mean(r):.4f}±{stdev(r):.4f}')\n",
    "plt.legend()\n",
    "plt.show()"
   ]
  },
  {
   "cell_type": "code",
   "execution_count": null,
   "metadata": {},
   "outputs": [],
   "source": [
    "for rep in report_list:\n",
    "    r = rep['indicator']['RPsoft']['all']\n",
    "    name = rep['config']['exp_name']\n",
    "    print(f'{name:<20s}\\tGood:Bad = {r[\"good\"]}:{r[\"bad\"]}')"
   ]
  },
  {
   "cell_type": "markdown",
   "metadata": {},
   "source": [
    "## Learning curve"
   ]
  },
  {
   "cell_type": "code",
   "execution_count": null,
   "metadata": {},
   "outputs": [],
   "source": [
    "for r in report_list:\n",
    "    show_valid_lc(r['config']['exp_name'], r['indicator'])\n",
    "plt.show()"
   ]
  },
  {
   "cell_type": "code",
   "execution_count": null,
   "metadata": {},
   "outputs": [],
   "source": [
    "for r in report_list:\n",
    "    show_valid_lc(r['config']['exp_name'], r['indicator'], idc='eval_loss')\n",
    "plt.show()"
   ]
  },
  {
   "cell_type": "markdown",
   "metadata": {},
   "source": [
    "## Test AUC"
   ]
  },
  {
   "cell_type": "code",
   "execution_count": null,
   "metadata": {},
   "outputs": [],
   "source": [
    "for r in report_list:\n",
    "    summarize_test_res(r)"
   ]
  },
  {
   "cell_type": "code",
   "execution_count": null,
   "metadata": {},
   "outputs": [],
   "source": []
  },
  {
   "cell_type": "code",
   "execution_count": null,
   "metadata": {},
   "outputs": [],
   "source": []
  },
  {
   "cell_type": "code",
   "execution_count": null,
   "metadata": {},
   "outputs": [],
   "source": []
  },
  {
   "cell_type": "markdown",
   "metadata": {
    "toc-hr-collapsed": true,
    "toc-nb-collapsed": true
   },
   "source": [
    "# `Debug`"
   ]
  },
  {
   "cell_type": "code",
   "execution_count": null,
   "metadata": {},
   "outputs": [],
   "source": []
  },
  {
   "cell_type": "code",
   "execution_count": null,
   "metadata": {},
   "outputs": [],
   "source": []
  },
  {
   "cell_type": "markdown",
   "metadata": {},
   "source": [
    "## Simulated curve"
   ]
  },
  {
   "cell_type": "code",
   "execution_count": null,
   "metadata": {},
   "outputs": [],
   "source": [
    "def get_simu_res(report_dic):\n",
    "    return report_dic['indicator']['simu_pred']['all']\n",
    "\n",
    "simures_list = []\n",
    "for r in report_list:\n",
    "    simu_res = get_simu_res(r)\n",
    "    simures_list.append(simu_res)\n",
    "    \n",
    "base_idx = 0\n",
    "base_res = {k:v for k, v in sorted(simures_list[base_idx].items(), key=lambda it: it[1][1][-1] - it[1][1][0])}\n",
    "descres_list = []\n",
    "for i, simu_res in enumerate(simures_list):\n",
    "    if i == base_idx:\n",
    "        continue\n",
    "    desc_res = {k:simu_res[k] for k in base_res.keys()}\n",
    "    descres_list.append(desc_res)"
   ]
  },
  {
   "cell_type": "markdown",
   "metadata": {},
   "source": [
    "## NDCG"
   ]
  },
  {
   "cell_type": "code",
   "execution_count": null,
   "metadata": {},
   "outputs": [],
   "source": [
    "for rep in report_list:\n",
    "    r = rep['indicator']['RPsoft']['all']\n",
    "    name = rep['config']['exp_name']\n",
    "    print(f'{name:<20s}\\tGood:Bad = {r[\"good\"]}:{r[\"bad\"]}')"
   ]
  },
  {
   "cell_type": "code",
   "execution_count": null,
   "metadata": {},
   "outputs": [],
   "source": [
    "for r in report_list:\n",
    "    show_valid_lc(r['config']['exp_name'], r['indicator'])\n",
    "plt.show()"
   ]
  },
  {
   "cell_type": "markdown",
   "metadata": {},
   "source": [
    "## Test AUC"
   ]
  },
  {
   "cell_type": "markdown",
   "metadata": {},
   "source": [
    "## Simulated curve"
   ]
  },
  {
   "cell_type": "code",
   "execution_count": null,
   "metadata": {},
   "outputs": [],
   "source": [
    "def get_simu_res(report_dic):\n",
    "    return report_dic['indicator']['simu_pred']['all']\n",
    "\n",
    "\n",
    "simures_list = []\n",
    "for r in report_list:\n",
    "    simu_res = get_simu_res(r)\n",
    "    simures_list.append(simu_res)\n",
    "    \n",
    "\n",
    "base_idx = 1\n",
    "base_res = {k:v for k, v in sorted(simures_list[base_idx].items(), key=lambda it: it[1][1][-1] - it[1][1][0])}\n",
    "descres_list = []\n",
    "for i, simu_res in enumerate(simures_list):\n",
    "    if i == base_idx:\n",
    "        continue\n",
    "    desc_res = {k:simu_res[k] for k in base_res.keys()}\n",
    "    descres_list.append(desc_res)"
   ]
  },
  {
   "cell_type": "markdown",
   "metadata": {},
   "source": [
    "## NDCG"
   ]
  },
  {
   "cell_type": "code",
   "execution_count": null,
   "metadata": {},
   "outputs": [],
   "source": [
    "for rep in report_list:\n",
    "    r = rep['indicator']['RPsoft']['all']\n",
    "    name = rep['config']['exp_name']\n",
    "    print(f'{name:<20s}\\tGood:Bad = {r[\"good\"]}:{r[\"bad\"]}')"
   ]
  },
  {
   "cell_type": "markdown",
   "metadata": {},
   "source": [
    "## Learning curve"
   ]
  },
  {
   "cell_type": "code",
   "execution_count": null,
   "metadata": {},
   "outputs": [],
   "source": [
    "for r in report_list:\n",
    "    show_valid_lc(r['config']['exp_name'], r['indicator'])\n",
    "plt.show()"
   ]
  },
  {
   "cell_type": "markdown",
   "metadata": {},
   "source": [
    "## Test AUC"
   ]
  },
  {
   "cell_type": "code",
   "execution_count": null,
   "metadata": {},
   "outputs": [],
   "source": [
    "def summarize_test_res(rep):\n",
    "    print(rep['config']['exp_name'], end=':\\t')\n",
    "    s = pd.Series([rep['best']['auc_epoch'][str(i)] for i in range(5)])\n",
    "    print(f'Best epoch at {s.mean():>6.1f}±{s.std():<5.1f}', end='\\t')\n",
    "    s = pd.Series([rep['best']['auc'][str(i)] for i in range(5)])\n",
    "    print(f'Valid AUC: {s.mean()*100:.4f}±{s.std()*100:.4f}', end='\\t')\n",
    "    s = rep['indicator']['test_auc']['all'][0]\n",
    "    print(f'Test AUC: {s*100:.4f}')"
   ]
  },
  {
   "cell_type": "code",
   "execution_count": null,
   "metadata": {},
   "outputs": [],
   "source": [
    "for r in report_list:\n",
    "    summarize_test_res(r)"
   ]
  },
  {
   "cell_type": "code",
   "execution_count": null,
   "metadata": {},
   "outputs": [],
   "source": []
  },
  {
   "cell_type": "markdown",
   "metadata": {
    "toc-hr-collapsed": true,
    "toc-nb-collapsed": true
   },
   "source": [
    "# `20_0310_edm2020_synthetic`"
   ]
  },
  {
   "cell_type": "markdown",
   "metadata": {},
   "source": [
    "## Simulated curve"
   ]
  },
  {
   "cell_type": "code",
   "execution_count": null,
   "metadata": {},
   "outputs": [],
   "source": [
    "config_name = '20_0310_edm2020_synthetic'\n",
    "report_list = []\n",
    "for r in sorted([load_json(get_report_path(projectdir, e)) for e in get_exp_paths(projectdir, config_name)], key=lambda x: x['config']['pre_dummy_epoch_size']):\n",
    "    report_list.append(r)\n",
    "\n",
    "[r['config']['exp_name'] for r in report_list]"
   ]
  },
  {
   "cell_type": "code",
   "execution_count": null,
   "metadata": {},
   "outputs": [],
   "source": [
    "def get_simu_res(report_dic):\n",
    "    return report_dic['indicator']['simu_pred']['all']\n",
    "\n",
    "simures_list = []\n",
    "for r in report_list:\n",
    "    simu_res = get_simu_res(r)\n",
    "    simures_list.append(simu_res)\n",
    "    \n",
    "base_idx = 0\n",
    "base_res = {k:v for k, v in sorted(simures_list[base_idx].items(), key=lambda it: it[1][1][-1] - it[1][1][0])}\n",
    "descres_list = []\n",
    "for i, simu_res in enumerate(simures_list):\n",
    "    if i == base_idx:\n",
    "        continue\n",
    "    desc_res = {k:simu_res[k] for k in base_res.keys()}\n",
    "    descres_list.append(desc_res)"
   ]
  },
  {
   "cell_type": "code",
   "execution_count": null,
   "metadata": {},
   "outputs": [],
   "source": [
    "n_skills = report_list[base_idx]['config']['n_skills']\n",
    "h, w = (n_skills+7)//8, 8\n",
    "figscale = 2.5\n",
    "hspace = 0.35\n",
    "fig, axs = plt.subplots(h, w, figsize=(w*figscale, h*figscale))\n",
    "plt.subplots_adjust(hspace=hspace)\n",
    "for i, (v, (xidx, sanity)) in enumerate(list(base_res.items())[:h*w]):\n",
    "    ax = axs[i//(w), i%(w)]\n",
    "    ax.set_ylim([0, 1])\n",
    "    ax.set_title('KC{} s{}0'.format(v, '>' if sanity[-1]>sanity[0] else '<'))\n",
    "    sns.lineplot(xidx, sanity, ax=ax, label='base', palette=\"ch:2.5,.25\")\n",
    "    for i, desc_res in enumerate(descres_list):\n",
    "        sns.lineplot(xidx, desc_res[v][1], ax=ax, label=str(i+1), palette=\"ch:2.5,.25\")\n",
    "    ax.get_legend().remove()\n",
    "handles, labels = ax.get_legend_handles_labels()\n",
    "fig.legend(handles, labels, loc='upper center')\n",
    "plt.show()"
   ]
  },
  {
   "cell_type": "markdown",
   "metadata": {},
   "source": [
    "## NDCG"
   ]
  },
  {
   "cell_type": "code",
   "execution_count": null,
   "metadata": {},
   "outputs": [],
   "source": [
    "for rep in report_list:\n",
    "    r = rep['indicator']['RPhard']['all']\n",
    "    name = rep['config']['exp_name']\n",
    "    sns.distplot(r, bins=10, label=name, kde_kws={'clip': (0.0, 1.0)})\n",
    "    print(f'{name:<20s}\\t{mean(r):.4f}±{stdev(r):.4f}')\n",
    "plt.legend()\n",
    "plt.show()"
   ]
  },
  {
   "cell_type": "code",
   "execution_count": null,
   "metadata": {},
   "outputs": [],
   "source": [
    "for rep in report_list:\n",
    "    r = rep['indicator']['RPsoft']['all']\n",
    "    name = rep['config']['exp_name']\n",
    "    print(f'{name:<20s}\\tGood:Bad = {r[\"good\"]}:{r[\"bad\"]}')"
   ]
  },
  {
   "cell_type": "markdown",
   "metadata": {},
   "source": [
    "## Learning curve"
   ]
  },
  {
   "cell_type": "code",
   "execution_count": null,
   "metadata": {},
   "outputs": [],
   "source": [
    "for r in report_list:\n",
    "    show_valid_lc(r['config']['exp_name'], r['indicator'])\n",
    "plt.show()"
   ]
  },
  {
   "cell_type": "code",
   "execution_count": null,
   "metadata": {},
   "outputs": [],
   "source": [
    "for r in report_list:\n",
    "    show_valid_lc(r['config']['exp_name'], r['indicator'])\n",
    "plt.show()"
   ]
  },
  {
   "cell_type": "markdown",
   "metadata": {},
   "source": [
    "## Test AUC"
   ]
  },
  {
   "cell_type": "code",
   "execution_count": null,
   "metadata": {},
   "outputs": [],
   "source": [
    "for r in report_list:\n",
    "    show_valid_lc(r['config']['exp_name'], r['indicator'], idc='eval_loss')\n",
    "    summarize_test_res(r, folds=1)\n",
    "plt.show()"
   ]
  },
  {
   "cell_type": "markdown",
   "metadata": {},
   "source": [
    "## Test AUC"
   ]
  },
  {
   "cell_type": "code",
   "execution_count": null,
   "metadata": {},
   "outputs": [],
   "source": [
    "for r in report_list:\n",
    "    show_valid_lc(r['config']['exp_name'], r['indicator'])\n",
    "plt.show()"
   ]
  },
  {
   "cell_type": "markdown",
   "metadata": {},
   "source": [
    "## Learning curve"
   ]
  },
  {
   "cell_type": "code",
   "execution_count": null,
   "metadata": {},
   "outputs": [],
   "source": [
    "for rep in report_list:\n",
    "    r = rep['indicator']['RPsoft']['all']\n",
    "    name = rep['config']['exp_name']\n",
    "    print(f'{name:<20s}\\tGood:Bad = {r[\"good\"]}:{r[\"bad\"]}')"
   ]
  },
  {
   "cell_type": "markdown",
   "metadata": {},
   "source": [
    "# `20_0310_edm2020_assist15`"
   ]
  },
  {
   "cell_type": "markdown",
   "metadata": {},
   "source": [
    "## Simulated curve"
   ]
  },
  {
   "cell_type": "code",
   "execution_count": null,
   "metadata": {},
   "outputs": [],
   "source": [
    "config_name = '20_0310_edm2020_assist15'\n",
    "report_list = []\n",
    "for r in sorted([load_json(get_report_path(projectdir, e)) for e in get_exp_paths(projectdir, config_name)], key=lambda x: x['config']['pre_dummy_epoch_size']):\n",
    "    report_list.append(r)\n",
    "\n",
    "[r['config']['exp_name'] for r in report_list]"
   ]
  },
  {
   "cell_type": "code",
   "execution_count": null,
   "metadata": {},
   "outputs": [],
   "source": [
    "def get_simu_res(report_dic):\n",
    "    return report_dic['indicator']['simu_pred']['all']\n",
    "\n",
    "simures_list = []\n",
    "for r in report_list:\n",
    "    simu_res = get_simu_res(r)\n",
    "    simures_list.append(simu_res)\n",
    "    \n",
    "base_idx = 0\n",
    "base_res = {k:v for k, v in sorted(simures_list[base_idx].items(), key=lambda it: it[1][1][-1] - it[1][1][0])}\n",
    "descres_list = []\n",
    "for i, simu_res in enumerate(simures_list):\n",
    "    if i == base_idx:\n",
    "        continue\n",
    "    desc_res = {k:simu_res[k] for k in base_res.keys()}\n",
    "    descres_list.append(desc_res)"
   ]
  },
  {
   "cell_type": "code",
   "execution_count": null,
   "metadata": {},
   "outputs": [],
   "source": [
    "n_skills = report_list[base_idx]['config']['n_skills']\n",
    "h, w = (n_skills+7)//8, 8\n",
    "figscale = 2.5\n",
    "hspace = 0.35\n",
    "fig, axs = plt.subplots(h, w, figsize=(w*figscale, h*figscale))\n",
    "plt.subplots_adjust(hspace=hspace)\n",
    "for i, (v, (xidx, sanity)) in enumerate(list(base_res.items())[:h*w]):\n",
    "    ax = axs[i//(w), i%(w)]\n",
    "    ax.set_ylim([0, 1])\n",
    "    ax.set_title('KC{} s{}0'.format(v, '>' if sanity[-1]>sanity[0] else '<'))\n",
    "    sns.lineplot(xidx, sanity, ax=ax, label='base', palette=\"ch:2.5,.25\")\n",
    "    for i, desc_res in enumerate(descres_list):\n",
    "        sns.lineplot(xidx, desc_res[v][1], ax=ax, label=str(i+1), palette=\"ch:2.5,.25\")\n",
    "    ax.get_legend().remove()\n",
    "handles, labels = ax.get_legend_handles_labels()\n",
    "fig.legend(handles, labels, loc='upper center')\n",
    "plt.show()"
   ]
  },
  {
   "cell_type": "markdown",
   "metadata": {},
   "source": [
    "## NDCG"
   ]
  },
  {
   "cell_type": "code",
   "execution_count": null,
   "metadata": {},
   "outputs": [],
   "source": [
    "for rep in report_list:\n",
    "    r = rep['indicator']['RPhard']['all']\n",
    "    name = rep['config']['exp_name']\n",
    "    sns.distplot(r, bins=20, label=name, kde_kws={'clip': (0.0, 1.0)})\n",
    "    print(f'{name:<20s}\\t{mean(r):.4f}±{stdev(r):.4f}')\n",
    "plt.legend()\n",
    "plt.show()"
   ]
  },
  {
   "cell_type": "markdown",
   "metadata": {},
   "source": [
    "## Learning curve AUC"
   ]
  },
  {
   "cell_type": "code",
   "execution_count": null,
   "metadata": {},
   "outputs": [],
   "source": [
    "for r in report_list:\n",
    "    show_valid_lc(r['config']['exp_name'], r['indicator'])\n",
    "    summarize_test_res(r)\n",
    "plt.show()"
   ]
  },
  {
   "cell_type": "code",
   "execution_count": null,
   "metadata": {},
   "outputs": [],
   "source": [
    "for r in report_list:\n",
    "    show_valid_lc(r['config']['exp_name'], r['indicator'], idc='eval_loss')\n",
    "plt.show()"
   ]
  },
  {
   "cell_type": "code",
   "execution_count": null,
   "metadata": {},
   "outputs": [],
   "source": []
  }
 ],
 "metadata": {
  "kernelspec": {
   "display_name": "Python 3",
   "language": "python",
   "name": "python3"
  },
  "language_info": {
   "codemirror_mode": {
    "name": "ipython",
    "version": 3
   },
   "file_extension": ".py",
   "mimetype": "text/x-python",
   "name": "python",
   "nbconvert_exporter": "python",
   "pygments_lexer": "ipython3",
   "version": "3.7.4"
  },
  "toc-showmarkdowntxt": true
 },
 "nbformat": 4,
 "nbformat_minor": 4
}
