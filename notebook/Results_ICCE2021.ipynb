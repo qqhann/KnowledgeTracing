{
 "cells": [
  {
   "cell_type": "code",
   "execution_count": 2,
   "metadata": {},
   "outputs": [],
   "source": [
    "import os\n",
    "import pandas as pd\n",
    "import numpy as np\n",
    "import json\n",
    "import pickle\n",
    "from collections import defaultdict\n",
    "from pathlib import Path\n",
    "from statistics import mean, stdev\n",
    "from sklearn.metrics import ndcg_score, dcg_score\n",
    "import matplotlib.pyplot as plt\n",
    "import seaborn as sns\n",
    "\n",
    "import torch\n",
    "\n",
    "import os, sys\n",
    "parentPath = os.path.abspath(\"..\")\n",
    "if parentPath not in sys.path:\n",
    "    sys.path.insert(0, parentPath)\n",
    "    \n",
    "from src.data import load_source\n",
    "from src.config import Config, get_option_fallback\n",
    "from src.path import get_best_model_paths, get_exp_paths, get_report_path, load_json, load_rep_cfg, get_exp_names\n",
    "from src.trainer import Trainer"
   ]
  },
  {
   "cell_type": "code",
   "execution_count": 3,
   "metadata": {},
   "outputs": [],
   "source": [
    "# projectdir = Path('/code')\n",
    "projectdir = Path('..')\n",
    "assert projectdir.exists()"
   ]
  },
  {
   "cell_type": "markdown",
   "metadata": {},
   "source": [
    "# Common Functions"
   ]
  },
  {
   "cell_type": "code",
   "execution_count": 3,
   "metadata": {},
   "outputs": [],
   "source": [
    "def summarize_test_res(rep, folds=5):\n",
    "    print(rep['config']['exp_name'], end=':\\t')\n",
    "    s = pd.Series([rep['best']['auc_epoch'][str(i)] for i in range(folds)])\n",
    "    print(f'Best epoch at {s.mean():>6.1f}±{s.std():<5.1f}', end='\\t')\n",
    "    s = pd.Series([rep['best']['auc'][str(i)] for i in range(folds)])\n",
    "    print(f'Valid AUC: {s.mean()*100:.4f}±{s.std()*100:.4f}', end='\\t')\n",
    "    s = pd.Series([rep['indicator']['test_auc'][str(i)][0] for i in range(folds)])\n",
    "    print(f'Test AUC: {s.mean()*100:.4f}±{s.std()*100:.4f}', end='\\t')\n",
    "    s = rep['indicator']['RPsoft']['all']\n",
    "    print(f'Good:Bad = {s[\"good\"]}:{s[\"bad\"]}', end='\\t')\n",
    "    s = rep['indicator']['test_auc']['all'][0]\n",
    "    print(f'All Test AUC: {s*100:.4f}')"
   ]
  },
  {
   "cell_type": "code",
   "execution_count": 4,
   "metadata": {},
   "outputs": [],
   "source": [
    "def show_valid_lc(name, idclist_dic, idc='eval_auc'):\n",
    "    min_len = min([len(_x) for _x in idclist_dic['epoch'].values()])\n",
    "    x = idclist_dic['epoch']['0'][:min_len] * (len(idclist_dic['epoch']) -1)  # exclude 'all'\n",
    "    y = []\n",
    "    for _y in idclist_dic[idc].values():\n",
    "        y += _y[:min_len]\n",
    "    sns.lineplot(x=x, y=y, label=name)\n",
    "    plt.title(idc)"
   ]
  },
  {
   "cell_type": "code",
   "execution_count": 5,
   "metadata": {},
   "outputs": [],
   "source": [
    "def summarize_results(config_name, folds=5):\n",
    "    report_paths = [get_report_path(projectdir, config_name, e) for e in get_exp_names(projectdir, config_name)]\n",
    "    reports = [load_json(r) for r in report_paths]\n",
    "    df = pd.DataFrame(columns=['dataset', 'model', 'auc', 'auc_std', 'r1_good', 'r1_goodbad', 'r2', 'r2_std'])\n",
    "    for r in reports:\n",
    "        row = {\n",
    "            'dataset':   r['config']['config_name'],\n",
    "            'model':     r['config']['exp_name'],\n",
    "            'auc':       mean([r['indicator']['test_auc'][str(i)][0] for i in range(folds)]),\n",
    "            'auc_std':   stdev([r['indicator']['test_auc'][str(i)][0] for i in range(folds)]) if folds > 1 else np.nan,\n",
    "            'r1_good':       r['indicator']['RPsoft']['all']['good'],\n",
    "            'r1_goodbad':       r['indicator']['RPsoft']['all']['good'] + r['indicator']['RPsoft']['all']['bad'],\n",
    "            'r2':      mean(r['indicator']['RPhard']['all']),\n",
    "            'r2_std': stdev(r['indicator']['RPhard']['all'])\n",
    "        }\n",
    "        df = df.append(row, ignore_index=True)\n",
    "    return df\n",
    "        "
   ]
  },
  {
   "cell_type": "markdown",
   "metadata": {},
   "source": [
    "# Summary"
   ]
  },
  {
   "cell_type": "markdown",
   "metadata": {},
   "source": [
    "## AUC table"
   ]
  },
  {
   "cell_type": "code",
   "execution_count": 6,
   "metadata": {},
   "outputs": [
    {
     "data": {
      "text/html": [
       "<div>\n",
       "<style scoped>\n",
       "    .dataframe tbody tr th:only-of-type {\n",
       "        vertical-align: middle;\n",
       "    }\n",
       "\n",
       "    .dataframe tbody tr th {\n",
       "        vertical-align: top;\n",
       "    }\n",
       "\n",
       "    .dataframe thead th {\n",
       "        text-align: right;\n",
       "    }\n",
       "</style>\n",
       "<table border=\"1\" class=\"dataframe\">\n",
       "  <thead>\n",
       "    <tr style=\"text-align: right;\">\n",
       "      <th></th>\n",
       "      <th>dataset</th>\n",
       "      <th>model</th>\n",
       "      <th>auc</th>\n",
       "      <th>auc_std</th>\n",
       "      <th>r1_good</th>\n",
       "      <th>r1_goodbad</th>\n",
       "      <th>r2</th>\n",
       "      <th>r2_std</th>\n",
       "    </tr>\n",
       "  </thead>\n",
       "  <tbody>\n",
       "    <tr>\n",
       "      <th>0</th>\n",
       "      <td>20_0310_edm2020_assist09</td>\n",
       "      <td>pre_dummy_epoch_size150.auto</td>\n",
       "      <td>0.805398</td>\n",
       "      <td>0.000801</td>\n",
       "      <td>106</td>\n",
       "      <td>110</td>\n",
       "      <td>0.897429</td>\n",
       "      <td>0.112539</td>\n",
       "    </tr>\n",
       "    <tr>\n",
       "      <th>1</th>\n",
       "      <td>20_0310_edm2020_assist09</td>\n",
       "      <td>pre_dummy_epoch_size10.auto</td>\n",
       "      <td>0.802763</td>\n",
       "      <td>0.001107</td>\n",
       "      <td>105</td>\n",
       "      <td>110</td>\n",
       "      <td>0.916217</td>\n",
       "      <td>0.103119</td>\n",
       "    </tr>\n",
       "    <tr>\n",
       "      <th>2</th>\n",
       "      <td>20_0310_edm2020_assist09</td>\n",
       "      <td>pre_dummy_epoch_size0.auto</td>\n",
       "      <td>0.802399</td>\n",
       "      <td>0.002135</td>\n",
       "      <td>91</td>\n",
       "      <td>110</td>\n",
       "      <td>0.885842</td>\n",
       "      <td>0.121002</td>\n",
       "    </tr>\n",
       "  </tbody>\n",
       "</table>\n",
       "</div>"
      ],
      "text/plain": [
       "                    dataset                         model       auc   auc_std  \\\n",
       "0  20_0310_edm2020_assist09  pre_dummy_epoch_size150.auto  0.805398  0.000801   \n",
       "1  20_0310_edm2020_assist09   pre_dummy_epoch_size10.auto  0.802763  0.001107   \n",
       "2  20_0310_edm2020_assist09    pre_dummy_epoch_size0.auto  0.802399  0.002135   \n",
       "\n",
       "  r1_good r1_goodbad        r2    r2_std  \n",
       "0     106        110  0.897429  0.112539  \n",
       "1     105        110  0.916217  0.103119  \n",
       "2      91        110  0.885842  0.121002  "
      ]
     },
     "execution_count": 6,
     "metadata": {},
     "output_type": "execute_result"
    }
   ],
   "source": [
    "summarize_results('20_0310_edm2020_assist09')"
   ]
  },
  {
   "cell_type": "code",
   "execution_count": 7,
   "metadata": {},
   "outputs": [
    {
     "data": {
      "text/html": [
       "<div>\n",
       "<style scoped>\n",
       "    .dataframe tbody tr th:only-of-type {\n",
       "        vertical-align: middle;\n",
       "    }\n",
       "\n",
       "    .dataframe tbody tr th {\n",
       "        vertical-align: top;\n",
       "    }\n",
       "\n",
       "    .dataframe thead th {\n",
       "        text-align: right;\n",
       "    }\n",
       "</style>\n",
       "<table border=\"1\" class=\"dataframe\">\n",
       "  <thead>\n",
       "    <tr style=\"text-align: right;\">\n",
       "      <th></th>\n",
       "      <th>dataset</th>\n",
       "      <th>model</th>\n",
       "      <th>auc</th>\n",
       "      <th>auc_std</th>\n",
       "      <th>r1_good</th>\n",
       "      <th>r1_goodbad</th>\n",
       "      <th>r2</th>\n",
       "      <th>r2_std</th>\n",
       "    </tr>\n",
       "  </thead>\n",
       "  <tbody>\n",
       "    <tr>\n",
       "      <th>0</th>\n",
       "      <td>20_0310_edm2020_assist15</td>\n",
       "      <td>pre_dummy_epoch_size150.auto</td>\n",
       "      <td>0.705414</td>\n",
       "      <td>0.001263</td>\n",
       "      <td>95</td>\n",
       "      <td>100</td>\n",
       "      <td>0.927833</td>\n",
       "      <td>0.092699</td>\n",
       "    </tr>\n",
       "    <tr>\n",
       "      <th>1</th>\n",
       "      <td>20_0310_edm2020_assist15</td>\n",
       "      <td>pre_dummy_epoch_size10.auto</td>\n",
       "      <td>0.703355</td>\n",
       "      <td>0.000890</td>\n",
       "      <td>99</td>\n",
       "      <td>100</td>\n",
       "      <td>0.921136</td>\n",
       "      <td>0.096746</td>\n",
       "    </tr>\n",
       "    <tr>\n",
       "      <th>2</th>\n",
       "      <td>20_0310_edm2020_assist15</td>\n",
       "      <td>pre_dummy_epoch_size0.auto</td>\n",
       "      <td>0.703117</td>\n",
       "      <td>0.001366</td>\n",
       "      <td>99</td>\n",
       "      <td>100</td>\n",
       "      <td>0.924388</td>\n",
       "      <td>0.091456</td>\n",
       "    </tr>\n",
       "  </tbody>\n",
       "</table>\n",
       "</div>"
      ],
      "text/plain": [
       "                    dataset                         model       auc   auc_std  \\\n",
       "0  20_0310_edm2020_assist15  pre_dummy_epoch_size150.auto  0.705414  0.001263   \n",
       "1  20_0310_edm2020_assist15   pre_dummy_epoch_size10.auto  0.703355  0.000890   \n",
       "2  20_0310_edm2020_assist15    pre_dummy_epoch_size0.auto  0.703117  0.001366   \n",
       "\n",
       "  r1_good r1_goodbad        r2    r2_std  \n",
       "0      95        100  0.927833  0.092699  \n",
       "1      99        100  0.921136  0.096746  \n",
       "2      99        100  0.924388  0.091456  "
      ]
     },
     "execution_count": 7,
     "metadata": {},
     "output_type": "execute_result"
    }
   ],
   "source": [
    "summarize_results('20_0310_edm2020_assist15')"
   ]
  },
  {
   "cell_type": "code",
   "execution_count": 8,
   "metadata": {},
   "outputs": [
    {
     "data": {
      "text/html": [
       "<div>\n",
       "<style scoped>\n",
       "    .dataframe tbody tr th:only-of-type {\n",
       "        vertical-align: middle;\n",
       "    }\n",
       "\n",
       "    .dataframe tbody tr th {\n",
       "        vertical-align: top;\n",
       "    }\n",
       "\n",
       "    .dataframe thead th {\n",
       "        text-align: right;\n",
       "    }\n",
       "</style>\n",
       "<table border=\"1\" class=\"dataframe\">\n",
       "  <thead>\n",
       "    <tr style=\"text-align: right;\">\n",
       "      <th></th>\n",
       "      <th>dataset</th>\n",
       "      <th>model</th>\n",
       "      <th>auc</th>\n",
       "      <th>auc_std</th>\n",
       "      <th>r1_good</th>\n",
       "      <th>r1_goodbad</th>\n",
       "      <th>r2</th>\n",
       "      <th>r2_std</th>\n",
       "    </tr>\n",
       "  </thead>\n",
       "  <tbody>\n",
       "    <tr>\n",
       "      <th>0</th>\n",
       "      <td>20_0310_edm2020_synthetic</td>\n",
       "      <td>pre_dummy_epoch_size150.auto</td>\n",
       "      <td>0.773313</td>\n",
       "      <td>NaN</td>\n",
       "      <td>46</td>\n",
       "      <td>50</td>\n",
       "      <td>0.890824</td>\n",
       "      <td>0.113911</td>\n",
       "    </tr>\n",
       "    <tr>\n",
       "      <th>1</th>\n",
       "      <td>20_0310_edm2020_synthetic</td>\n",
       "      <td>pre_dummy_epoch_size10.auto</td>\n",
       "      <td>0.776778</td>\n",
       "      <td>NaN</td>\n",
       "      <td>44</td>\n",
       "      <td>50</td>\n",
       "      <td>0.894807</td>\n",
       "      <td>0.115647</td>\n",
       "    </tr>\n",
       "    <tr>\n",
       "      <th>2</th>\n",
       "      <td>20_0310_edm2020_synthetic</td>\n",
       "      <td>pre_dummy_epoch_size0.auto</td>\n",
       "      <td>0.777116</td>\n",
       "      <td>NaN</td>\n",
       "      <td>26</td>\n",
       "      <td>50</td>\n",
       "      <td>0.792350</td>\n",
       "      <td>0.130606</td>\n",
       "    </tr>\n",
       "  </tbody>\n",
       "</table>\n",
       "</div>"
      ],
      "text/plain": [
       "                     dataset                         model       auc  auc_std  \\\n",
       "0  20_0310_edm2020_synthetic  pre_dummy_epoch_size150.auto  0.773313      NaN   \n",
       "1  20_0310_edm2020_synthetic   pre_dummy_epoch_size10.auto  0.776778      NaN   \n",
       "2  20_0310_edm2020_synthetic    pre_dummy_epoch_size0.auto  0.777116      NaN   \n",
       "\n",
       "  r1_good r1_goodbad        r2    r2_std  \n",
       "0      46         50  0.890824  0.113911  \n",
       "1      44         50  0.894807  0.115647  \n",
       "2      26         50  0.792350  0.130606  "
      ]
     },
     "execution_count": 8,
     "metadata": {},
     "output_type": "execute_result"
    }
   ],
   "source": [
    "summarize_results('20_0310_edm2020_synthetic', folds=1)"
   ]
  },
  {
   "cell_type": "code",
   "execution_count": 9,
   "metadata": {},
   "outputs": [
    {
     "data": {
      "text/html": [
       "<div>\n",
       "<style scoped>\n",
       "    .dataframe tbody tr th:only-of-type {\n",
       "        vertical-align: middle;\n",
       "    }\n",
       "\n",
       "    .dataframe tbody tr th {\n",
       "        vertical-align: top;\n",
       "    }\n",
       "\n",
       "    .dataframe thead th {\n",
       "        text-align: right;\n",
       "    }\n",
       "</style>\n",
       "<table border=\"1\" class=\"dataframe\">\n",
       "  <thead>\n",
       "    <tr style=\"text-align: right;\">\n",
       "      <th></th>\n",
       "      <th>dataset</th>\n",
       "      <th>model</th>\n",
       "      <th>auc</th>\n",
       "      <th>auc_std</th>\n",
       "      <th>r1_good</th>\n",
       "      <th>r1_goodbad</th>\n",
       "      <th>r2</th>\n",
       "      <th>r2_std</th>\n",
       "    </tr>\n",
       "  </thead>\n",
       "  <tbody>\n",
       "    <tr>\n",
       "      <th>0</th>\n",
       "      <td>20_0310_edm2020_statics</td>\n",
       "      <td>pre_dummy_epoch_size150.auto</td>\n",
       "      <td>0.792491</td>\n",
       "      <td>0.000426</td>\n",
       "      <td>716</td>\n",
       "      <td>1223</td>\n",
       "      <td>0.809500</td>\n",
       "      <td>0.158295</td>\n",
       "    </tr>\n",
       "    <tr>\n",
       "      <th>1</th>\n",
       "      <td>20_0310_edm2020_statics</td>\n",
       "      <td>pre_dummy_epoch_size10.auto</td>\n",
       "      <td>0.794149</td>\n",
       "      <td>0.003777</td>\n",
       "      <td>934</td>\n",
       "      <td>1223</td>\n",
       "      <td>0.885513</td>\n",
       "      <td>0.126757</td>\n",
       "    </tr>\n",
       "    <tr>\n",
       "      <th>2</th>\n",
       "      <td>20_0310_edm2020_statics</td>\n",
       "      <td>pre_dummy_epoch_size0.auto</td>\n",
       "      <td>0.787167</td>\n",
       "      <td>0.000661</td>\n",
       "      <td>639</td>\n",
       "      <td>1223</td>\n",
       "      <td>0.778891</td>\n",
       "      <td>0.149663</td>\n",
       "    </tr>\n",
       "  </tbody>\n",
       "</table>\n",
       "</div>"
      ],
      "text/plain": [
       "                   dataset                         model       auc   auc_std  \\\n",
       "0  20_0310_edm2020_statics  pre_dummy_epoch_size150.auto  0.792491  0.000426   \n",
       "1  20_0310_edm2020_statics   pre_dummy_epoch_size10.auto  0.794149  0.003777   \n",
       "2  20_0310_edm2020_statics    pre_dummy_epoch_size0.auto  0.787167  0.000661   \n",
       "\n",
       "  r1_good r1_goodbad        r2    r2_std  \n",
       "0     716       1223  0.809500  0.158295  \n",
       "1     934       1223  0.885513  0.126757  \n",
       "2     639       1223  0.778891  0.149663  "
      ]
     },
     "execution_count": 9,
     "metadata": {},
     "output_type": "execute_result"
    }
   ],
   "source": [
    "summarize_results('20_0310_edm2020_statics')"
   ]
  },
  {
   "cell_type": "code",
   "execution_count": 10,
   "metadata": {},
   "outputs": [
    {
     "name": "stdout",
     "output_type": "stream",
     "text": [
      "\\begin{tabular}{lllrrllrr}\n",
      "\\toprule\n",
      "{} &                   dataset &                         model &       auc &   auc\\_std & r1\\_good & r1\\_goodbad &        r2 &    r2\\_std \\\\\n",
      "\\midrule\n",
      "0 &  20\\_0310\\_edm2020\\_assist09 &  pre\\_dummy\\_epoch\\_size150.auto &  0.805398 &  0.000801 &     106 &        110 &  0.897429 &  0.112539 \\\\\n",
      "1 &  20\\_0310\\_edm2020\\_assist09 &   pre\\_dummy\\_epoch\\_size10.auto &  0.802763 &  0.001107 &     105 &        110 &  0.916217 &  0.103119 \\\\\n",
      "2 &  20\\_0310\\_edm2020\\_assist09 &    pre\\_dummy\\_epoch\\_size0.auto &  0.802399 &  0.002135 &      91 &        110 &  0.885842 &  0.121002 \\\\\n",
      "\\bottomrule\n",
      "\\end{tabular}\n",
      "\n",
      "\\begin{tabular}{lllrrllrr}\n",
      "\\toprule\n",
      "{} &                   dataset &                         model &       auc &   auc\\_std & r1\\_good & r1\\_goodbad &        r2 &    r2\\_std \\\\\n",
      "\\midrule\n",
      "0 &  20\\_0310\\_edm2020\\_assist15 &  pre\\_dummy\\_epoch\\_size150.auto &  0.705414 &  0.001263 &      95 &        100 &  0.927833 &  0.092699 \\\\\n",
      "1 &  20\\_0310\\_edm2020\\_assist15 &   pre\\_dummy\\_epoch\\_size10.auto &  0.703355 &  0.000890 &      99 &        100 &  0.921136 &  0.096746 \\\\\n",
      "2 &  20\\_0310\\_edm2020\\_assist15 &    pre\\_dummy\\_epoch\\_size0.auto &  0.703117 &  0.001366 &      99 &        100 &  0.924388 &  0.091456 \\\\\n",
      "\\bottomrule\n",
      "\\end{tabular}\n",
      "\n",
      "\\begin{tabular}{lllrrllrr}\n",
      "\\toprule\n",
      "{} &                    dataset &                         model &       auc &  auc\\_std & r1\\_good & r1\\_goodbad &        r2 &    r2\\_std \\\\\n",
      "\\midrule\n",
      "0 &  20\\_0310\\_edm2020\\_synthetic &  pre\\_dummy\\_epoch\\_size150.auto &  0.773313 &      NaN &      46 &         50 &  0.890824 &  0.113911 \\\\\n",
      "1 &  20\\_0310\\_edm2020\\_synthetic &   pre\\_dummy\\_epoch\\_size10.auto &  0.776778 &      NaN &      44 &         50 &  0.894807 &  0.115647 \\\\\n",
      "2 &  20\\_0310\\_edm2020\\_synthetic &    pre\\_dummy\\_epoch\\_size0.auto &  0.777116 &      NaN &      26 &         50 &  0.792350 &  0.130606 \\\\\n",
      "\\bottomrule\n",
      "\\end{tabular}\n",
      "\n",
      "\\begin{tabular}{lllrrllrr}\n",
      "\\toprule\n",
      "{} &                  dataset &                         model &       auc &   auc\\_std & r1\\_good & r1\\_goodbad &        r2 &    r2\\_std \\\\\n",
      "\\midrule\n",
      "0 &  20\\_0310\\_edm2020\\_statics &  pre\\_dummy\\_epoch\\_size150.auto &  0.792491 &  0.000426 &     716 &       1223 &  0.809500 &  0.158295 \\\\\n",
      "1 &  20\\_0310\\_edm2020\\_statics &   pre\\_dummy\\_epoch\\_size10.auto &  0.794149 &  0.003777 &     934 &       1223 &  0.885513 &  0.126757 \\\\\n",
      "2 &  20\\_0310\\_edm2020\\_statics &    pre\\_dummy\\_epoch\\_size0.auto &  0.787167 &  0.000661 &     639 &       1223 &  0.778891 &  0.149663 \\\\\n",
      "\\bottomrule\n",
      "\\end{tabular}\n",
      "\n"
     ]
    }
   ],
   "source": [
    "print(summarize_results('20_0310_edm2020_assist09').to_latex())\n",
    "print(summarize_results('20_0310_edm2020_assist15').to_latex())\n",
    "print(summarize_results('20_0310_edm2020_synthetic', folds=1).to_latex())\n",
    "print(summarize_results('20_0310_edm2020_statics').to_latex())"
   ]
  },
  {
   "cell_type": "markdown",
   "metadata": {},
   "source": [
    "## NDCG distplot"
   ]
  },
  {
   "cell_type": "code",
   "execution_count": 66,
   "metadata": {},
   "outputs": [],
   "source": [
    "def ndcg_distplot(config_name, ax, idx, label_names, bins=20):\n",
    "    report_paths = [get_report_path(projectdir, config_name, e) for e in get_exp_names(projectdir, config_name)]\n",
    "    reports = [load_json(r) for r in report_paths]\n",
    "    for rep in reports:\n",
    "        if rep['config']['pre_dummy_epoch_size'] not in {0, 10}:\n",
    "            continue\n",
    "        r = rep['indicator']['RPhard']['all']\n",
    "        name = rep['config']['exp_name']\n",
    "        sns.distplot(r, ax=ax,bins=bins, label=label_names[name], kde_kws={'clip': (0.0, 1.0)})\n",
    "    ax.set_xlabel('NDCG score')\n",
    "    if idx == 0:\n",
    "        ax.set_ylabel('frequency')\n",
    "    if idx == 3:\n",
    "        ax.legend()\n",
    "    ax.set_title(label_names[config_name])\n",
    "    ax.set_xlim([0.59, 1.01])\n",
    "    ax.title.set_fontsize(18)\n",
    "    ax.xaxis.label.set_fontsize(14)\n",
    "    ax.yaxis.label.set_fontsize(14)"
   ]
  },
  {
   "cell_type": "code",
   "execution_count": 95,
   "metadata": {},
   "outputs": [
    {
     "data": {
      "image/png": "[encoded data removed]",
      "text/plain": [
       "<Figure size 1152x216 with 4 Axes>"
      ]
     },
     "metadata": {
      "needs_background": "light"
     },
     "output_type": "display_data"
    }
   ],
   "source": [
    "fig, axs = plt.subplots(1, 4, sharey=True, figsize=(4*4,3))\n",
    "# plt.subplots_adjust(hspace=0.3)\n",
    "fig.subplots_adjust(hspace=.1, wspace=.16)\n",
    "label_names = {\n",
    "    '20_0310_edm2020_assist09' : 'ASSISTment 2009',\n",
    "    '20_0310_edm2020_assist15' : 'ASSISTment 2015',\n",
    "    '20_0310_edm2020_synthetic': 'Simulated-5',\n",
    "    '20_0310_edm2020_statics'  : 'Statics 2011',\n",
    "    'pre_dummy_epoch_size10.auto': 'pre-train 10 epochs',\n",
    "    'pre_dummy_epoch_size0.auto': 'pre-train 0 epoch',\n",
    "}\n",
    "ndcg_distplot('20_0310_edm2020_assist09' , ax=axs[0], idx=0, label_names=label_names)\n",
    "ndcg_distplot('20_0310_edm2020_assist15' , ax=axs[1], idx=1, label_names=label_names)\n",
    "ndcg_distplot('20_0310_edm2020_synthetic', ax=axs[2], idx=2, label_names=label_names)\n",
    "ndcg_distplot('20_0310_edm2020_statics'  , ax=axs[3], idx=3, label_names=label_names)"
   ]
  },
  {
   "cell_type": "markdown",
   "metadata": {},
   "source": [
    "## Learning curve"
   ]
  },
  {
   "cell_type": "code",
   "execution_count": 91,
   "metadata": {},
   "outputs": [],
   "source": [
    "def lc_plot(config_name, ax, idx, label_names):\n",
    "    report_paths = [get_report_path(projectdir, config_name, e) for e in get_exp_names(projectdir, config_name)]\n",
    "    reports = [load_json(r) for r in report_paths]\n",
    "    for r in reports:\n",
    "        if r['config']['pre_dummy_epoch_size'] not in {0, 10}:\n",
    "            continue\n",
    "        idclist_dic = r['indicator']\n",
    "        idc = 'eval_auc'\n",
    "        min_len = min([len(_x) for _x in idclist_dic['epoch'].values()])\n",
    "        x = idclist_dic['epoch']['0'][:min_len] * (len(idclist_dic['epoch']) -1)  # exclude 'all'\n",
    "        y = []\n",
    "        for _y in idclist_dic[idc].values():\n",
    "            y += _y[:min_len]\n",
    "        sns.lineplot(x=x, y=y, ax=ax, label=label_names[r['config']['exp_name']], ci='sd')\n",
    "    ax.set_xlabel('epoch')\n",
    "    if idx == 0:\n",
    "        ax.set_ylabel('AUC')\n",
    "    if idx == 3:\n",
    "        ax.legend()\n",
    "    else:\n",
    "        ax.get_legend().remove()\n",
    "    ax.set_title(label_names[config_name])\n",
    "    ax.title.set_fontsize(18)\n",
    "    ax.xaxis.label.set_fontsize(14)\n",
    "    ax.yaxis.label.set_fontsize(14)"
   ]
  },
  {
   "cell_type": "code",
   "execution_count": 92,
   "metadata": {},
   "outputs": [
    {
     "data": {
      "image/png": "[encoded data removed]",
      "text/plain": [
       "<Figure size 1152x216 with 4 Axes>"
      ]
     },
     "metadata": {
      "needs_background": "light"
     },
     "output_type": "display_data"
    }
   ],
   "source": [
    "fig, axs = plt.subplots(1, 4, sharey=False, figsize=(4*4,3))\n",
    "# plt.subplots_adjust(hspace=0.3)\n",
    "fig.subplots_adjust(hspace=.1, wspace=.16)\n",
    "label_names = {\n",
    "    '20_0310_edm2020_assist09' : 'ASSISTment 2009',\n",
    "    '20_0310_edm2020_assist15' : 'ASSISTment 2015',\n",
    "    '20_0310_edm2020_synthetic': 'Simulated-5',\n",
    "    '20_0310_edm2020_statics'  : 'Statics 2011',\n",
    "    'pre_dummy_epoch_size10.auto': 'pre-train 10 epochs',\n",
    "    'pre_dummy_epoch_size0.auto': 'pre-train 0 epoch',\n",
    "}\n",
    "lc_plot('20_0310_edm2020_assist09' , ax=axs[0], idx=0, label_names=label_names)\n",
    "lc_plot('20_0310_edm2020_assist15' , ax=axs[1], idx=1, label_names=label_names)\n",
    "lc_plot('20_0310_edm2020_synthetic', ax=axs[2], idx=2, label_names=label_names)\n",
    "lc_plot('20_0310_edm2020_statics'  , ax=axs[3], idx=3, label_names=label_names)\n",
    "plt.show()"
   ]
  },
  {
   "cell_type": "code",
   "execution_count": null,
   "metadata": {},
   "outputs": [],
   "source": []
  },
  {
   "cell_type": "markdown",
   "metadata": {},
   "source": [
    "# `20_0310_edm2020_assist09`"
   ]
  },
  {
   "cell_type": "markdown",
   "metadata": {},
   "source": [
    "## Simulated curve"
   ]
  },
  {
   "cell_type": "code",
   "execution_count": null,
   "metadata": {},
   "outputs": [],
   "source": [
    "config_name = '20_0310_edm2020_assist09'\n",
    "report_list = []\n",
    "for r in sorted([load_json(get_report_path(projectdir, e)) for e in get_exp_paths(projectdir, config_name)], key=lambda x: x['config']['pre_dummy_epoch_size']):\n",
    "    if r['config']['pre_dummy_epoch_size'] not in {0, 10}:\n",
    "        continue\n",
    "    r['config']['exp_name'] = f\"DKT pre {r['config']['pre_dummy_epoch_size']}\"\n",
    "    report_list.append(r)\n",
    "\n",
    "[r['config']['exp_name'] for r in report_list]"
   ]
  },
  {
   "cell_type": "code",
   "execution_count": null,
   "metadata": {},
   "outputs": [],
   "source": [
    "def get_simu_res(report_dic):\n",
    "    return report_dic['indicator']['simu_pred']['all']\n",
    "\n",
    "simures_list = []\n",
    "for r in report_list:\n",
    "    simu_res = get_simu_res(r)\n",
    "    simures_list.append(simu_res)\n",
    "    \n",
    "base_idx = 0\n",
    "base_res = {k:v for k, v in sorted(simures_list[base_idx].items(), key=lambda it: it[1][1][-1] - it[1][1][0])}\n",
    "descres_list = []\n",
    "for i, simu_res in enumerate(simures_list):\n",
    "    if i == base_idx:\n",
    "        continue\n",
    "    desc_res = {k:simu_res[k] for k in base_res.keys()}\n",
    "    descres_list.append(desc_res)"
   ]
  },
  {
   "cell_type": "code",
   "execution_count": null,
   "metadata": {},
   "outputs": [],
   "source": [
    "n_skills = report_list[base_idx]['config']['n_skills']\n",
    "h, w = (n_skills+7)//8, 8\n",
    "figscale = 2.5\n",
    "hspace = 0.35\n",
    "fig, axs = plt.subplots(h, w, figsize=(w*figscale, h*figscale))\n",
    "plt.subplots_adjust(hspace=hspace)\n",
    "for i, (v, (xidx, sanity)) in enumerate(list(base_res.items())[:h*w]):\n",
    "    ax = axs[i//(w), i%(w)]\n",
    "    ax.set_ylim([0, 1])\n",
    "    ax.set_title('KC{}'.format(v))\n",
    "    sns.lineplot(xidx, sanity, ax=ax, label='base', palette=\"ch:2.5,.25\")\n",
    "    for i, desc_res in enumerate(descres_list):\n",
    "        sns.lineplot(xidx, desc_res[v][1], ax=ax, label=str(i+1), palette=\"ch:2.5,.25\")\n",
    "    ax.get_legend().remove()\n",
    "handles, labels = ax.get_legend_handles_labels()\n",
    "fig.legend(handles, labels, loc='upper center')\n",
    "plt.show()"
   ]
  },
  {
   "cell_type": "markdown",
   "metadata": {},
   "source": [
    "## Single ones"
   ]
  },
  {
   "cell_type": "code",
   "execution_count": null,
   "metadata": {},
   "outputs": [],
   "source": [
    "def plot_single(kc):\n",
    "    x, y = base_res[str(kc)]\n",
    "    sns.lineplot(x=x, y=y)\n",
    "plot_single(78)"
   ]
  },
  {
   "cell_type": "code",
   "execution_count": null,
   "metadata": {},
   "outputs": [],
   "source": [
    "f, axs = plt.subplots(1, 3, sharey=True, figsize=(12,3))\n",
    "f.tight_layout()\n",
    "for i, (kc, ax) in enumerate(zip([30, 83, 98], axs)):\n",
    "    ax.set_ylim([0, 1])\n",
    "    x, y = base_res[str(kc)]\n",
    "    sns.lineplot(x=x, y=y, ax=ax)\n",
    "    ax.set_title(f'KC{kc}')\n",
    "    ax.set_ylabel('predicted accuracy')\n",
    "    ax.set_xlabel('$k$\\n({})'.format(['a','b','c'][i]))\n",
    "plt.show()"
   ]
  },
  {
   "cell_type": "markdown",
   "metadata": {},
   "source": [
    "## NDCG"
   ]
  },
  {
   "cell_type": "code",
   "execution_count": null,
   "metadata": {},
   "outputs": [],
   "source": [
    "for rep in report_list:\n",
    "    r = rep['indicator']['RPhard']['all']\n",
    "    name = rep['config']['exp_name']\n",
    "    sns.distplot(r, bins=10, label=name, kde_kws={'clip': (0.0, 1.0)})\n",
    "    print(f'{name:<20s}\\t{mean(r):.4f}±{stdev(r):.4f}')\n",
    "plt.legend()\n",
    "plt.show()"
   ]
  },
  {
   "cell_type": "code",
   "execution_count": null,
   "metadata": {},
   "outputs": [],
   "source": [
    "for rep in report_list:\n",
    "    r = rep['indicator']['RPsoft']['all']\n",
    "    name = rep['config']['exp_name']\n",
    "    print(f'{name:<20s}\\tGood:Bad = {r[\"good\"]}:{r[\"bad\"]}')"
   ]
  },
  {
   "cell_type": "markdown",
   "metadata": {},
   "source": [
    "## Learning curve"
   ]
  },
  {
   "cell_type": "code",
   "execution_count": null,
   "metadata": {},
   "outputs": [],
   "source": [
    "for r in report_list:\n",
    "    show_valid_lc(r['config']['exp_name'], r['indicator'])\n",
    "plt.show()"
   ]
  },
  {
   "cell_type": "code",
   "execution_count": null,
   "metadata": {},
   "outputs": [],
   "source": [
    "for r in report_list:\n",
    "    show_valid_lc(r['config']['exp_name'], r['indicator'], idc='eval_loss')\n",
    "plt.show()"
   ]
  },
  {
   "cell_type": "markdown",
   "metadata": {},
   "source": [
    "## Test AUC"
   ]
  },
  {
   "cell_type": "code",
   "execution_count": null,
   "metadata": {},
   "outputs": [],
   "source": [
    "for r in report_list:\n",
    "    summarize_test_res(r)"
   ]
  },
  {
   "cell_type": "code",
   "execution_count": null,
   "metadata": {},
   "outputs": [],
   "source": []
  },
  {
   "cell_type": "code",
   "execution_count": null,
   "metadata": {},
   "outputs": [],
   "source": []
  },
  {
   "cell_type": "code",
   "execution_count": null,
   "metadata": {},
   "outputs": [],
   "source": []
  },
  {
   "cell_type": "markdown",
   "metadata": {
    "toc-hr-collapsed": true,
    "toc-nb-collapsed": true
   },
   "source": [
    "# `Debug`"
   ]
  },
  {
   "cell_type": "code",
   "execution_count": null,
   "metadata": {},
   "outputs": [],
   "source": []
  },
  {
   "cell_type": "code",
   "execution_count": null,
   "metadata": {},
   "outputs": [],
   "source": []
  },
  {
   "cell_type": "markdown",
   "metadata": {},
   "source": [
    "## Simulated curve"
   ]
  },
  {
   "cell_type": "code",
   "execution_count": null,
   "metadata": {},
   "outputs": [],
   "source": [
    "def get_simu_res(report_dic):\n",
    "    return report_dic['indicator']['simu_pred']['all']\n",
    "\n",
    "simures_list = []\n",
    "for r in report_list:\n",
    "    simu_res = get_simu_res(r)\n",
    "    simures_list.append(simu_res)\n",
    "    \n",
    "base_idx = 0\n",
    "base_res = {k:v for k, v in sorted(simures_list[base_idx].items(), key=lambda it: it[1][1][-1] - it[1][1][0])}\n",
    "descres_list = []\n",
    "for i, simu_res in enumerate(simures_list):\n",
    "    if i == base_idx:\n",
    "        continue\n",
    "    desc_res = {k:simu_res[k] for k in base_res.keys()}\n",
    "    descres_list.append(desc_res)"
   ]
  },
  {
   "cell_type": "markdown",
   "metadata": {},
   "source": [
    "## NDCG"
   ]
  },
  {
   "cell_type": "code",
   "execution_count": null,
   "metadata": {},
   "outputs": [],
   "source": [
    "for rep in report_list:\n",
    "    r = rep['indicator']['RPsoft']['all']\n",
    "    name = rep['config']['exp_name']\n",
    "    print(f'{name:<20s}\\tGood:Bad = {r[\"good\"]}:{r[\"bad\"]}')"
   ]
  },
  {
   "cell_type": "code",
   "execution_count": null,
   "metadata": {},
   "outputs": [],
   "source": [
    "for r in report_list:\n",
    "    show_valid_lc(r['config']['exp_name'], r['indicator'])\n",
    "plt.show()"
   ]
  },
  {
   "cell_type": "markdown",
   "metadata": {},
   "source": [
    "## Test AUC"
   ]
  },
  {
   "cell_type": "markdown",
   "metadata": {},
   "source": [
    "## Simulated curve"
   ]
  },
  {
   "cell_type": "code",
   "execution_count": null,
   "metadata": {},
   "outputs": [],
   "source": [
    "def get_simu_res(report_dic):\n",
    "    return report_dic['indicator']['simu_pred']['all']\n",
    "\n",
    "\n",
    "simures_list = []\n",
    "for r in report_list:\n",
    "    simu_res = get_simu_res(r)\n",
    "    simures_list.append(simu_res)\n",
    "    \n",
    "\n",
    "base_idx = 1\n",
    "base_res = {k:v for k, v in sorted(simures_list[base_idx].items(), key=lambda it: it[1][1][-1] - it[1][1][0])}\n",
    "descres_list = []\n",
    "for i, simu_res in enumerate(simures_list):\n",
    "    if i == base_idx:\n",
    "        continue\n",
    "    desc_res = {k:simu_res[k] for k in base_res.keys()}\n",
    "    descres_list.append(desc_res)"
   ]
  },
  {
   "cell_type": "markdown",
   "metadata": {},
   "source": [
    "## NDCG"
   ]
  },
  {
   "cell_type": "code",
   "execution_count": null,
   "metadata": {},
   "outputs": [],
   "source": [
    "for rep in report_list:\n",
    "    r = rep['indicator']['RPsoft']['all']\n",
    "    name = rep['config']['exp_name']\n",
    "    print(f'{name:<20s}\\tGood:Bad = {r[\"good\"]}:{r[\"bad\"]}')"
   ]
  },
  {
   "cell_type": "markdown",
   "metadata": {},
   "source": [
    "## Learning curve"
   ]
  },
  {
   "cell_type": "code",
   "execution_count": null,
   "metadata": {},
   "outputs": [],
   "source": [
    "for r in report_list:\n",
    "    show_valid_lc(r['config']['exp_name'], r['indicator'])\n",
    "plt.show()"
   ]
  },
  {
   "cell_type": "markdown",
   "metadata": {},
   "source": [
    "## Test AUC"
   ]
  },
  {
   "cell_type": "code",
   "execution_count": null,
   "metadata": {},
   "outputs": [],
   "source": [
    "def summarize_test_res(rep):\n",
    "    print(rep['config']['exp_name'], end=':\\t')\n",
    "    s = pd.Series([rep['best']['auc_epoch'][str(i)] for i in range(5)])\n",
    "    print(f'Best epoch at {s.mean():>6.1f}±{s.std():<5.1f}', end='\\t')\n",
    "    s = pd.Series([rep['best']['auc'][str(i)] for i in range(5)])\n",
    "    print(f'Valid AUC: {s.mean()*100:.4f}±{s.std()*100:.4f}', end='\\t')\n",
    "    s = rep['indicator']['test_auc']['all'][0]\n",
    "    print(f'Test AUC: {s*100:.4f}')"
   ]
  },
  {
   "cell_type": "code",
   "execution_count": null,
   "metadata": {},
   "outputs": [],
   "source": [
    "for r in report_list:\n",
    "    summarize_test_res(r)"
   ]
  },
  {
   "cell_type": "code",
   "execution_count": null,
   "metadata": {},
   "outputs": [],
   "source": []
  },
  {
   "cell_type": "markdown",
   "metadata": {
    "toc-hr-collapsed": true,
    "toc-nb-collapsed": true
   },
   "source": [
    "# `20_0310_edm2020_synthetic`"
   ]
  },
  {
   "cell_type": "markdown",
   "metadata": {},
   "source": [
    "## Simulated curve"
   ]
  },
  {
   "cell_type": "code",
   "execution_count": null,
   "metadata": {},
   "outputs": [],
   "source": [
    "config_name = '20_0310_edm2020_synthetic'\n",
    "report_list = []\n",
    "for r in sorted([load_json(get_report_path(projectdir, e)) for e in get_exp_paths(projectdir, config_name)], key=lambda x: x['config']['pre_dummy_epoch_size']):\n",
    "    report_list.append(r)\n",
    "\n",
    "[r['config']['exp_name'] for r in report_list]"
   ]
  },
  {
   "cell_type": "code",
   "execution_count": null,
   "metadata": {},
   "outputs": [],
   "source": [
    "def get_simu_res(report_dic):\n",
    "    return report_dic['indicator']['simu_pred']['all']\n",
    "\n",
    "simures_list = []\n",
    "for r in report_list:\n",
    "    simu_res = get_simu_res(r)\n",
    "    simures_list.append(simu_res)\n",
    "    \n",
    "base_idx = 0\n",
    "base_res = {k:v for k, v in sorted(simures_list[base_idx].items(), key=lambda it: it[1][1][-1] - it[1][1][0])}\n",
    "descres_list = []\n",
    "for i, simu_res in enumerate(simures_list):\n",
    "    if i == base_idx:\n",
    "        continue\n",
    "    desc_res = {k:simu_res[k] for k in base_res.keys()}\n",
    "    descres_list.append(desc_res)"
   ]
  },
  {
   "cell_type": "code",
   "execution_count": null,
   "metadata": {},
   "outputs": [],
   "source": [
    "n_skills = report_list[base_idx]['config']['n_skills']\n",
    "h, w = (n_skills+7)//8, 8\n",
    "figscale = 2.5\n",
    "hspace = 0.35\n",
    "fig, axs = plt.subplots(h, w, figsize=(w*figscale, h*figscale))\n",
    "plt.subplots_adjust(hspace=hspace)\n",
    "for i, (v, (xidx, sanity)) in enumerate(list(base_res.items())[:h*w]):\n",
    "    ax = axs[i//(w), i%(w)]\n",
    "    ax.set_ylim([0, 1])\n",
    "    ax.set_title('KC{} s{}0'.format(v, '>' if sanity[-1]>sanity[0] else '<'))\n",
    "    sns.lineplot(xidx, sanity, ax=ax, label='base', palette=\"ch:2.5,.25\")\n",
    "    for i, desc_res in enumerate(descres_list):\n",
    "        sns.lineplot(xidx, desc_res[v][1], ax=ax, label=str(i+1), palette=\"ch:2.5,.25\")\n",
    "    ax.get_legend().remove()\n",
    "handles, labels = ax.get_legend_handles_labels()\n",
    "fig.legend(handles, labels, loc='upper center')\n",
    "plt.show()"
   ]
  },
  {
   "cell_type": "markdown",
   "metadata": {},
   "source": [
    "## NDCG"
   ]
  },
  {
   "cell_type": "code",
   "execution_count": null,
   "metadata": {},
   "outputs": [],
   "source": [
    "for rep in report_list:\n",
    "    r = rep['indicator']['RPhard']['all']\n",
    "    name = rep['config']['exp_name']\n",
    "    sns.distplot(r, bins=10, label=name, kde_kws={'clip': (0.0, 1.0)})\n",
    "    print(f'{name:<20s}\\t{mean(r):.4f}±{stdev(r):.4f}')\n",
    "plt.legend()\n",
    "plt.show()"
   ]
  },
  {
   "cell_type": "code",
   "execution_count": null,
   "metadata": {},
   "outputs": [],
   "source": [
    "for rep in report_list:\n",
    "    r = rep['indicator']['RPsoft']['all']\n",
    "    name = rep['config']['exp_name']\n",
    "    print(f'{name:<20s}\\tGood:Bad = {r[\"good\"]}:{r[\"bad\"]}')"
   ]
  },
  {
   "cell_type": "markdown",
   "metadata": {},
   "source": [
    "## Learning curve"
   ]
  },
  {
   "cell_type": "code",
   "execution_count": null,
   "metadata": {},
   "outputs": [],
   "source": [
    "for r in report_list:\n",
    "    show_valid_lc(r['config']['exp_name'], r['indicator'])\n",
    "plt.show()"
   ]
  },
  {
   "cell_type": "code",
   "execution_count": null,
   "metadata": {},
   "outputs": [],
   "source": [
    "for r in report_list:\n",
    "    show_valid_lc(r['config']['exp_name'], r['indicator'])\n",
    "plt.show()"
   ]
  },
  {
   "cell_type": "markdown",
   "metadata": {},
   "source": [
    "## Test AUC"
   ]
  },
  {
   "cell_type": "code",
   "execution_count": null,
   "metadata": {},
   "outputs": [],
   "source": [
    "for r in report_list:\n",
    "    show_valid_lc(r['config']['exp_name'], r['indicator'], idc='eval_loss')\n",
    "    summarize_test_res(r, folds=1)\n",
    "plt.show()"
   ]
  },
  {
   "cell_type": "markdown",
   "metadata": {},
   "source": [
    "## Test AUC"
   ]
  },
  {
   "cell_type": "code",
   "execution_count": null,
   "metadata": {},
   "outputs": [],
   "source": [
    "for r in report_list:\n",
    "    show_valid_lc(r['config']['exp_name'], r['indicator'])\n",
    "plt.show()"
   ]
  },
  {
   "cell_type": "markdown",
   "metadata": {},
   "source": [
    "## Learning curve"
   ]
  },
  {
   "cell_type": "code",
   "execution_count": null,
   "metadata": {},
   "outputs": [],
   "source": [
    "for rep in report_list:\n",
    "    r = rep['indicator']['RPsoft']['all']\n",
    "    name = rep['config']['exp_name']\n",
    "    print(f'{name:<20s}\\tGood:Bad = {r[\"good\"]}:{r[\"bad\"]}')"
   ]
  },
  {
   "cell_type": "markdown",
   "metadata": {},
   "source": [
    "# `20_0310_edm2020_assist15`"
   ]
  },
  {
   "cell_type": "markdown",
   "metadata": {},
   "source": [
    "## Simulated curve"
   ]
  },
  {
   "cell_type": "code",
   "execution_count": 26,
   "metadata": {},
   "outputs": [
    {
     "data": {
      "image/png": "[encoded data removed]",
      "text/plain": [
       "<Figure size 1440x720 with 32 Axes>"
      ]
     },
     "metadata": {
      "needs_background": "light"
     },
     "output_type": "display_data"
    }
   ],
   "source": [
    "# config_name = '20_0310_edm2020_assist15'\n",
    "config_name = '20_0310_edm2020_assist09'\n",
    "\n",
    "report_paths = [get_report_path(projectdir, config_name, e) for e in get_exp_names(projectdir, config_name)]\n",
    "reports = [load_json(r) for r in report_paths]\n",
    "    \n",
    "\n",
    "# print([r['config']['exp_name'] for r in reports])\n",
    "# =>['pre_dummy_epoch_size150.auto', 'pre_dummy_epoch_size10.auto', 'pre_dummy_epoch_size0.auto']\n",
    "\n",
    "def get_simu_res(report_dic):\n",
    "    return report_dic['indicator']['simu_pred']['all']\n",
    "\n",
    "simures_list = []\n",
    "for r in reports:\n",
    "    if r['config']['pre_dummy_epoch_size'] not in {0, 10}:\n",
    "        continue\n",
    "    simu_res = get_simu_res(r)\n",
    "    simures_list.append(simu_res)\n",
    "    \n",
    "base_idx = 1\n",
    "base_res = {k:v for k, v in sorted(simures_list[base_idx].items(), key=lambda it: it[1][1][-1] - it[1][1][0])}\n",
    "descres_list = []\n",
    "for i, simu_res in enumerate(simures_list):\n",
    "    if i == base_idx:\n",
    "        continue\n",
    "    desc_res = {k:simu_res[k] for k in base_res.keys()}\n",
    "    descres_list.append(desc_res)\n",
    "\n",
    "n_skills = reports[base_idx]['config']['n_skills']\n",
    "# h, w = (n_skills+7)//8, 8\n",
    "h, w = 4, 8\n",
    "figscale = 2.5\n",
    "hspace = 0.35\n",
    "fig, axs = plt.subplots(h, w, sharex=True, sharey=True, figsize=(w*figscale, h*figscale))\n",
    "plt.subplots_adjust(hspace=0.20, wspace=0.05)\n",
    "for i, (v, (xidx, sanity)) in enumerate(list(base_res.items())[:h*w]):\n",
    "    ax = axs[i//(w), i%(w)]\n",
    "    ax.set_ylim([0, 1])\n",
    "    ax.set_title(f'KC{v}')\n",
    "    sns.lineplot(xidx, sanity, ax=ax, label='pre-train 0', palette=\"ch:2.5,.25\")\n",
    "    for j, desc_res in enumerate(descres_list):\n",
    "        sns.lineplot(xidx, desc_res[v][1], ax=ax, label=f'pre-train {[10,150][j]}', palette=\"ch:2.5,.25\")\n",
    "    if i < 31:\n",
    "        ax.get_legend().remove()\n",
    "    else:\n",
    "        ax.legend()\n",
    "        break\n",
    "# handles, labels = ax.get_legend_handles_labels()\n",
    "# fig.legend(handles, labels, loc='upper center')\n",
    "plt.show()"
   ]
  },
  {
   "cell_type": "markdown",
   "metadata": {},
   "source": [
    "## NDCG"
   ]
  },
  {
   "cell_type": "code",
   "execution_count": null,
   "metadata": {},
   "outputs": [],
   "source": [
    "for rep in report_list:\n",
    "    r = rep['indicator']['RPhard']['all']\n",
    "    name = rep['config']['exp_name']\n",
    "    sns.distplot(r, bins=20, label=name, kde_kws={'clip': (0.0, 1.0)})\n",
    "    print(f'{name:<20s}\\t{mean(r):.4f}±{stdev(r):.4f}')\n",
    "plt.legend()\n",
    "plt.show()"
   ]
  },
  {
   "cell_type": "markdown",
   "metadata": {},
   "source": [
    "## Learning curve AUC"
   ]
  },
  {
   "cell_type": "code",
   "execution_count": null,
   "metadata": {},
   "outputs": [],
   "source": [
    "for r in report_list:\n",
    "    show_valid_lc(r['config']['exp_name'], r['indicator'])\n",
    "    summarize_test_res(r)\n",
    "plt.show()"
   ]
  },
  {
   "cell_type": "code",
   "execution_count": null,
   "metadata": {},
   "outputs": [],
   "source": [
    "for r in report_list:\n",
    "    show_valid_lc(r['config']['exp_name'], r['indicator'], idc='eval_loss')\n",
    "plt.show()"
   ]
  },
  {
   "cell_type": "code",
   "execution_count": null,
   "metadata": {},
   "outputs": [],
   "source": []
  }
 ],
 "metadata": {
  "kernelspec": {
   "display_name": "Python 3",
   "language": "python",
   "name": "python3"
  },
  "language_info": {
   "codemirror_mode": {
    "name": "ipython",
    "version": 3
   },
   "file_extension": ".py",
   "mimetype": "text/x-python",
   "name": "python",
   "nbconvert_exporter": "python",
   "pygments_lexer": "ipython3",
   "version": "3.7.4"
  },
  "toc-showmarkdowntxt": true
 },
 "nbformat": 4,
 "nbformat_minor": 4
}
