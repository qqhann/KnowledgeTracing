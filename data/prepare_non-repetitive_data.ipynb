{
 "cells": [
  {
   "cell_type": "code",
   "execution_count": 2,
   "metadata": {},
   "outputs": [],
   "source": [
    "import codecs\n",
    "import os\n",
    "from collections import defaultdict\n",
    "import pickle\n",
    "import numpy as np\n",
    "\n",
    "import pandas as pd"
   ]
  },
  {
   "cell_type": "code",
   "execution_count": 11,
   "metadata": {},
   "outputs": [],
   "source": [
    "def run(file, csid, cusr, cans, sort_by):\n",
    "    dirname = os.path.dirname(\"./\")\n",
    "    infname = os.path.join(dirname, f'raw_input/{file}.csv')\n",
    "    with codecs.open(infname, 'r', 'utf-8', 'ignore') as f:\n",
    "        df = pd.read_csv(f)\n",
    "        print(df.columns)\n",
    "    print(df['CustomerNumber'].value_counts())"
   ]
  },
  {
   "cell_type": "code",
   "execution_count": null,
   "metadata": {},
   "outputs": [],
   "source": [
    "run('Asteria_Eng_ver5', 'SkillID', 'CustomerNumber', 'AnswerResult', 'LearningDateTime')"
   ]
  },
  {
   "cell_type": "code",
   "execution_count": 2,
   "metadata": {},
   "outputs": [
    {
     "name": "stdout",
     "output_type": "stream",
     "text": [
      "Index(['Unnamed: 0', 'SEQ', 'CustomerNumber', 'LearningDateTime',\n",
      "       'ResourceNumber', 'SkillID', 'AnswerResult'],\n",
      "      dtype='object')\n"
     ]
    }
   ],
   "source": [
    "file = 'Asteria_Eng_ver5'\n",
    "\n",
    "dirname = os.path.dirname(\"./\")\n",
    "infname = os.path.join(dirname, f'raw_input/{file}.csv')\n",
    "with codecs.open(infname, 'r', 'utf-8', 'ignore') as f:\n",
    "    df = pd.read_csv(f)\n",
    "    print(df.columns)"
   ]
  },
  {
   "cell_type": "code",
   "execution_count": 6,
   "metadata": {},
   "outputs": [],
   "source": [
    "sid_list = sorted(list(set(df['SkillID'])))\n",
    "sid_dict = {sid: idx for idx, sid in enumerate(sid_list)}"
   ]
  },
  {
   "cell_type": "code",
   "execution_count": 70,
   "metadata": {},
   "outputs": [],
   "source": [
    "sid_list_L = [s for s in sid_list if s[:3] == 'NEL']\n",
    "sid_list_R = [s for s in sid_list if s[:3] == 'NER']\n",
    "sid_list_W = [s for s in sid_list if s[:3] == 'NEW']\n",
    "sid_list_S = [s for s in sid_list if s[:3] == 'NES']"
   ]
  },
  {
   "cell_type": "code",
   "execution_count": 71,
   "metadata": {},
   "outputs": [
    {
     "name": "stdout",
     "output_type": "stream",
     "text": [
      "50 47 163 66\n"
     ]
    }
   ],
   "source": [
    "print(len(sid_list_L), len(sid_list_R), len(sid_list_W), len(sid_list_S))"
   ]
  },
  {
   "cell_type": "code",
   "execution_count": null,
   "metadata": {},
   "outputs": [],
   "source": [
    "file, csid, cusr, cans, sort_by = 'Asteria_Eng_ver5', 'SkillID', 'CustomerNumber', 'AnswerResult', 'LearningDateTime'\n",
    "outfile_name='Asteria_Eng_ver5_sorted_scat'\n",
    "\n",
    "dirname = os.path.dirname('./')\n",
    "infname = os.path.join(dirname, f'raw_input/{file}.csv')\n",
    "\n",
    "with codecs.open(infname, 'r', 'utf-8', 'ignore') as f:\n",
    "    df = pd.read_csv(f)\n",
    "    print(df.columns)\n",
    "\n",
    "for skill_cat in {'NEL', 'NER', 'NES', 'NEW'}:\n",
    "    outfname = os.path.join(dirname, f'input/{outfile_name if outfile_name else file}_{skill_cat}.pickle')\n",
    "    outdicname = os.path.join(dirname, f'input/{outfile_name if outfile_name else file}_{skill_cat}_dic.pickle')\n",
    "    # order_id,assignment_id,user_id,assistment_id,problem_id,original,correct,attempt_count,ms_first_response,tutor_mode,answer_type,sequence_id,student_class_id,position,type,base_sequence_id,skill_id,skill_name,teacher_id,school_id,hint_count,hint_total,overlap_time,template_id,answer_id,answer_text,first_action,bottom_hint,opportunity,opportunity_original\n",
    "    print(infname)\n",
    "\n",
    "    if sort_by:\n",
    "        df = df.sort_values(by=sort_by)\n",
    "\n",
    "    it = iter(id_generator())\n",
    "\n",
    "    processed = defaultdict(list)\n",
    "\n",
    "    sc_df = df[df['SkillID'].map(lambda x: x[:3]) == skill_cat]\n",
    "    for idx, row in sc_df.iterrows():\n",
    "        # nanは無視する\n",
    "        sid = row[csid]\n",
    "        usr = row[cusr]\n",
    "        ans = row[cans]\n",
    "\n",
    "        if pd.isnull(sid) or pd.isnull(ans) or pd.isnull(usr):\n",
    "            continue\n",
    "        # processed[row.user_id].append((problems[row.problem_id], row.correct))\n",
    "        processed[usr].append((sid_list[sid], ans))\n",
    "\n",
    "    print('Skill Category:', skill_cat)\n",
    "    print('Skills:', len(problems))\n",
    "    print('Students:', len(processed))\n",
    "    print('=====================')\n",
    "\n",
    "    # Save processed data\n",
    "    with open(outfname, 'wb') as f:\n",
    "        pickle.dump(dict(processed), f)\n",
    "    with open(outdicname, 'wb') as f:\n",
    "        pickle.dump(dict(problems), f)"
   ]
  },
  {
   "cell_type": "code",
   "execution_count": 7,
   "metadata": {},
   "outputs": [],
   "source": [
    "def id_generator():\n",
    "    n = 0\n",
    "    while True:\n",
    "        yield n\n",
    "        n += 1\n",
    "\n",
    "\n",
    "file, csid, cusr, cans, sort_by = 'Asteria_Eng_ver5', 'SkillID', 'CustomerNumber', 'AnswerResult', 'LearningDateTime'\n",
    "outfile_name='Asteria_Eng_ver5_sorted'\n",
    "\n",
    "dirname = os.path.dirname('./')\n",
    "infname = os.path.join(dirname, f'raw_input/{file}.csv')\n",
    "\n",
    "with codecs.open(infname, 'r', 'utf-8', 'ignore') as f:\n",
    "    df = pd.read_csv(f)\n",
    "    print(df.columns)\n",
    "\n",
    "outfname = os.path.join(dirname, f'input/{outfile_name if outfile_name else file}.pickle')\n",
    "outdicname = os.path.join(dirname, f'input/{outfile_name if outfile_name else file}_dic.pickle')\n",
    "# order_id,assignment_id,user_id,assistment_id,problem_id,original,correct,attempt_count,ms_first_response,tutor_mode,answer_type,sequence_id,student_class_id,position,type,base_sequence_id,skill_id,skill_name,teacher_id,school_id,hint_count,hint_total,overlap_time,template_id,answer_id,answer_text,first_action,bottom_hint,opportunity,opportunity_original\n",
    "print(infname)\n",
    "\n",
    "if sort_by:\n",
    "    df = df.sort_values(by=sort_by)\n",
    "\n",
    "it = iter(id_generator())\n",
    "\n",
    "processed = defaultdict(list)\n",
    "problems = defaultdict(lambda: next(it))\n",
    "\n",
    "for idx, row in df.iterrows():\n",
    "    # nanは無視する\n",
    "    sid = row[csid]\n",
    "    usr = row[cusr]\n",
    "    ans = row[cans]\n",
    "\n",
    "    if pd.isnull(sid) or pd.isnull(ans) or pd.isnull(usr):\n",
    "        continue\n",
    "    # processed[row.user_id].append((problems[row.problem_id], row.correct))\n",
    "    processed[usr].append((sid_dict[sid], ans))\n",
    "\n",
    "print('Skills:', len(sid_list))\n",
    "print('Students:', len(processed))\n",
    "\n",
    "# Save processed data\n",
    "with open(outfname, 'wb') as f:\n",
    "    pickle.dump(dict(processed), f)\n",
    "with open(outdicname, 'wb') as f:\n",
    "    pickle.dump(sid_list, f)"
   ]
  },
  {
   "cell_type": "code",
   "execution_count": 12,
   "metadata": {},
   "outputs": [],
   "source": [
    "processed2 = {k: sorted(v, key=lambda x: x[0]) for k, v in processed.items()}"
   ]
  },
  {
   "cell_type": "code",
   "execution_count": 13,
   "metadata": {},
   "outputs": [
    {
     "data": {
      "text/plain": [
       "'./input/Asteria_Eng_ver5_sorted.pickle'"
      ]
     },
     "execution_count": 13,
     "metadata": {},
     "output_type": "execute_result"
    }
   ],
   "source": [
    "outfname"
   ]
  },
  {
   "cell_type": "code",
   "execution_count": 14,
   "metadata": {},
   "outputs": [],
   "source": [
    "# Save processed data\n",
    "with open('./input/Asteria_Eng_ver5_sorted2.pickle', 'wb') as f:\n",
    "    pickle.dump(dict(processed2), f)"
   ]
  },
  {
   "cell_type": "code",
   "execution_count": 27,
   "metadata": {},
   "outputs": [
    {
     "data": {
      "image/png": "[encoded data removed]",
      "text/plain": [
       "<Figure size 432x288 with 1 Axes>"
      ]
     },
     "metadata": {},
     "output_type": "display_data"
    }
   ],
   "source": [
    "import numpy as np\n",
    "import matplotlib.pyplot as plt\n",
    "import seaborn as sns\n",
    "sns.set()\n",
    "\n",
    "for i, (k, v) in enumerate(processed.items()):\n",
    "#     print([x[0] for x in v])\n",
    "    sns.lineplot(data=np.array([x[0] for x in v]))\n",
    "    if i > 200:\n",
    "        break"
   ]
  },
  {
   "cell_type": "code",
   "execution_count": 67,
   "metadata": {},
   "outputs": [
    {
     "name": "stdout",
     "output_type": "stream",
     "text": [
      "7314 / 54998\n"
     ]
    }
   ],
   "source": [
    "processed3 = defaultdict(list)\n",
    "for uid, seq in processed.items():\n",
    "    i = 0\n",
    "    prev = [seq[0][0]]\n",
    "    for x in seq:\n",
    "        curr = x[0]\n",
    "        size = min(2, len(prev))\n",
    "        \n",
    "        if curr == prev[-1]:\n",
    "            # 同じスキルの繰り返し\n",
    "            pass\n",
    "        elif len(prev) > 1 and curr == prev[-2]:\n",
    "            # Newtonにより？復習をしている\n",
    "#             print(prev[-size:], curr)\n",
    "            continue\n",
    "        elif curr < prev[-1]:\n",
    "            # 直前のスキルを復習している訳ではないが，若いスキル番号に遷移している\n",
    "            i += 1\n",
    "            prev = [x[0]]\n",
    "        else:\n",
    "            # より大きいスキルIDに移った\n",
    "            prev.append(curr)\n",
    "#         print(prev, x)\n",
    "        processed3[str(uid) +'_'+ str(i)].append(x)\n",
    "#     break\n",
    "# print(processed3)\n",
    "p3_lens = np.array([len(v) for v in processed3.values()])\n",
    "print(f'{sum(p3_lens > 20)} / {len(p3_lens)}')"
   ]
  },
  {
   "cell_type": "code",
   "execution_count": 68,
   "metadata": {},
   "outputs": [],
   "source": [
    "# Save processed data\n",
    "with open('./input/Asteria_Eng_ver5_sorted3.pickle', 'wb') as f:\n",
    "    pickle.dump(dict(processed3), f)\n",
    "with open('./input/Asteria_Eng_ver5_sorted3.txt', 'w') as f:\n",
    "    for usr, seq in processed3.items():\n",
    "        f.write('{}\\n'.format(usr))\n",
    "        problems = ','.join([str(qa[0]) for qa in seq])\n",
    "        answers = ','.join([str(qa[1]) for qa in seq])\n",
    "        f.write('{}\\n'.format(problems))\n",
    "        f.write('{}\\n'.format(answers))"
   ]
  },
  {
   "cell_type": "code",
   "execution_count": null,
   "metadata": {},
   "outputs": [],
   "source": []
  },
  {
   "cell_type": "code",
   "execution_count": 58,
   "metadata": {},
   "outputs": [
    {
     "name": "stdout",
     "output_type": "stream",
     "text": [
      "1802 / 2553\n"
     ]
    }
   ],
   "source": [
    "processed4 = defaultdict(list)\n",
    "for uid, seq in processed.items():\n",
    "    i = 0\n",
    "    prev = [seq[0][0]]\n",
    "    for x in seq:\n",
    "        curr = x[0]\n",
    "        size = min(2, len(prev))\n",
    "        \n",
    "        if curr == prev[-1]:\n",
    "            # 同じスキルの繰り返し\n",
    "            pass\n",
    "        elif len(prev) > 1 and curr == prev[-2]:\n",
    "            # Newtonにより？復習をしている\n",
    "#             print(prev[-size:], curr)\n",
    "            continue\n",
    "        elif curr < prev[-1]:\n",
    "            # 直前のスキルを復習している訳ではないが，若いスキル番号に遷移している\n",
    "#             i += 1\n",
    "#             prev = [x[0]]\n",
    "            prev.append(curr)\n",
    "        else:\n",
    "            # より大きいスキルIDに移った\n",
    "            prev.append(curr)\n",
    "#         print(prev, x)\n",
    "        processed4[uid].append(x)\n",
    "#     break\n",
    "# print(processed4)\n",
    "p4_lens = np.array([len(v) for v in processed4.values()])\n",
    "print(f'{sum(p4_lens > 20)} / {len(p4_lens)}')"
   ]
  },
  {
   "cell_type": "code",
   "execution_count": 60,
   "metadata": {},
   "outputs": [],
   "source": [
    "# Save processed data\n",
    "with open('./input/Asteria_Eng_ver5_sorted4.pickle', 'wb') as f:\n",
    "    pickle.dump(dict(processed4), f)"
   ]
  },
  {
   "cell_type": "code",
   "execution_count": null,
   "metadata": {},
   "outputs": [],
   "source": []
  },
  {
   "cell_type": "code",
   "execution_count": 63,
   "metadata": {},
   "outputs": [
    {
     "name": "stdout",
     "output_type": "stream",
     "text": [
      "9355 / 54998\n"
     ]
    }
   ],
   "source": [
    "processed5 = defaultdict(list)\n",
    "for uid, seq in processed.items():\n",
    "    i = 0\n",
    "    prev = [seq[0][0]]\n",
    "    for x in seq:\n",
    "        curr = x[0]\n",
    "        size = min(2, len(prev))\n",
    "        \n",
    "        if curr == prev[-1]:\n",
    "            # 同じスキルの繰り返し\n",
    "            pass\n",
    "        elif len(prev) > 1 and curr == prev[-2]:\n",
    "            # Newtonにより？復習をしている\n",
    "#             print(prev[-size:], curr)\n",
    "            pass\n",
    "        elif curr < prev[-1]:\n",
    "            # 直前のスキルを復習している訳ではないが，若いスキル番号に遷移している\n",
    "            i += 1\n",
    "            prev = [x[0]]\n",
    "        else:\n",
    "            # より大きいスキルIDに移った\n",
    "            prev.append(curr)\n",
    "#         print(prev, x)\n",
    "        processed5[str(uid) +'_'+ str(i)].append(x)\n",
    "#     break\n",
    "# print(processed5)\n",
    "p_lens = np.array([len(v) for v in processed5.values()])\n",
    "print(f'{sum(p_lens > 20)} / {len(p_lens)}')"
   ]
  },
  {
   "cell_type": "code",
   "execution_count": 66,
   "metadata": {},
   "outputs": [],
   "source": [
    "# Save processed data\n",
    "with open('./input/Asteria_Eng_ver5_sorted5.pickle', 'wb') as f:\n",
    "    pickle.dump(dict(processed5), f)\n",
    "with open('./input/Asteria_Eng_ver5_sorted5.txt', 'w') as f:\n",
    "    for usr, seq in processed5.items():\n",
    "        f.write('{}\\n'.format(usr))\n",
    "        problems = ','.join([str(qa[0]) for qa in seq])\n",
    "        answers = ','.join([str(qa[1]) for qa in seq])\n",
    "        f.write('{}\\n'.format(problems))\n",
    "        f.write('{}\\n'.format(answers))"
   ]
  },
  {
   "cell_type": "code",
   "execution_count": null,
   "metadata": {},
   "outputs": [],
   "source": []
  },
  {
   "cell_type": "code",
   "execution_count": 12,
   "metadata": {},
   "outputs": [
    {
     "name": "stdout",
     "output_type": "stream",
     "text": [
      "NEL\n",
      "1611 / 8028 (20.0673%)\n",
      "104956 / 142765 (73.5166%)\n",
      "NES\n",
      "657 / 15512 (4.2354%)\n",
      "21969 / 103288 (21.2697%)\n",
      "NEW\n",
      "2931 / 17548 (16.7028%)\n",
      "138535 / 234488 (59.0798%)\n",
      "NER\n",
      "1252 / 8836 (14.1693%)\n",
      "86911 / 126212 (68.8611%)\n"
     ]
    }
   ],
   "source": [
    "import pickle\n",
    "\n",
    "# Skill Category: NES\n",
    "# Skills: 66\n",
    "# Students: 1403\n",
    "# =====================\n",
    "# Skill Category: NER\n",
    "# Skills: 47\n",
    "# Students: 1804\n",
    "# =====================\n",
    "# Skill Category: NEW\n",
    "# Skills: 163\n",
    "# Students: 1593\n",
    "# =====================\n",
    "# Skill Category: NEL\n",
    "# Skills: 50\n",
    "# Students: 1921\n",
    "\n",
    "for cate in ['NEL', 'NES', 'NEW', 'NER']:\n",
    "    with open('./input/Asteria_Eng_ver5_{}.pickle'.format(cate), 'br') as f:\n",
    "        processed_CATE = pickle.load(f)\n",
    "\n",
    "    processed6 = defaultdict(list)\n",
    "    for uid, seq in processed_CATE.items():\n",
    "        i = 0\n",
    "        prev = [seq[0][0]]\n",
    "        for x in seq:\n",
    "            curr = x[0]\n",
    "            size = min(2, len(prev))\n",
    "\n",
    "            if curr == prev[-1]:\n",
    "                # 同じスキルの繰り返し\n",
    "                pass\n",
    "            elif len(prev) > 1 and curr == prev[-2]:\n",
    "                # Newtonにより？復習をしている\n",
    "    #             print(prev[-size:], curr)\n",
    "                continue\n",
    "            elif curr < prev[-1]:\n",
    "                # 直前のスキルを復習している訳ではないが，若いスキル番号に遷移している\n",
    "                i += 1\n",
    "                prev = [x[0]]\n",
    "            else:\n",
    "                # より大きいスキルIDに移った\n",
    "                prev.append(curr)\n",
    "    #         print(prev, x)\n",
    "            processed6[str(uid) +'_'+ str(i)].append(x)\n",
    "    #     break\n",
    "    # print(processed6)\n",
    "    p_lens = np.array([len(v) for v in processed6.values()])\n",
    "    print(cate)\n",
    "    print(f'{sum(p_lens > 20)} / {len(p_lens)} ({100 * sum(p_lens > 20) / len(p_lens):.4f}%)')\n",
    "    print(f'{np.sum(p_lens[p_lens > 20])} / {np.sum(p_lens)} ({100 * np.sum(p_lens[p_lens > 20]) / np.sum(p_lens):.4f}%)')\n",
    "\n",
    "    with open('./input/Asteria_Eng_ver5_sorted6_{}.pickle'.format(cate), 'wb') as f:\n",
    "        pickle.dump(dict(processed6), f)"
   ]
  },
  {
   "cell_type": "code",
   "execution_count": null,
   "metadata": {},
   "outputs": [],
   "source": []
  }
 ],
 "metadata": {
  "kernelspec": {
   "display_name": "Python 3",
   "language": "python",
   "name": "python3"
  },
  "language_info": {
   "codemirror_mode": {
    "name": "ipython",
    "version": 3
   },
   "file_extension": ".py",
   "mimetype": "text/x-python",
   "name": "python",
   "nbconvert_exporter": "python",
   "pygments_lexer": "ipython3",
   "version": "3.7.3"
  }
 },
 "nbformat": 4,
 "nbformat_minor": 2
}
