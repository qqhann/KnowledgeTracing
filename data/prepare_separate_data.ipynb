{
 "cells": [
  {
   "cell_type": "code",
   "execution_count": 1,
   "metadata": {},
   "outputs": [],
   "source": [
    "import codecs\n",
    "import os\n",
    "from collections import defaultdict\n",
    "import pickle\n",
    "import numpy as np\n",
    "\n",
    "import pandas as pd"
   ]
  },
  {
   "cell_type": "code",
   "execution_count": 11,
   "metadata": {},
   "outputs": [],
   "source": [
    "def run(file, csid, cusr, cans, sort_by):\n",
    "    dirname = os.path.dirname(\"./\")\n",
    "#     dirname = os.path.dirname(__file__)\n",
    "    infname = os.path.join(dirname, f'raw_input/{file}.csv')\n",
    "    with codecs.open(infname, 'r', 'utf-8', 'ignore') as f:\n",
    "        df = pd.read_csv(f)\n",
    "        print(df.columns)\n",
    "    print(df['CustomerNumber'].value_counts())"
   ]
  },
  {
   "cell_type": "code",
   "execution_count": null,
   "metadata": {},
   "outputs": [],
   "source": [
    "run('Asteria_Eng_ver5', 'SkillID', 'CustomerNumber', 'AnswerResult', 'LearningDateTime')"
   ]
  },
  {
   "cell_type": "code",
   "execution_count": 2,
   "metadata": {},
   "outputs": [
    {
     "name": "stdout",
     "output_type": "stream",
     "text": [
      "Index(['Unnamed: 0', 'SEQ', 'CustomerNumber', 'LearningDateTime',\n",
      "       'ResourceNumber', 'SkillID', 'AnswerResult'],\n",
      "      dtype='object')\n"
     ]
    }
   ],
   "source": [
    "file = 'Asteria_Eng_ver5'\n",
    "\n",
    "dirname = os.path.dirname(\"./\")\n",
    "infname = os.path.join(dirname, f'raw_input/{file}.csv')\n",
    "with codecs.open(infname, 'r', 'utf-8', 'ignore') as f:\n",
    "    df = pd.read_csv(f)\n",
    "    print(df.columns)"
   ]
  },
  {
   "cell_type": "code",
   "execution_count": 27,
   "metadata": {},
   "outputs": [],
   "source": [
    "skill_counts = df['SkillID'].value_counts()"
   ]
  },
  {
   "cell_type": "code",
   "execution_count": 28,
   "metadata": {},
   "outputs": [],
   "source": [
    "skill_remove = skill_counts[skill_counts <= 200].index"
   ]
  },
  {
   "cell_type": "code",
   "execution_count": 29,
   "metadata": {},
   "outputs": [],
   "source": [
    "df.replace(skill_remove, np.nan, inplace=True)"
   ]
  },
  {
   "cell_type": "code",
   "execution_count": 16,
   "metadata": {},
   "outputs": [
    {
     "data": {
      "text/plain": [
       "724052"
      ]
     },
     "execution_count": 16,
     "metadata": {},
     "output_type": "execute_result"
    }
   ],
   "source": [
    "len(df)"
   ]
  },
  {
   "cell_type": "code",
   "execution_count": 3,
   "metadata": {},
   "outputs": [
    {
     "name": "stdout",
     "output_type": "stream",
     "text": [
      "139275\n",
      "165070\n",
      "279035\n",
      "140672\n"
     ]
    }
   ],
   "source": [
    "# scs = dict()\n",
    "# for i, row in df.iterrows():\n",
    "#     skill_category = row['SkillID'][:3]\n",
    "#     if skill_category not in scs:\n",
    "#         scs[skill_category] = 1\n",
    "#     else:\n",
    "#         scs[skill_category] += 1\n",
    "        \n",
    "# print(scs)\n",
    "\n",
    "# set(df['SkillID'].map(lambda x: x[:3]))\n",
    "# => {'NEL', 'NER', 'NES', 'NEW'}\n",
    "skill_cats = {'NEL', 'NER', 'NES', 'NEW'}\n",
    "for skill_cat in skill_cats:\n",
    "    sc_df = df[df['SkillID'].map(lambda x: x[:3]) == skill_cat]\n",
    "    print(len(sc_df))"
   ]
  },
  {
   "cell_type": "code",
   "execution_count": 4,
   "metadata": {},
   "outputs": [
    {
     "name": "stdout",
     "output_type": "stream",
     "text": [
      "Index(['Unnamed: 0', 'SEQ', 'CustomerNumber', 'LearningDateTime',\n",
      "       'ResourceNumber', 'SkillID', 'AnswerResult'],\n",
      "      dtype='object')\n",
      "./raw_input/Asteria_Eng_ver5.csv\n",
      "Skill Category: NES\n",
      "Skills: 66\n",
      "Students: 1403\n",
      "=====================\n",
      "./raw_input/Asteria_Eng_ver5.csv\n",
      "Skill Category: NEL\n",
      "Skills: 50\n",
      "Students: 1921\n",
      "=====================\n",
      "./raw_input/Asteria_Eng_ver5.csv\n",
      "Skill Category: NEW\n",
      "Skills: 163\n",
      "Students: 1593\n",
      "=====================\n",
      "./raw_input/Asteria_Eng_ver5.csv\n",
      "Skill Category: NER\n",
      "Skills: 47\n",
      "Students: 1804\n",
      "=====================\n"
     ]
    }
   ],
   "source": [
    "def id_generator():\n",
    "    n = 0\n",
    "    while True:\n",
    "        yield n\n",
    "        n += 1\n",
    "\n",
    "\n",
    "file, csid, cusr, cans, sort_by = 'Asteria_Eng_ver5', 'SkillID', 'CustomerNumber', 'AnswerResult', 'LearningDateTime'\n",
    "outfile_name=''\n",
    "\n",
    "dirname = os.path.dirname('./')\n",
    "infname = os.path.join(dirname, f'raw_input/{file}.csv')\n",
    "\n",
    "with codecs.open(infname, 'r', 'utf-8', 'ignore') as f:\n",
    "    df = pd.read_csv(f)\n",
    "    print(df.columns)\n",
    "\n",
    "for skill_cat in {'NEL', 'NER', 'NES', 'NEW'}:\n",
    "    outfname = os.path.join(dirname, f'input/{outfile_name if outfile_name else file}_{skill_cat}.pickle')\n",
    "    outdicname = os.path.join(dirname, f'input/{outfile_name if outfile_name else file}_{skill_cat}_dic.pickle')\n",
    "    # order_id,assignment_id,user_id,assistment_id,problem_id,original,correct,attempt_count,ms_first_response,tutor_mode,answer_type,sequence_id,student_class_id,position,type,base_sequence_id,skill_id,skill_name,teacher_id,school_id,hint_count,hint_total,overlap_time,template_id,answer_id,answer_text,first_action,bottom_hint,opportunity,opportunity_original\n",
    "    print(outfname)\n",
    "\n",
    "    if sort_by:\n",
    "        df = df.sort_values(by=sort_by)\n",
    "\n",
    "    it = iter(id_generator())\n",
    "\n",
    "    processed = defaultdict(list)\n",
    "    problems = defaultdict(lambda: next(it))\n",
    "\n",
    "    sc_df = df[df['SkillID'].map(lambda x: x[:3]) == skill_cat]\n",
    "    for idx, row in sc_df.iterrows():\n",
    "        # nanは無視する\n",
    "        sid = row[csid]\n",
    "        usr = row[cusr]\n",
    "        ans = row[cans]\n",
    "\n",
    "        if pd.isnull(sid) or pd.isnull(ans) or pd.isnull(usr):\n",
    "            continue\n",
    "        # processed[row.user_id].append((problems[row.problem_id], row.correct))\n",
    "        processed[usr].append((problems[sid], ans))\n",
    "\n",
    "    print('Skill Category:', skill_cat)\n",
    "    print('Skills:', len(problems))\n",
    "    print('Students:', len(processed))\n",
    "    print('=====================')\n",
    "\n",
    "    # Save processed data\n",
    "    with open(outfname, 'wb') as f:\n",
    "        pickle.dump(dict(processed), f)\n",
    "    with open(outdicname, 'wb') as f:\n",
    "        pickle.dump(dict(problems), f)"
   ]
  },
  {
   "cell_type": "code",
   "execution_count": null,
   "metadata": {},
   "outputs": [],
   "source": []
  }
 ],
 "metadata": {
  "kernelspec": {
   "display_name": "Python 3",
   "language": "python",
   "name": "python3"
  },
  "language_info": {
   "codemirror_mode": {
    "name": "ipython",
    "version": 3
   },
   "file_extension": ".py",
   "mimetype": "text/x-python",
   "name": "python",
   "nbconvert_exporter": "python",
   "pygments_lexer": "ipython3",
   "version": "3.7.4"
  }
 },
 "nbformat": 4,
 "nbformat_minor": 4
}
