{
 "cells": [
  {
   "cell_type": "code",
   "execution_count": 22,
   "metadata": {},
   "outputs": [],
   "source": [
    "import codecs\n",
    "import os\n",
    "from collections import defaultdict\n",
    "import pickle\n",
    "import numpy as np\n",
    "\n",
    "import pandas as pd"
   ]
  },
  {
   "cell_type": "code",
   "execution_count": 11,
   "metadata": {},
   "outputs": [],
   "source": [
    "def run(file, csid, cusr, cans, sort_by):\n",
    "    dirname = os.path.dirname(\"./\")\n",
    "#     dirname = os.path.dirname(__file__)\n",
    "    infname = os.path.join(dirname, f'raw_input/{file}.csv')\n",
    "    with codecs.open(infname, 'r', 'utf-8', 'ignore') as f:\n",
    "        df = pd.read_csv(f)\n",
    "        print(df.columns)\n",
    "    print(df['CustomerNumber'].value_counts())"
   ]
  },
  {
   "cell_type": "code",
   "execution_count": null,
   "metadata": {},
   "outputs": [],
   "source": [
    "run('Asteria_Eng_ver5', 'SkillID', 'CustomerNumber', 'AnswerResult', 'LearningDateTime')"
   ]
  },
  {
   "cell_type": "code",
   "execution_count": 14,
   "metadata": {},
   "outputs": [
    {
     "name": "stdout",
     "output_type": "stream",
     "text": [
      "Index(['Unnamed: 0', 'SEQ', 'CustomerNumber', 'LearningDateTime',\n",
      "       'ResourceNumber', 'SkillID', 'AnswerResult'],\n",
      "      dtype='object')\n"
     ]
    }
   ],
   "source": [
    "file = 'Asteria_Eng_ver5'\n",
    "\n",
    "dirname = os.path.dirname(\"./\")\n",
    "infname = os.path.join(dirname, f'raw_input/{file}.csv')\n",
    "with codecs.open(infname, 'r', 'utf-8', 'ignore') as f:\n",
    "    df = pd.read_csv(f)\n",
    "    print(df.columns)"
   ]
  },
  {
   "cell_type": "code",
   "execution_count": 19,
   "metadata": {},
   "outputs": [],
   "source": [
    "value_counts = df['CustomerNumber'].value_counts()"
   ]
  },
  {
   "cell_type": "code",
   "execution_count": 20,
   "metadata": {},
   "outputs": [],
   "source": [
    "threshold = 100\n",
    "to_remove = value_counts[value_counts <= threshold].index"
   ]
  },
  {
   "cell_type": "code",
   "execution_count": 23,
   "metadata": {},
   "outputs": [],
   "source": [
    "df.replace(to_remove, np.nan, inplace=True)"
   ]
  },
  {
   "cell_type": "code",
   "execution_count": 24,
   "metadata": {},
   "outputs": [
    {
     "data": {
      "text/plain": [
       "801490604W    7133\n",
       "8014952070    7012\n",
       "8015748647    5783\n",
       "801574005U    5016\n",
       "8015556655    4689\n",
       "8015607966    4622\n",
       "801577104X    4480\n",
       "8014865837    4393\n",
       "8014865859    4393\n",
       "801578200V    4179\n",
       "8014689178    4115\n",
       "8014963757    3983\n",
       "801497539A    3799\n",
       "8015487726    3739\n",
       "801582613Y    3661\n",
       "8015691420    3630\n",
       "801574053X    3627\n",
       "801596683A    3590\n",
       "801582610V    3574\n",
       "801495487A    3531\n",
       "801257230S    3463\n",
       "801325743X    3278\n",
       "801504153R    3266\n",
       "801550404R    3166\n",
       "801561049Y    3059\n",
       "801577964B    2984\n",
       "801575597B    2916\n",
       "801481930Y    2895\n",
       "8015877369    2798\n",
       "801577025Z    2635\n",
       "              ... \n",
       "8015648804     109\n",
       "8015731795     109\n",
       "8014946589     108\n",
       "801560229X     108\n",
       "801542128V     108\n",
       "801575120T     107\n",
       "801597789I     107\n",
       "801543911W     107\n",
       "8015524380     106\n",
       "8014935431     106\n",
       "8015738264     105\n",
       "8014903481     105\n",
       "8015626732     105\n",
       "8014940954     104\n",
       "801587301X     104\n",
       "801623725Y     104\n",
       "801512981Z     104\n",
       "801273158Z     104\n",
       "8015780935     103\n",
       "8016175721     102\n",
       "8015514851     102\n",
       "8014963331     102\n",
       "8014930740     102\n",
       "8014891555     102\n",
       "801372392Z     102\n",
       "8015515571     102\n",
       "8014459476     101\n",
       "8015766524     101\n",
       "801550727Z     101\n",
       "801493210S     101\n",
       "Name: CustomerNumber, Length: 1070, dtype: int64"
      ]
     },
     "execution_count": 24,
     "metadata": {},
     "output_type": "execute_result"
    }
   ],
   "source": [
    "df['CustomerNumber'].value_counts()"
   ]
  },
  {
   "cell_type": "code",
   "execution_count": 25,
   "metadata": {},
   "outputs": [
    {
     "data": {
      "text/plain": [
       "676700"
      ]
     },
     "execution_count": 25,
     "metadata": {},
     "output_type": "execute_result"
    }
   ],
   "source": [
    "df['CustomerNumber'].count()"
   ]
  },
  {
   "cell_type": "code",
   "execution_count": 27,
   "metadata": {},
   "outputs": [],
   "source": [
    "skill_counts = df['SkillID'].value_counts()"
   ]
  },
  {
   "cell_type": "code",
   "execution_count": 28,
   "metadata": {},
   "outputs": [],
   "source": [
    "skill_remove = skill_counts[skill_counts <= 200].index"
   ]
  },
  {
   "cell_type": "code",
   "execution_count": 29,
   "metadata": {},
   "outputs": [],
   "source": [
    "df.replace(skill_remove, np.nan, inplace=True)"
   ]
  },
  {
   "cell_type": "code",
   "execution_count": 30,
   "metadata": {},
   "outputs": [
    {
     "data": {
      "text/plain": [
       "NER01L01    15252\n",
       "NEL01L03    13267\n",
       "NEW01L01    13109\n",
       "NEL01L02    12552\n",
       "NEW01L04    11944\n",
       "NER01L02    11785\n",
       "NES01L01    11766\n",
       "NEW04L01    11251\n",
       "NEL02L01    11218\n",
       "NEW01L02    10842\n",
       "NES01M01    10510\n",
       "NEL01L05    10414\n",
       "NER02L02     9540\n",
       "NER01L03     9345\n",
       "NEL02L03     9105\n",
       "NER02L01     8984\n",
       "NEW01L05     8850\n",
       "NEL03L02     8492\n",
       "NEL03L01     8315\n",
       "NER03L01     7873\n",
       "NER04L01     7861\n",
       "NEW02L01     7687\n",
       "NEL01L04     7676\n",
       "NEL01L01     7311\n",
       "NER02L03     7238\n",
       "NER01L04     7010\n",
       "NEW02L03     6973\n",
       "NER03L02     6959\n",
       "NEL04L01     6759\n",
       "NEW02L02     6680\n",
       "            ...  \n",
       "NEW03M03      338\n",
       "NES06M04      331\n",
       "NES06M06      329\n",
       "NEW05L22      326\n",
       "NEW06L24      304\n",
       "NES06M05      303\n",
       "NER06L02      293\n",
       "NEL06L03      291\n",
       "NEW06L05      289\n",
       "NEW01LA2      285\n",
       "NEW06L04      282\n",
       "NEW04M04      281\n",
       "NEW04M03      280\n",
       "NER07L02      277\n",
       "NEW06L23      276\n",
       "NEL07L01      264\n",
       "NES06L05      261\n",
       "NEL08L01      261\n",
       "NEL07L02      252\n",
       "NEL01LA2      248\n",
       "NEW06L09      246\n",
       "NER08L01      243\n",
       "NEL07L04      236\n",
       "NEW05M02      234\n",
       "NEW05L29      223\n",
       "NER06L05      208\n",
       "NER09L01      204\n",
       "NEL07L05      204\n",
       "NEW04M05      202\n",
       "NEW05M03      201\n",
       "Name: SkillID, Length: 271, dtype: int64"
      ]
     },
     "execution_count": 30,
     "metadata": {},
     "output_type": "execute_result"
    }
   ],
   "source": [
    "df['SkillID'].value_counts()"
   ]
  },
  {
   "cell_type": "code",
   "execution_count": 44,
   "metadata": {},
   "outputs": [],
   "source": [
    "df.to_csv(\"raw_input/Asteria_Eng_reduce_ver2.csv\", index=False)"
   ]
  },
  {
   "cell_type": "code",
   "execution_count": 34,
   "metadata": {},
   "outputs": [
    {
     "data": {
      "text/plain": [
       "NEL01L02A011    1994\n",
       "NEL01L02A071    1213\n",
       "NEL01L02A021    1212\n",
       "NEL01L05A051    1189\n",
       "NEL01L02A031    1182\n",
       "NEL01L02A041    1179\n",
       "NEL01L02A091    1173\n",
       "NEL01L02A081    1168\n",
       "NEL01L02A051    1148\n",
       "NEL01L02A061    1144\n",
       "NEL01L02A101    1139\n",
       "NEL01L05A031    1134\n",
       "NER01L01A101    1125\n",
       "NEL01L05A041    1115\n",
       "NEL01L05A021    1113\n",
       "NEL01L05A091    1106\n",
       "NEL01L01A011    1099\n",
       "NER01L01A091    1079\n",
       "NER01L01A151    1068\n",
       "NER01L01A041    1054\n",
       "NEL01L03A021    1040\n",
       "NER01L01A061    1029\n",
       "NEL01L03A011    1027\n",
       "NER01L01A081    1027\n",
       "NES01L01A121    1022\n",
       "NER01L01A051    1020\n",
       "NER01L01A031    1007\n",
       "NER01L01A141    1005\n",
       "NER01L01A011    1000\n",
       "NEL01L05A011     980\n",
       "                ... \n",
       "NEW05L06C011       2\n",
       "NEW04L15C011       2\n",
       "NEW06L07C011       2\n",
       "NEW06M04B071       2\n",
       "NEW06L19B131       2\n",
       "NEW06L19B061       2\n",
       "NEW02L11C011       2\n",
       "NEW06L16B081       2\n",
       "NEW05L15C011       2\n",
       "NEW06L05C011       2\n",
       "NEW05L18C011       2\n",
       "NER06L02B061       2\n",
       "NER06L02B101       2\n",
       "NEW06L21A231       2\n",
       "NER06L02B071       2\n",
       "NEW04L04C011       2\n",
       "NEW06M05B111       2\n",
       "NEW01L04C011       2\n",
       "NEL09L04Q011       2\n",
       "NEW06L20C011       2\n",
       "NEW01L11C011       2\n",
       "NEW06M05B021       2\n",
       "NEW06L18C011       2\n",
       "NEW05L27C011       2\n",
       "NEW05L29C011       2\n",
       "NEW06L10C011       2\n",
       "NEW04L20C011       2\n",
       "NEW05L30C011       2\n",
       "NER06L03Q031       1\n",
       "NER06L03Q021       1\n",
       "Name: ResourceNumber, Length: 4430, dtype: int64"
      ]
     },
     "execution_count": 34,
     "metadata": {},
     "output_type": "execute_result"
    }
   ],
   "source": [
    "df['ResourceNumber'].value_counts()"
   ]
  },
  {
   "cell_type": "code",
   "execution_count": 40,
   "metadata": {},
   "outputs": [],
   "source": [
    "resource_counts = df['ResourceNumber'].value_counts()"
   ]
  },
  {
   "cell_type": "code",
   "execution_count": 41,
   "metadata": {},
   "outputs": [],
   "source": [
    "resource_remove = resource_counts[resource_counts <= 300].index"
   ]
  },
  {
   "cell_type": "code",
   "execution_count": 42,
   "metadata": {},
   "outputs": [],
   "source": [
    "df.replace(resource_remove, np.nan, inplace=True)"
   ]
  },
  {
   "cell_type": "code",
   "execution_count": 43,
   "metadata": {},
   "outputs": [
    {
     "data": {
      "text/plain": [
       "NEL01L02A011    1994\n",
       "NEL01L02A071    1213\n",
       "NEL01L02A021    1212\n",
       "NEL01L05A051    1189\n",
       "NEL01L02A031    1182\n",
       "NEL01L02A041    1179\n",
       "NEL01L02A091    1173\n",
       "NEL01L02A081    1168\n",
       "NEL01L02A051    1148\n",
       "NEL01L02A061    1144\n",
       "NEL01L02A101    1139\n",
       "NEL01L05A031    1134\n",
       "NER01L01A101    1125\n",
       "NEL01L05A041    1115\n",
       "NEL01L05A021    1113\n",
       "NEL01L05A091    1106\n",
       "NEL01L01A011    1099\n",
       "NER01L01A091    1079\n",
       "NER01L01A151    1068\n",
       "NER01L01A041    1054\n",
       "NEL01L03A021    1040\n",
       "NER01L01A061    1029\n",
       "NER01L01A081    1027\n",
       "NEL01L03A011    1027\n",
       "NES01L01A121    1022\n",
       "NER01L01A051    1020\n",
       "NER01L01A031    1007\n",
       "NER01L01A141    1005\n",
       "NER01L01A011    1000\n",
       "NEL01L05A011     980\n",
       "                ... \n",
       "NEW03L01A011     308\n",
       "NEW01L02A201     308\n",
       "NER04L02A041     307\n",
       "NES02M02A061     307\n",
       "NEW03L02A051     307\n",
       "NES01L02A061     306\n",
       "NER04L02A071     306\n",
       "NEL03L03A021     305\n",
       "NEW03L01A021     305\n",
       "NEL03L04A101     305\n",
       "NEW02L04B011     305\n",
       "NES02M01A101     305\n",
       "NEL03L04A061     305\n",
       "NEL01L06A111     304\n",
       "NEL02L04A071     304\n",
       "NEW01L02A391     304\n",
       "NER04L02A151     304\n",
       "NES02M02A111     304\n",
       "NEW01L09A291     303\n",
       "NEW03L01A121     303\n",
       "NEW01M01A051     303\n",
       "NEW04L04A061     303\n",
       "NEW03L03A141     303\n",
       "NER03L04A071     303\n",
       "NEL03L04A091     302\n",
       "NEL02L04A031     302\n",
       "NEL04L02A071     301\n",
       "NEW01M01A201     301\n",
       "NEL03L04A171     301\n",
       "NEL05L01A051     301\n",
       "Name: ResourceNumber, Length: 775, dtype: int64"
      ]
     },
     "execution_count": 43,
     "metadata": {},
     "output_type": "execute_result"
    }
   ],
   "source": [
    "df['ResourceNumber'].value_counts()"
   ]
  },
  {
   "cell_type": "code",
   "execution_count": null,
   "metadata": {},
   "outputs": [],
   "source": []
  }
 ],
 "metadata": {
  "kernelspec": {
   "display_name": "Python 3",
   "language": "python",
   "name": "python3"
  },
  "language_info": {
   "codemirror_mode": {
    "name": "ipython",
    "version": 3
   },
   "file_extension": ".py",
   "mimetype": "text/x-python",
   "name": "python",
   "nbconvert_exporter": "python",
   "pygments_lexer": "ipython3",
   "version": "3.7.3"
  }
 },
 "nbformat": 4,
 "nbformat_minor": 2
}
